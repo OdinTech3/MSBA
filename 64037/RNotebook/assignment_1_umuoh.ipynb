{
 "cells": [
  {
   "cell_type": "markdown",
   "metadata": {},
   "source": [
    "## Problem Satement"
   ]
  },
  {
   "cell_type": "markdown",
   "metadata": {
    "hideCode": false,
    "hidePrompt": false
   },
   "source": [
    "SafeBabies is a large company who is producing car seats for babies and toddlers. They sell their products all over the US and abroad. The management team has hired you as a Business Analytics consultant to help them maximizing their profit.\n",
    "\n",
    "The primary tasks are to determine:\n",
    "1. The optimal price for selling the car seats at those stores where the shelve location is good (i.e. the product is highly visible)?\n",
    "2. The optimal price for selling the car seats at those stores where the shelve location is bad (i.e. the product is highly visible)?\n",
    "3. Plot the optimal price for selling the car seats at those stores where the shelve location is good and those where the shelve location is bad when varying the production costs from \\$40 to \\$85.\n",
    "\n",
    "You have been told that the __cost of producing__ each car seat is \\$55.0."
   ]
  },
  {
   "cell_type": "code",
   "execution_count": 28,
   "metadata": {
    "hideCode": false,
    "hidePrompt": false
   },
   "outputs": [],
   "source": [
    "library(ISLR)\n",
    "library(magrittr)\n",
    "library(dplyr)\n",
    "library(ggplot2)\n",
    "\n",
    "# Change size of graphs globally\n",
    "options(repr.plot.width = 6, repr.plot.height = 5)"
   ]
  },
  {
   "cell_type": "markdown",
   "metadata": {},
   "source": [
    "Our dataset named `safebabies_df` will consist of 3 variables for the 400 stores of SafeBabies."
   ]
  },
  {
   "cell_type": "code",
   "execution_count": 5,
   "metadata": {
    "hideCode": false,
    "hidePrompt": false
   },
   "outputs": [
    {
     "data": {
      "text/html": [
       "<table>\n",
       "<thead><tr><th scope=col>Sales</th><th scope=col>Price</th><th scope=col>ShelveLoc</th></tr></thead>\n",
       "<tbody>\n",
       "\t<tr><td> 9.50 </td><td>120   </td><td>Bad   </td></tr>\n",
       "\t<tr><td>11.22 </td><td> 83   </td><td>Good  </td></tr>\n",
       "\t<tr><td>10.06 </td><td> 80   </td><td>Medium</td></tr>\n",
       "\t<tr><td> 7.40 </td><td> 97   </td><td>Medium</td></tr>\n",
       "\t<tr><td> 4.15 </td><td>128   </td><td>Bad   </td></tr>\n",
       "\t<tr><td>10.81 </td><td> 72   </td><td>Bad   </td></tr>\n",
       "</tbody>\n",
       "</table>\n"
      ],
      "text/latex": [
       "\\begin{tabular}{r|lll}\n",
       " Sales & Price & ShelveLoc\\\\\n",
       "\\hline\n",
       "\t  9.50  & 120    & Bad   \\\\\n",
       "\t 11.22  &  83    & Good  \\\\\n",
       "\t 10.06  &  80    & Medium\\\\\n",
       "\t  7.40  &  97    & Medium\\\\\n",
       "\t  4.15  & 128    & Bad   \\\\\n",
       "\t 10.81  &  72    & Bad   \\\\\n",
       "\\end{tabular}\n"
      ],
      "text/markdown": [
       "\n",
       "| Sales | Price | ShelveLoc |\n",
       "|---|---|---|\n",
       "|  9.50  | 120    | Bad    |\n",
       "| 11.22  |  83    | Good   |\n",
       "| 10.06  |  80    | Medium |\n",
       "|  7.40  |  97    | Medium |\n",
       "|  4.15  | 128    | Bad    |\n",
       "| 10.81  |  72    | Bad    |\n",
       "\n"
      ],
      "text/plain": [
       "  Sales Price ShelveLoc\n",
       "1  9.50 120   Bad      \n",
       "2 11.22  83   Good     \n",
       "3 10.06  80   Medium   \n",
       "4  7.40  97   Medium   \n",
       "5  4.15 128   Bad      \n",
       "6 10.81  72   Bad      "
      ]
     },
     "metadata": {},
     "output_type": "display_data"
    }
   ],
   "source": [
    "safebabies_df <- Carseats %>% select(Sales, Price, ShelveLoc)\n",
    "head(safebabies_df)"
   ]
  },
  {
   "cell_type": "markdown",
   "metadata": {},
   "source": [
    "Using the `summary` function we will produce the 5 number summary of our 3 variables."
   ]
  },
  {
   "cell_type": "code",
   "execution_count": 6,
   "metadata": {
    "hideCode": false,
    "hidePrompt": false
   },
   "outputs": [
    {
     "data": {
      "text/plain": [
       "     Sales            Price        ShelveLoc  \n",
       " Min.   : 0.000   Min.   : 24.0   Bad   : 96  \n",
       " 1st Qu.: 5.390   1st Qu.:100.0   Good  : 85  \n",
       " Median : 7.490   Median :117.0   Medium:219  \n",
       " Mean   : 7.496   Mean   :115.8               \n",
       " 3rd Qu.: 9.320   3rd Qu.:131.0               \n",
       " Max.   :16.270   Max.   :191.0               "
      ]
     },
     "metadata": {},
     "output_type": "display_data"
    }
   ],
   "source": [
    "summary(safebabies_df)"
   ]
  },
  {
   "cell_type": "markdown",
   "metadata": {
    "hideCode": false,
    "hidePrompt": false
   },
   "source": [
    "where\n",
    "* __Sales__ is unit sales (in thousands) at each store location\n",
    "* __Price__ is the price that company charges for car seats at each site\n",
    "* __ShelveLoc__ is a factor with levels Bad, Good and Medium indicating the quality of the shelving location for the car seats at each store."
   ]
  },
  {
   "cell_type": "markdown",
   "metadata": {},
   "source": [
    "Because `Sales` is in thousands we must multiply `Sales` variable by a 1000 before proceeding. "
   ]
  },
  {
   "cell_type": "code",
   "execution_count": 7,
   "metadata": {},
   "outputs": [
    {
     "data": {
      "text/plain": [
       "     Sales           Price        ShelveLoc  \n",
       " Min.   :    0   Min.   : 24.0   Bad   : 96  \n",
       " 1st Qu.: 5390   1st Qu.:100.0   Good  : 85  \n",
       " Median : 7490   Median :117.0   Medium:219  \n",
       " Mean   : 7496   Mean   :115.8               \n",
       " 3rd Qu.: 9320   3rd Qu.:131.0               \n",
       " Max.   :16270   Max.   :191.0               "
      ]
     },
     "metadata": {},
     "output_type": "display_data"
    }
   ],
   "source": [
    "safebabies_df <- safebabies_df %>% mutate(Sales = Sales * 1000)\n",
    "summary(safebabies_df)"
   ]
  },
  {
   "cell_type": "markdown",
   "metadata": {
    "hideCode": false,
    "hidePrompt": false
   },
   "source": [
    "The first step to accomplishing tasks 1 and 2 is to split the dataset `safebabies_df` into two seperate datasets. The first one will contain rows (stores) where `ShelveLoc` is __Good__ and we will name it `good_df` while the second one will contain rows (stores) where `ShelveLoc` is __Bad__ and we will name it `bad_df`."
   ]
  },
  {
   "cell_type": "code",
   "execution_count": 8,
   "metadata": {},
   "outputs": [],
   "source": [
    "good_df <- safebabies_df %>% filter(ShelveLoc == \"Good\")\n",
    "bad_df <- safebabies_df %>% filter(ShelveLoc == \"Bad\")"
   ]
  },
  {
   "cell_type": "markdown",
   "metadata": {},
   "source": [
    "## Finding The Optimal Price"
   ]
  },
  {
   "cell_type": "markdown",
   "metadata": {},
   "source": [
    "### The Intuition"
   ]
  },
  {
   "cell_type": "markdown",
   "metadata": {},
   "source": [
    "Optimal price can be defined as the price that offers the best profit and is greater than the cost of production. Given the definition of optimal price, our goal is to find a price such that the total profit is maximized accross all stores.\n",
    "\n",
    "Total profit can be defined using the following equation:\n",
    "\n",
    "$P_t = P_u * S_u$\n",
    "\n",
    "where\n",
    "\n",
    "* $P_t$ is the total profit at each store\n",
    "* $P_u$ is the profit per unit\n",
    "* $S_u$ is the `Sales` variable (unit sales in thousands)\n",
    "\n",
    "The goal at this stage is to express total profit per store in terms of price and to do that we must also express $P_u$ and $S_u$ in terms of price. "
   ]
  },
  {
   "cell_type": "markdown",
   "metadata": {},
   "source": [
    "$P_u$ can be expressed using the following equation:\n",
    "\n",
    "$P_u = Price - Cost$\n",
    "\n",
    "The equation above essentially says that the profit per unit is simple expressed as the price per unit minus the cost of producing the unit."
   ]
  },
  {
   "cell_type": "markdown",
   "metadata": {},
   "source": [
    "$S_u$ was defined as the unit sales in thousands meaning the number of units each store sold. If we were to express $S_u$ in terms of price then we would have to take inspiration from OLS, by doing that we can express $S_u$ using the following equation:\n",
    "\n",
    "$S_u = \\theta_0 + \\theta_1Price$\n",
    "\n",
    "where \n",
    "* $\\theta_0$ is the y intercept\n",
    "* $\\theta_1$ is the coefficient for price\n",
    "\n",
    "By using a linear regression equation (OLS) to define $S_u$ we have succeded in expressing $S_u$ (`Sales`) in terms of price. The linear regression model can easily determine the best $\\theta_0$ and $\\theta_1$ for predicting $S_u$"
   ]
  },
  {
   "cell_type": "markdown",
   "metadata": {},
   "source": [
    "We can now redefine $P_t$ as: \n",
    "\n",
    "$P_t = (Price - Cost)(\\theta_0 + \\theta_1Price)$\n",
    "\n",
    "and then further expand it to: \n",
    "\n",
    "$P_t = \\theta_1Price^2 + (\\theta_0 - \\theta_1Cost)Price - \\theta_0Cost$\n",
    "\n",
    "The equation for $P_t$ gives of a quadratic equation which represents the price elasticity for profit which means that it will tell us how profit accross all stores changes as we change the price."
   ]
  },
  {
   "cell_type": "markdown",
   "metadata": {},
   "source": [
    "In order to find the optimal price we find the first derivative of the quadratic equation and set the derivative to zero. We will redine our equation as follows:\n",
    "\n",
    "$P_t(p) = \\theta_1p^2 + (\\theta_0 - \\theta_1c)p - \\theta_0c$\n",
    "\n",
    "where \n",
    "* $P_t(p)$ is a function\n",
    "* $p$ is the price per unit \n",
    "* $c$ is the cost of producing the unit which is a known constant\n",
    "* $\\theta_0$ and $\\theta_1$ are constants that needs to be found"
   ]
  },
  {
   "cell_type": "markdown",
   "metadata": {},
   "source": [
    "Taking the first derivative of the function $P_t(p)$ we obtain\n",
    "\n",
    "$P_t'(p) = 2\\theta_1p + \\theta_0 - \\theta_1c$\n",
    "\n",
    "then setting the derivative to 0 and then making $p$ the subject of formula we obtain:\n",
    "\n",
    "$0 = 2\\theta_1p + \\theta_0 - \\theta_1c$\n",
    "\n",
    "$ - \\theta_0 + \\theta_1c = 2\\theta_1p$\n",
    "\n",
    "$p =  \\frac{- \\theta_0 + \\theta_1c}{2\\theta_1}$\n",
    "\n",
    "The formula for $p$ becomes the formula for finding the optimal price."
   ]
  },
  {
   "cell_type": "markdown",
   "metadata": {},
   "source": [
    "Let's define a function in are called `calc_optimal_price` that we compute $p$ given $c, \\theta_0, and \\theta_1$"
   ]
  },
  {
   "cell_type": "code",
   "execution_count": 16,
   "metadata": {
    "hideCode": false,
    "hidePrompt": false
   },
   "outputs": [],
   "source": [
    "calc_optimal_price <- function(prod_cost, theta_0, theta_1) {\n",
    "    return(((-1 * theta_0) + (theta_1 * prod_cost)) / (2 * theta_1))\n",
    "}"
   ]
  },
  {
   "cell_type": "markdown",
   "metadata": {},
   "source": [
    "### Optimal Price for Good Shelf Locations"
   ]
  },
  {
   "cell_type": "markdown",
   "metadata": {},
   "source": [
    "The first thing to do is to construct our linear regression model to obtain the coefficients $\\theta_0$ and $\\theta_1$ which we will need for the `calc_optimal_price` function"
   ]
  },
  {
   "cell_type": "code",
   "execution_count": 10,
   "metadata": {},
   "outputs": [
    {
     "data": {
      "text/html": [
       "<dl class=dl-horizontal>\n",
       "\t<dt>(Intercept)</dt>\n",
       "\t\t<dd>17968.8635952305</dd>\n",
       "\t<dt>Price</dt>\n",
       "\t\t<dd>-65.7847710174243</dd>\n",
       "</dl>\n"
      ],
      "text/latex": [
       "\\begin{description*}\n",
       "\\item[(Intercept)] 17968.8635952305\n",
       "\\item[Price] -65.7847710174243\n",
       "\\end{description*}\n"
      ],
      "text/markdown": [
       "(Intercept)\n",
       ":   17968.8635952305Price\n",
       ":   -65.7847710174243\n",
       "\n"
      ],
      "text/plain": [
       "(Intercept)       Price \n",
       "17968.86360   -65.78477 "
      ]
     },
     "metadata": {},
     "output_type": "display_data"
    }
   ],
   "source": [
    "good_coeffs <- lm(Sales ~ Price, data = good_df) %>% use_series(\"coefficients\")\n",
    "good_coeffs"
   ]
  },
  {
   "cell_type": "code",
   "execution_count": 11,
   "metadata": {},
   "outputs": [
    {
     "data": {
      "text/html": [
       "164.07312564386"
      ],
      "text/latex": [
       "164.07312564386"
      ],
      "text/markdown": [
       "164.07312564386"
      ],
      "text/plain": [
       "[1] 164.0731"
      ]
     },
     "metadata": {},
     "output_type": "display_data"
    }
   ],
   "source": [
    "gtheta_0 <- good_coeffs[[1]]\n",
    "gtheta_1 <- good_coeffs[[2]]\n",
    "\n",
    "calc_optimal_price(55, gtheta_0, gtheta_1)"
   ]
  },
  {
   "cell_type": "markdown",
   "metadata": {},
   "source": [
    "The optimal price that offers the best total profit for `ShelveLoc` categorized as __Good__ is $164.073 but rounded up we obtain an optimal price of __\\$164__."
   ]
  },
  {
   "cell_type": "markdown",
   "metadata": {},
   "source": [
    "### Optimal Price for Bad Shelf Locations"
   ]
  },
  {
   "cell_type": "markdown",
   "metadata": {},
   "source": [
    "Just like in the case of good shelf locations we construct our linear regression model to obtain the coefficients $\\theta_0$ and $\\theta_1$."
   ]
  },
  {
   "cell_type": "code",
   "execution_count": 12,
   "metadata": {},
   "outputs": [
    {
     "data": {
      "text/html": [
       "<dl class=dl-horizontal>\n",
       "\t<dt>(Intercept)</dt>\n",
       "\t\t<dd>11832.9838937991</dd>\n",
       "\t<dt>Price</dt>\n",
       "\t\t<dd>-55.2202783778228</dd>\n",
       "</dl>\n"
      ],
      "text/latex": [
       "\\begin{description*}\n",
       "\\item[(Intercept)] 11832.9838937991\n",
       "\\item[Price] -55.2202783778228\n",
       "\\end{description*}\n"
      ],
      "text/markdown": [
       "(Intercept)\n",
       ":   11832.9838937991Price\n",
       ":   -55.2202783778228\n",
       "\n"
      ],
      "text/plain": [
       "(Intercept)       Price \n",
       "11832.98389   -55.22028 "
      ]
     },
     "metadata": {},
     "output_type": "display_data"
    }
   ],
   "source": [
    "bad_coeffs <- lm(Sales ~ Price, data = bad_df) %>% use_series(\"coefficients\")\n",
    "bad_coeffs"
   ]
  },
  {
   "cell_type": "markdown",
   "metadata": {},
   "source": [
    "We will then create a column call `Profit_t` which is the total profit for each store where the `ShelveLoc` is __Bad__."
   ]
  },
  {
   "cell_type": "code",
   "execution_count": 13,
   "metadata": {},
   "outputs": [
    {
     "data": {
      "text/html": [
       "134.643464696399"
      ],
      "text/latex": [
       "134.643464696399"
      ],
      "text/markdown": [
       "134.643464696399"
      ],
      "text/plain": [
       "[1] 134.6435"
      ]
     },
     "metadata": {},
     "output_type": "display_data"
    }
   ],
   "source": [
    "btheta_0 <- bad_coeffs[[1]]\n",
    "btheta_1 <- bad_coeffs[[2]]\n",
    "\n",
    "calc_optimal_price(55, btheta_0, btheta_1)"
   ]
  },
  {
   "cell_type": "markdown",
   "metadata": {},
   "source": [
    "The optimal price that offers the best total profit for `ShelveLoc` categorized as __Bad__ is $134.643 but rounded up we obtain an optimal price of __\\$135__."
   ]
  },
  {
   "cell_type": "markdown",
   "metadata": {},
   "source": [
    "## Optimal Price as Production Cost Changes"
   ]
  },
  {
   "cell_type": "code",
   "execution_count": 17,
   "metadata": {},
   "outputs": [],
   "source": [
    "prod_costs <- seq(40, 85, by = 5)"
   ]
  },
  {
   "cell_type": "code",
   "execution_count": 27,
   "metadata": {},
   "outputs": [
    {
     "data": {
      "image/png": "[encoded data removed]",
      "text/plain": [
       "plot without title"
      ]
     },
     "metadata": {},
     "output_type": "display_data"
    }
   ],
   "source": [
    "good_optimal_prices <- c()\n",
    "bad_optimal_prices <- c()\n",
    "\n",
    "local({\n",
    "    for (prod_cost in prod_costs) {\n",
    "        # Good Shelf Locations\n",
    "        optimal_price_good <- calc_optimal_price(prod_cost, gtheta_0, gtheta_1)\n",
    "        good_optimal_prices <- c(good_optimal_prices, optimal_price_good)\n",
    "        \n",
    "        # Bad Shelf Locations\n",
    "        optimal_price_bad <- calc_optimal_price(prod_cost, btheta_0, btheta_1)\n",
    "        bad_optimal_prices <- c(bad_optimal_prices, optimal_price_bad)\n",
    "    }\n",
    "\n",
    "    optimal_prices_df <- data.frame(\n",
    "        Optimal_Good_Prices = good_optimal_prices,\n",
    "        Optimal_Bad_Prices = bad_optimal_prices\n",
    "    )\n",
    "\n",
    "    head(optimal_prices_df)\n",
    "\n",
    "    ggplot(optimal_prices_df) +\n",
    "        geom_smooth(aes(x = prod_costs, y = Optimal_Good_Prices, color = \"Good\"), method = \"loess\") +\n",
    "        geom_smooth(aes(x = prod_costs, y = Optimal_Bad_Prices, color = \"Bad\"), method = \"loess\") +\n",
    "        labs(\n",
    "            color = \"ShelveLoc\",\n",
    "            x = \"Production Cost\",\n",
    "            y = \"Optimal Prices\",\n",
    "            title = \"Price vs Production Cost\"\n",
    "        )\n",
    "})"
   ]
  },
  {
   "cell_type": "markdown",
   "metadata": {},
   "source": [
    "The plot titled __Price vs Production Cost___ shows that as the production cost increases so does the price of both good and bad shelf locations therefore showing a linear dependence between cost and price.\n",
    "\n",
    "Although the plot shows that as the production cost increases so does the price for both good and bad shelf locations, the optimal price starts at a higher point on the y axis for good shelf locations than bad shelf locations."
   ]
  }
 ],
 "metadata": {
  "hide_code_all_hidden": false,
  "kernelspec": {
   "display_name": "R",
   "language": "R",
   "name": "ir"
  },
  "language_info": {
   "codemirror_mode": "r",
   "file_extension": ".r",
   "mimetype": "text/x-r-source",
   "name": "R",
   "pygments_lexer": "r",
   "version": "3.5.2"
  }
 },
 "nbformat": 4,
 "nbformat_minor": 2
}
