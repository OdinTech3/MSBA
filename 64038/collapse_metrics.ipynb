{
 "cells": [
  {
   "cell_type": "code",
   "execution_count": 1,
   "metadata": {},
   "outputs": [],
   "source": [
    "import pandas as pd\n",
    "import cytoolz as tlz\n",
    "from itertools import chain\n"
   ]
  },
  {
   "cell_type": "code",
   "execution_count": 5,
   "metadata": {},
   "outputs": [],
   "source": [
    "fin_df = pd.read_excel('./global_findex_database.xlsx', sheet_name = 'Series_Table')"
   ]
  },
  {
   "cell_type": "code",
   "execution_count": 154,
   "metadata": {},
   "outputs": [
    {
     "data": {
      "text/plain": [
       "0       account.t.d\n",
       "1     account.t.d.1\n",
       "2    account.t.d.10\n",
       "3    account.t.d.11\n",
       "4     account.t.d.2\n",
       "Name: Series, dtype: object"
      ]
     },
     "execution_count": 154,
     "metadata": {},
     "output_type": "execute_result"
    }
   ],
   "source": [
    "series = fin_df['Series']\n",
    "series.head()"
   ]
  },
  {
   "cell_type": "code",
   "execution_count": 124,
   "metadata": {},
   "outputs": [],
   "source": [
    "main_metrics = []\n",
    "series_len = len(series)\n",
    "\n",
    "for i, curr_metric in enumerate(series, 1):\n",
    "    if len(main_metrics) == 0:\n",
    "        main_metrics.append((curr_metric, i))\n",
    "        continue\n",
    "        \n",
    "    metric, _ = tlz.last(main_metrics)\n",
    "    is_diff_metric = metric not in curr_metric\n",
    "    is_series_end = i == series_len \n",
    "    \n",
    "    if is_diff_metric:\n",
    "        recent_metric, index = main_metrics.pop()\n",
    "        main_metrics.append((recent_metric, (i-1) - index))\n",
    "        main_metrics.append((curr_metric, i))\n",
    "        \n",
    "    if is_series_end:\n",
    "        recent_metric, index = main_metrics.pop()\n",
    "        main_metrics.append((recent_metric, series_len - index))"
   ]
  },
  {
   "cell_type": "code",
   "execution_count": 166,
   "metadata": {},
   "outputs": [
    {
     "data": {
      "text/plain": [
       "135"
      ]
     },
     "execution_count": 166,
     "metadata": {},
     "output_type": "execute_result"
    }
   ],
   "source": [
    "len(main_metrics)"
   ]
  },
  {
   "cell_type": "code",
   "execution_count": 167,
   "metadata": {},
   "outputs": [],
   "source": [
    "main_series = pd.Series(\n",
    "    chain.from_iterable(\n",
    "        [ [metric] + ['-'] * n for metric, n in main_metrics]\n",
    "    ), \n",
    "    name='Main Series'\n",
    ")"
   ]
  },
  {
   "cell_type": "code",
   "execution_count": 164,
   "metadata": {},
   "outputs": [
    {
     "name": "stdout",
     "output_type": "stream",
     "text": [
      "<class 'pandas.core.frame.DataFrame'>\n",
      "RangeIndex: 776 entries, 0 to 775\n",
      "Data columns (total 2 columns):\n",
      "Main Series    776 non-null object\n",
      "Series         776 non-null object\n",
      "dtypes: object(2)\n",
      "memory usage: 12.2+ KB\n"
     ]
    }
   ],
   "source": [
    "metric_df = pd.concat([main_series, series], axis=1)\n",
    "metric_df.info()"
   ]
  },
  {
   "cell_type": "code",
   "execution_count": null,
   "metadata": {},
   "outputs": [],
   "source": [
    "del fin_df['Series']"
   ]
  },
  {
   "cell_type": "code",
   "execution_count": 163,
   "metadata": {},
   "outputs": [],
   "source": [
    "fin_metric_df = pd.concat([metric_df, fin_df], axis=1)\n",
    "\n",
    "fin_metric_df.head()\n",
    "\n",
    "fin_metric_df.to_csv('collapsed.csv')"
   ]
  }
 ],
 "metadata": {
  "kernelspec": {
   "display_name": "MSBA",
   "language": "python",
   "name": "msba"
  },
  "language_info": {
   "codemirror_mode": {
    "name": "ipython",
    "version": 3
   },
   "file_extension": ".py",
   "mimetype": "text/x-python",
   "name": "python",
   "nbconvert_exporter": "python",
   "pygments_lexer": "ipython3",
   "version": "3.7.6"
  },
  "varInspector": {
   "cols": {
    "lenName": 16,
    "lenType": 16,
    "lenVar": 40
   },
   "kernels_config": {
    "python": {
     "delete_cmd_postfix": "",
     "delete_cmd_prefix": "del ",
     "library": "var_list.py",
     "varRefreshCmd": "print(var_dic_list())"
    },
    "r": {
     "delete_cmd_postfix": ") ",
     "delete_cmd_prefix": "rm(",
     "library": "var_list.r",
     "varRefreshCmd": "cat(var_dic_list()) "
    }
   },
   "types_to_exclude": [
    "module",
    "function",
    "builtin_function_or_method",
    "instance",
    "_Feature"
   ],
   "window_display": false
  }
 },
 "nbformat": 4,
 "nbformat_minor": 2
}
