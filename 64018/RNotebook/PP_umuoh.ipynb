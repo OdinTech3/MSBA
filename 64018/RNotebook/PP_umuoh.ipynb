{
 "cells": [
  {
   "cell_type": "markdown",
   "metadata": {},
   "source": [
    "# Production Plan with Fixed Costs"
   ]
  },
  {
   "attachments": {
    "PP_FC_table.png": {
     "image/png": "[encoded data removed]"
    }
   },
   "cell_type": "markdown",
   "metadata": {},
   "source": [
    "A manufacturing manager is in charge of minimizing the total costs (raw materials, labor and storage costs) of the following four months. In the following table can be found the cost of raw materials of one unit of final product, the demand of final product and the working hours available for each month. Labor costs are of `$`12  per  hour, and only worked hours are payed. Each unit of final product needs 30 minutes of labor. Storage costs are equal to `$`2 for each unit stored at the end of the month. Any unit produced at a given month can be used to cover the demand of the same month, or be stored to cover the demand of months to come. At the beginning of month 1 there is no stock, and there are no minimum stock requirements for any month.\n",
    "\n",
    "![PP_FC_table.png](attachment:PP_FC_table.png)"
   ]
  },
  {
   "cell_type": "markdown",
   "metadata": {},
   "source": [
    "Using the helper function ,`lp_do`, I can output the results from methods provided by `lpSolveAPI` in a nicer format."
   ]
  },
  {
   "cell_type": "code",
   "execution_count": 152,
   "metadata": {},
   "outputs": [],
   "source": [
    "\n",
    "lp_do <- function(fn, value, dv_labels = c(\"\"), constr_lables = c(\"\")) {\n",
    "    fn_name <- sprintf(\"%s\", as.character(substitute(fn)))\n",
    "    switch(fn_name,\n",
    "           \"solve\" = {\n",
    "               result <- fn(value)\n",
    "               if (result == 0) {\n",
    "                    return(\"Optimal solution found!\")\n",
    "                } else if (result == 2) {\n",
    "                    return(\"The model is infeasible.\")\n",
    "                } else if (result == 3) {\n",
    "                    return(\"The model is unbounded.\")\n",
    "                } else {\n",
    "                    return(sprintf(\"Check documentation for status: %s\", result))\n",
    "                }\n",
    "           },\n",
    "           \"get.objective\" = {\n",
    "                   sense <- substr(lp.control(value)$sense, 1, 3)\n",
    "                   return(sprintf(\"Z %s = %g\", sense, fn(value)))\n",
    "           },\n",
    "           \"get.variables\" = {\n",
    "                   dv <- fn(value)\n",
    "               \n",
    "                   if (length(dv_labels) != length(dv)) {\n",
    "                       return(dv)\n",
    "                   }\n",
    "                   else {\n",
    "                       dv_df <-  data.frame(\n",
    "                           DV = dv_labels,\n",
    "                           Values = dv\n",
    "                       )\n",
    "                       \n",
    "                       return(dv_df)\n",
    "                   }\n",
    "           },\n",
    "           \"get.constraints\" = {\n",
    "                   dv <- fn(value)\n",
    "                   if (length(constr_lables) != length(dv)) {\n",
    "                       return(dv)\n",
    "                   }\n",
    "                   else {\n",
    "                       fmted_lables <- lapply(constr_lables, function (x) {return(sprintf(\"%s ->\", x))})\n",
    "                       dv_df <-  data.frame(\n",
    "                           Constraints = unlist(fmted_lables),\n",
    "                           Answers = dv\n",
    "                       )\n",
    "                       \n",
    "                       return(dv_df)\n",
    "                   }\n",
    "           }\n",
    "          )\n",
    "}"
   ]
  },
  {
   "cell_type": "markdown",
   "metadata": {},
   "source": [
    "First we load the library and then read the lp file."
   ]
  },
  {
   "cell_type": "code",
   "execution_count": 11,
   "metadata": {},
   "outputs": [],
   "source": [
    "library(\"lpSolveAPI\")\n",
    "lp_prob <- read.lp(\"data/PP_umuoh.lp\")"
   ]
  },
  {
   "cell_type": "code",
   "execution_count": 132,
   "metadata": {},
   "outputs": [
    {
     "data": {
      "text/plain": [
       "Model name: \n",
       "            Q1    S1    Q2    S2    Q3    S3    Q4    S4        \n",
       "Minimize    12     2    14     2    16     2    18     2        \n",
       "R1           1    -1     0     0     0     0     0     0  =  100\n",
       "R2           0     1     1    -1     0     0     0     0  =  200\n",
       "R3           0     0     0     1     1    -1     0     0  =  150\n",
       "R4           0     0     0     0     0     1     1    -1  =  400\n",
       "Kind       Std   Std   Std   Std   Std   Std   Std   Std        \n",
       "Type      Real  Real  Real  Real  Real  Real  Real  Real        \n",
       "Upper      400   Inf   400   Inf   300   Inf   300   Inf        \n",
       "Lower        0     0     0     0     0     0     0     0        "
      ]
     },
     "metadata": {},
     "output_type": "display_data"
    }
   ],
   "source": [
    "lp_prob"
   ]
  },
  {
   "cell_type": "markdown",
   "metadata": {},
   "source": [
    "We first have to solve the lp model. We discover that the solution to our model is optimal."
   ]
  },
  {
   "cell_type": "code",
   "execution_count": 136,
   "metadata": {},
   "outputs": [
    {
     "data": {
      "text/html": [
       "'Optimal solution found!'"
      ],
      "text/latex": [
       "'Optimal solution found!'"
      ],
      "text/markdown": [
       "'Optimal solution found!'"
      ],
      "text/plain": [
       "[1] \"Optimal solution found!\""
      ]
     },
     "metadata": {},
     "output_type": "display_data"
    }
   ],
   "source": [
    "lp_do(solve, lp_prob)"
   ]
  },
  {
   "cell_type": "markdown",
   "metadata": {},
   "source": [
    "### 1. What are the decision variables ?"
   ]
  },
  {
   "cell_type": "code",
   "execution_count": 138,
   "metadata": {},
   "outputs": [
    {
     "data": {
      "text/html": [
       "<table>\n",
       "<thead><tr><th scope=col>DV</th><th scope=col>Values</th></tr></thead>\n",
       "<tbody>\n",
       "\t<tr><td>Q1 </td><td>400</td></tr>\n",
       "\t<tr><td>S1 </td><td>300</td></tr>\n",
       "\t<tr><td>Q2 </td><td>400</td></tr>\n",
       "\t<tr><td>S2 </td><td>500</td></tr>\n",
       "\t<tr><td>Q3 </td><td> 50</td></tr>\n",
       "\t<tr><td>S3 </td><td>400</td></tr>\n",
       "\t<tr><td>Q4 </td><td>  0</td></tr>\n",
       "\t<tr><td>S4 </td><td>  0</td></tr>\n",
       "</tbody>\n",
       "</table>\n"
      ],
      "text/latex": [
       "\\begin{tabular}{r|ll}\n",
       " DV & Values\\\\\n",
       "\\hline\n",
       "\t Q1  & 400\\\\\n",
       "\t S1  & 300\\\\\n",
       "\t Q2  & 400\\\\\n",
       "\t S2  & 500\\\\\n",
       "\t Q3  &  50\\\\\n",
       "\t S3  & 400\\\\\n",
       "\t Q4  &   0\\\\\n",
       "\t S4  &   0\\\\\n",
       "\\end{tabular}\n"
      ],
      "text/markdown": [
       "\n",
       "DV | Values | \n",
       "|---|---|---|---|---|---|---|---|\n",
       "| Q1  | 400 | \n",
       "| S1  | 300 | \n",
       "| Q2  | 400 | \n",
       "| S2  | 500 | \n",
       "| Q3  |  50 | \n",
       "| S3  | 400 | \n",
       "| Q4  |   0 | \n",
       "| S4  |   0 | \n",
       "\n",
       "\n"
      ],
      "text/plain": [
       "  DV Values\n",
       "1 Q1 400   \n",
       "2 S1 300   \n",
       "3 Q2 400   \n",
       "4 S2 500   \n",
       "5 Q3  50   \n",
       "6 S3 400   \n",
       "7 Q4   0   \n",
       "8 S4   0   "
      ]
     },
     "metadata": {},
     "output_type": "display_data"
    }
   ],
   "source": [
    "lp_do(get.variables, lp_prob, dv_labels = c(\"Q1\", \"S1\", \"Q2\", \"S2\", \"Q3\" ,\"S3\", \"Q4\", \"S4\"))"
   ]
  },
  {
   "cell_type": "markdown",
   "metadata": {},
   "source": [
    "### 2.  What is the objective function?"
   ]
  },
  {
   "cell_type": "code",
   "execution_count": 137,
   "metadata": {},
   "outputs": [
    {
     "data": {
      "text/html": [
       "'Z min = 13600'"
      ],
      "text/latex": [
       "'Z min = 13600'"
      ],
      "text/markdown": [
       "'Z min = 13600'"
      ],
      "text/plain": [
       "[1] \"Z min = 13600\""
      ]
     },
     "metadata": {},
     "output_type": "display_data"
    }
   ],
   "source": [
    "lp_do(get.objective, lp_prob)"
   ]
  },
  {
   "cell_type": "markdown",
   "metadata": {},
   "source": [
    "As you can see above the __objective function value__ is __13600__. This means that the manufacturing manager can reduce is costs to at most $13600"
   ]
  },
  {
   "cell_type": "markdown",
   "metadata": {},
   "source": [
    "### 3. What are the constraints?"
   ]
  },
  {
   "cell_type": "code",
   "execution_count": 154,
   "metadata": {},
   "outputs": [
    {
     "data": {
      "text/html": [
       "<table>\n",
       "<thead><tr><th scope=col>Constraints</th><th scope=col>Answers</th></tr></thead>\n",
       "<tbody>\n",
       "\t<tr><td><span style=white-space:pre-wrap>Q1 - S1 = 100 -&gt;     </span></td><td>100                                                             </td></tr>\n",
       "\t<tr><td>S1 + Q2 - S2 = 200 -&gt;</td><td>200                     </td></tr>\n",
       "\t<tr><td>S2 + Q3 - S3 = 150 -&gt;</td><td>150                     </td></tr>\n",
       "\t<tr><td>S3 + Q4 - S4 = 400 -&gt;</td><td>400                     </td></tr>\n",
       "</tbody>\n",
       "</table>\n"
      ],
      "text/latex": [
       "\\begin{tabular}{r|ll}\n",
       " Constraints & Answers\\\\\n",
       "\\hline\n",
       "\t Q1 - S1 = 100 ->      & 100                  \\\\\n",
       "\t S1 + Q2 - S2 = 200 -> & 200                  \\\\\n",
       "\t S2 + Q3 - S3 = 150 -> & 150                  \\\\\n",
       "\t S3 + Q4 - S4 = 400 -> & 400                  \\\\\n",
       "\\end{tabular}\n"
      ],
      "text/markdown": [
       "\n",
       "Constraints | Answers | \n",
       "|---|---|---|---|\n",
       "| Q1 - S1 = 100 ->      | 100                   | \n",
       "| S1 + Q2 - S2 = 200 -> | 200                   | \n",
       "| S2 + Q3 - S3 = 150 -> | 150                   | \n",
       "| S3 + Q4 - S4 = 400 -> | 400                   | \n",
       "\n",
       "\n"
      ],
      "text/plain": [
       "  Constraints           Answers\n",
       "1 Q1 - S1 = 100 ->      100    \n",
       "2 S1 + Q2 - S2 = 200 -> 200    \n",
       "3 S2 + Q3 - S3 = 150 -> 150    \n",
       "4 S3 + Q4 - S4 = 400 -> 400    "
      ]
     },
     "metadata": {},
     "output_type": "display_data"
    }
   ],
   "source": [
    "lp_do(get.constraints, lp_prob, constr_lables = c(\"Q1 - S1 = 100\",\"S1 + Q2 - S2 = 200\", \"S2 + Q3 - S3 = 150\", \"S3 + Q4 - S4 = 400\"))"
   ]
  },
  {
   "cell_type": "markdown",
   "metadata": {},
   "source": [
    "### 4. How will you modify the model if there is a fixed cost of $1,000 for each month that there is production? This cost is assumed only if there is production different from zero in that month."
   ]
  },
  {
   "cell_type": "markdown",
   "metadata": {},
   "source": [
    "In order to answer this question we would need to load a modified version of  our original lp file. "
   ]
  },
  {
   "cell_type": "code",
   "execution_count": 191,
   "metadata": {},
   "outputs": [],
   "source": [
    "lp_prob_4 <- read.lp(\"data/PP_umuoh_4.lp\")"
   ]
  },
  {
   "cell_type": "code",
   "execution_count": 192,
   "metadata": {},
   "outputs": [
    {
     "data": {
      "text/plain": [
       "Model name: \n",
       "  a linear program with 12 decision variables and 8 constraints"
      ]
     },
     "metadata": {},
     "output_type": "display_data"
    }
   ],
   "source": [
    "lp_prob_4"
   ]
  },
  {
   "cell_type": "code",
   "execution_count": 193,
   "metadata": {},
   "outputs": [
    {
     "data": {
      "text/html": [
       "'Optimal solution found!'"
      ],
      "text/latex": [
       "'Optimal solution found!'"
      ],
      "text/markdown": [
       "'Optimal solution found!'"
      ],
      "text/plain": [
       "[1] \"Optimal solution found!\""
      ]
     },
     "metadata": {},
     "output_type": "display_data"
    }
   ],
   "source": [
    "lp_do(solve, lp_prob_4)"
   ]
  },
  {
   "cell_type": "code",
   "execution_count": 194,
   "metadata": {},
   "outputs": [
    {
     "data": {
      "text/html": [
       "'Z min = 16600'"
      ],
      "text/latex": [
       "'Z min = 16600'"
      ],
      "text/markdown": [
       "'Z min = 16600'"
      ],
      "text/plain": [
       "[1] \"Z min = 16600\""
      ]
     },
     "metadata": {},
     "output_type": "display_data"
    }
   ],
   "source": [
    "lp_do(get.objective, lp_prob_4)"
   ]
  },
  {
   "cell_type": "code",
   "execution_count": 195,
   "metadata": {},
   "outputs": [
    {
     "data": {
      "text/html": [
       "<table>\n",
       "<thead><tr><th scope=col>DV</th><th scope=col>Values</th></tr></thead>\n",
       "<tbody>\n",
       "\t<tr><td>Q1 </td><td>850</td></tr>\n",
       "\t<tr><td>S1 </td><td>750</td></tr>\n",
       "\t<tr><td>B1 </td><td>  3</td></tr>\n",
       "\t<tr><td>Q2 </td><td>  0</td></tr>\n",
       "\t<tr><td>S2 </td><td>550</td></tr>\n",
       "\t<tr><td>B2 </td><td>  0</td></tr>\n",
       "\t<tr><td>Q3 </td><td>  0</td></tr>\n",
       "\t<tr><td>S3 </td><td>400</td></tr>\n",
       "\t<tr><td>B3 </td><td>  0</td></tr>\n",
       "\t<tr><td>Q4 </td><td>  0</td></tr>\n",
       "\t<tr><td>S4 </td><td>  0</td></tr>\n",
       "\t<tr><td>B4 </td><td>  0</td></tr>\n",
       "</tbody>\n",
       "</table>\n"
      ],
      "text/latex": [
       "\\begin{tabular}{r|ll}\n",
       " DV & Values\\\\\n",
       "\\hline\n",
       "\t Q1  & 850\\\\\n",
       "\t S1  & 750\\\\\n",
       "\t B1  &   3\\\\\n",
       "\t Q2  &   0\\\\\n",
       "\t S2  & 550\\\\\n",
       "\t B2  &   0\\\\\n",
       "\t Q3  &   0\\\\\n",
       "\t S3  & 400\\\\\n",
       "\t B3  &   0\\\\\n",
       "\t Q4  &   0\\\\\n",
       "\t S4  &   0\\\\\n",
       "\t B4  &   0\\\\\n",
       "\\end{tabular}\n"
      ],
      "text/markdown": [
       "\n",
       "DV | Values | \n",
       "|---|---|---|---|---|---|---|---|---|---|---|---|\n",
       "| Q1  | 850 | \n",
       "| S1  | 750 | \n",
       "| B1  |   3 | \n",
       "| Q2  |   0 | \n",
       "| S2  | 550 | \n",
       "| B2  |   0 | \n",
       "| Q3  |   0 | \n",
       "| S3  | 400 | \n",
       "| B3  |   0 | \n",
       "| Q4  |   0 | \n",
       "| S4  |   0 | \n",
       "| B4  |   0 | \n",
       "\n",
       "\n"
      ],
      "text/plain": [
       "   DV Values\n",
       "1  Q1 850   \n",
       "2  S1 750   \n",
       "3  B1   3   \n",
       "4  Q2   0   \n",
       "5  S2 550   \n",
       "6  B2   0   \n",
       "7  Q3   0   \n",
       "8  S3 400   \n",
       "9  B3   0   \n",
       "10 Q4   0   \n",
       "11 S4   0   \n",
       "12 B4   0   "
      ]
     },
     "metadata": {},
     "output_type": "display_data"
    }
   ],
   "source": [
    "lp_do(get.variables, lp_prob_4, dv_labels = c(\"Q1\", \"S1\", \"B1\", \"Q2\", \"S2\", \"B2\", \"Q3\" ,\"S3\", \"B3\", \"Q4\", \"S4\", \"B4\"))"
   ]
  },
  {
   "cell_type": "code",
   "execution_count": 196,
   "metadata": {},
   "outputs": [
    {
     "data": {
      "text/html": [
       "<table>\n",
       "<thead><tr><th scope=col>Constraints</th><th scope=col>Answers</th></tr></thead>\n",
       "<tbody>\n",
       "\t<tr><td><span style=white-space:pre-wrap>Q1 - S1 = 100 -&gt;     </span></td><td> 100                                                            </td></tr>\n",
       "\t<tr><td>S1 + Q2 - S2 = 200 -&gt;</td><td> 200                    </td></tr>\n",
       "\t<tr><td>S2 + Q3 - S3 = 150 -&gt;</td><td> 150                    </td></tr>\n",
       "\t<tr><td>S3 + Q4 - S4 = 400 -&gt;</td><td> 400                    </td></tr>\n",
       "\t<tr><td><span style=white-space:pre-wrap>Q1 &lt;= 400 B1 -&gt;      </span></td><td>-350                                                               </td></tr>\n",
       "\t<tr><td><span style=white-space:pre-wrap>Q2 &lt;= 400 B2 -&gt;      </span></td><td><span style=white-space:pre-wrap>   0</span>                       </td></tr>\n",
       "\t<tr><td><span style=white-space:pre-wrap>Q3 &lt;= 300 B3 -&gt;      </span></td><td><span style=white-space:pre-wrap>   0</span>                       </td></tr>\n",
       "\t<tr><td><span style=white-space:pre-wrap>Q4 &lt;= 300 B4 -&gt;      </span></td><td><span style=white-space:pre-wrap>   0</span>                       </td></tr>\n",
       "</tbody>\n",
       "</table>\n"
      ],
      "text/latex": [
       "\\begin{tabular}{r|ll}\n",
       " Constraints & Answers\\\\\n",
       "\\hline\n",
       "\t Q1 - S1 = 100 ->      &  100                 \\\\\n",
       "\t S1 + Q2 - S2 = 200 -> &  200                 \\\\\n",
       "\t S2 + Q3 - S3 = 150 -> &  150                 \\\\\n",
       "\t S3 + Q4 - S4 = 400 -> &  400                 \\\\\n",
       "\t Q1 <= 400 B1 ->       & -350                 \\\\\n",
       "\t Q2 <= 400 B2 ->       &    0                 \\\\\n",
       "\t Q3 <= 300 B3 ->       &    0                 \\\\\n",
       "\t Q4 <= 300 B4 ->       &    0                 \\\\\n",
       "\\end{tabular}\n"
      ],
      "text/markdown": [
       "\n",
       "Constraints | Answers | \n",
       "|---|---|---|---|---|---|---|---|\n",
       "| Q1 - S1 = 100 ->      |  100                  | \n",
       "| S1 + Q2 - S2 = 200 -> |  200                  | \n",
       "| S2 + Q3 - S3 = 150 -> |  150                  | \n",
       "| S3 + Q4 - S4 = 400 -> |  400                  | \n",
       "| Q1 <= 400 B1 ->       | -350                  | \n",
       "| Q2 <= 400 B2 ->       |    0                  | \n",
       "| Q3 <= 300 B3 ->       |    0                  | \n",
       "| Q4 <= 300 B4 ->       |    0                  | \n",
       "\n",
       "\n"
      ],
      "text/plain": [
       "  Constraints           Answers\n",
       "1 Q1 - S1 = 100 ->       100   \n",
       "2 S1 + Q2 - S2 = 200 ->  200   \n",
       "3 S2 + Q3 - S3 = 150 ->  150   \n",
       "4 S3 + Q4 - S4 = 400 ->  400   \n",
       "5 Q1 <= 400 B1 ->       -350   \n",
       "6 Q2 <= 400 B2 ->          0   \n",
       "7 Q3 <= 300 B3 ->          0   \n",
       "8 Q4 <= 300 B4 ->          0   "
      ]
     },
     "metadata": {},
     "output_type": "display_data"
    }
   ],
   "source": [
    "lp_do(get.constraints, lp_prob_4, constr_lables = c(\n",
    "    \"Q1 - S1 = 100\",\n",
    "    \"S1 + Q2 - S2 = 200\",\n",
    "    \"S2 + Q3 - S3 = 150\",\n",
    "    \"S3 + Q4 - S4 = 400\",\n",
    "    \"Q1 <= 400 B1\",\n",
    "    \"Q2 <= 400 B2\",\n",
    "    \"Q3 <= 300 B3\",\n",
    "    \"Q4 <= 300 B4\"\n",
    "))"
   ]
  },
  {
   "cell_type": "markdown",
   "metadata": {},
   "source": [
    "### 5. For the next four months, the supplier of raw materials has made an special offer: all units purchased above 150 in any given month will have a discounts of `$`2. For instance, if a purchase of 350 units is ordered in month 1, the first 150 units will be sold for `$`12 each, and the following 200 will be sold for `$`10 each. Modify the original formulation and solve."
   ]
  },
  {
   "cell_type": "code",
   "execution_count": 184,
   "metadata": {},
   "outputs": [],
   "source": [
    "lp_prob_5 <- read.lp(\"data/PP_umuoh_5.lp\")"
   ]
  },
  {
   "cell_type": "code",
   "execution_count": 185,
   "metadata": {},
   "outputs": [
    {
     "data": {
      "text/plain": [
       "Model name: \n",
       "  a linear program with 18 decision variables and 13 constraints"
      ]
     },
     "metadata": {},
     "output_type": "display_data"
    }
   ],
   "source": [
    "lp_prob_5"
   ]
  },
  {
   "cell_type": "code",
   "execution_count": 186,
   "metadata": {},
   "outputs": [
    {
     "data": {
      "text/html": [
       "'Optimal solution found!'"
      ],
      "text/latex": [
       "'Optimal solution found!'"
      ],
      "text/markdown": [
       "'Optimal solution found!'"
      ],
      "text/plain": [
       "[1] \"Optimal solution found!\""
      ]
     },
     "metadata": {},
     "output_type": "display_data"
    }
   ],
   "source": [
    "lp_do(solve, lp_prob_5)"
   ]
  },
  {
   "cell_type": "code",
   "execution_count": 187,
   "metadata": {},
   "outputs": [
    {
     "data": {
      "text/html": [
       "'Z min = 12200'"
      ],
      "text/latex": [
       "'Z min = 12200'"
      ],
      "text/markdown": [
       "'Z min = 12200'"
      ],
      "text/plain": [
       "[1] \"Z min = 12200\""
      ]
     },
     "metadata": {},
     "output_type": "display_data"
    }
   ],
   "source": [
    "lp_do(get.objective, lp_prob_5)"
   ]
  },
  {
   "cell_type": "code",
   "execution_count": 188,
   "metadata": {},
   "outputs": [
    {
     "data": {
      "text/html": [
       "<ol class=list-inline>\n",
       "\t<li>150</li>\n",
       "\t<li>700</li>\n",
       "\t<li>750</li>\n",
       "\t<li>0</li>\n",
       "\t<li>0</li>\n",
       "\t<li>550</li>\n",
       "\t<li>0</li>\n",
       "\t<li>0</li>\n",
       "\t<li>400</li>\n",
       "\t<li>0</li>\n",
       "\t<li>0</li>\n",
       "\t<li>0</li>\n",
       "\t<li>1</li>\n",
       "\t<li>0</li>\n",
       "\t<li>0</li>\n",
       "\t<li>0</li>\n",
       "\t<li>0</li>\n",
       "\t<li>0</li>\n",
       "</ol>\n"
      ],
      "text/latex": [
       "\\begin{enumerate*}\n",
       "\\item 150\n",
       "\\item 700\n",
       "\\item 750\n",
       "\\item 0\n",
       "\\item 0\n",
       "\\item 550\n",
       "\\item 0\n",
       "\\item 0\n",
       "\\item 400\n",
       "\\item 0\n",
       "\\item 0\n",
       "\\item 0\n",
       "\\item 1\n",
       "\\item 0\n",
       "\\item 0\n",
       "\\item 0\n",
       "\\item 0\n",
       "\\item 0\n",
       "\\end{enumerate*}\n"
      ],
      "text/markdown": [
       "1. 150\n",
       "2. 700\n",
       "3. 750\n",
       "4. 0\n",
       "5. 0\n",
       "6. 550\n",
       "7. 0\n",
       "8. 0\n",
       "9. 400\n",
       "10. 0\n",
       "11. 0\n",
       "12. 0\n",
       "13. 1\n",
       "14. 0\n",
       "15. 0\n",
       "16. 0\n",
       "17. 0\n",
       "18. 0\n",
       "\n",
       "\n"
      ],
      "text/plain": [
       " [1] 150 700 750   0   0 550   0   0 400   0   0   0   1   0   0   0   0   0"
      ]
     },
     "metadata": {},
     "output_type": "display_data"
    }
   ],
   "source": [
    "lp_do(get.variables, lp_prob_5)"
   ]
  },
  {
   "cell_type": "code",
   "execution_count": 189,
   "metadata": {},
   "outputs": [
    {
     "data": {
      "text/html": [
       "<table>\n",
       "<thead><tr><th scope=col>Constraints</th><th scope=col>Answers</th></tr></thead>\n",
       "<tbody>\n",
       "\t<tr><td><span style=white-space:pre-wrap>+Q1 -150 B1 &gt;= 0 -&gt;     </span></td><td><span style=white-space:pre-wrap>   0</span>                          </td></tr>\n",
       "\t<tr><td><span style=white-space:pre-wrap>+Q2 -150 B2 &gt;= 0 -&gt;     </span></td><td><span style=white-space:pre-wrap>   0</span>                          </td></tr>\n",
       "\t<tr><td><span style=white-space:pre-wrap>+Q3 -150 B3 &gt;= 0 -&gt;     </span></td><td><span style=white-space:pre-wrap>   0</span>                          </td></tr>\n",
       "\t<tr><td><span style=white-space:pre-wrap>+Q4 -150 B4 &gt;= 0 -&gt;     </span></td><td><span style=white-space:pre-wrap>   0</span>                          </td></tr>\n",
       "\t<tr><td><span style=white-space:pre-wrap>+R1 -1000 B1 &lt;= 0 -&gt;    </span></td><td>-300                                                                  </td></tr>\n",
       "\t<tr><td><span style=white-space:pre-wrap>+R2 -1000 B2 &lt;= 0 -&gt;    </span></td><td><span style=white-space:pre-wrap>   0</span>                          </td></tr>\n",
       "\t<tr><td><span style=white-space:pre-wrap>+R3 -1000 B3 &lt;= 0 -&gt;    </span></td><td><span style=white-space:pre-wrap>   0</span>                          </td></tr>\n",
       "\t<tr><td><span style=white-space:pre-wrap>+R4 -1000 B4 &lt;= 0 -&gt;    </span></td><td><span style=white-space:pre-wrap>   0</span>                          </td></tr>\n",
       "\t<tr><td><span style=white-space:pre-wrap>+R5 -1000 B5 &lt;= 0 -&gt;    </span></td><td><span style=white-space:pre-wrap>   0</span>                          </td></tr>\n",
       "\t<tr><td><span style=white-space:pre-wrap>+Q1 +R1 -S1 = 100 -&gt;    </span></td><td> 100                                                               </td></tr>\n",
       "\t<tr><td>+S1 +Q2 +R2 -S2 = 200 -&gt;</td><td> 200                       </td></tr>\n",
       "\t<tr><td>+S2 +Q3 +R3 -S3 = 150 -&gt;</td><td> 150                       </td></tr>\n",
       "\t<tr><td>+S3 +Q4 +R4 -S4 = 400 -&gt;</td><td> 400                       </td></tr>\n",
       "</tbody>\n",
       "</table>\n"
      ],
      "text/latex": [
       "\\begin{tabular}{r|ll}\n",
       " Constraints & Answers\\\\\n",
       "\\hline\n",
       "\t +Q1 -150 B1 >= 0 ->      &    0                    \\\\\n",
       "\t +Q2 -150 B2 >= 0 ->      &    0                    \\\\\n",
       "\t +Q3 -150 B3 >= 0 ->      &    0                    \\\\\n",
       "\t +Q4 -150 B4 >= 0 ->      &    0                    \\\\\n",
       "\t +R1 -1000 B1 <= 0 ->     & -300                    \\\\\n",
       "\t +R2 -1000 B2 <= 0 ->     &    0                    \\\\\n",
       "\t +R3 -1000 B3 <= 0 ->     &    0                    \\\\\n",
       "\t +R4 -1000 B4 <= 0 ->     &    0                    \\\\\n",
       "\t +R5 -1000 B5 <= 0 ->     &    0                    \\\\\n",
       "\t +Q1 +R1 -S1 = 100 ->     &  100                    \\\\\n",
       "\t +S1 +Q2 +R2 -S2 = 200 -> &  200                    \\\\\n",
       "\t +S2 +Q3 +R3 -S3 = 150 -> &  150                    \\\\\n",
       "\t +S3 +Q4 +R4 -S4 = 400 -> &  400                    \\\\\n",
       "\\end{tabular}\n"
      ],
      "text/markdown": [
       "\n",
       "Constraints | Answers | \n",
       "|---|---|---|---|---|---|---|---|---|---|---|---|---|\n",
       "| +Q1 -150 B1 >= 0 ->      |    0                     | \n",
       "| +Q2 -150 B2 >= 0 ->      |    0                     | \n",
       "| +Q3 -150 B3 >= 0 ->      |    0                     | \n",
       "| +Q4 -150 B4 >= 0 ->      |    0                     | \n",
       "| +R1 -1000 B1 <= 0 ->     | -300                     | \n",
       "| +R2 -1000 B2 <= 0 ->     |    0                     | \n",
       "| +R3 -1000 B3 <= 0 ->     |    0                     | \n",
       "| +R4 -1000 B4 <= 0 ->     |    0                     | \n",
       "| +R5 -1000 B5 <= 0 ->     |    0                     | \n",
       "| +Q1 +R1 -S1 = 100 ->     |  100                     | \n",
       "| +S1 +Q2 +R2 -S2 = 200 -> |  200                     | \n",
       "| +S2 +Q3 +R3 -S3 = 150 -> |  150                     | \n",
       "| +S3 +Q4 +R4 -S4 = 400 -> |  400                     | \n",
       "\n",
       "\n"
      ],
      "text/plain": [
       "   Constraints              Answers\n",
       "1  +Q1 -150 B1 >= 0 ->         0   \n",
       "2  +Q2 -150 B2 >= 0 ->         0   \n",
       "3  +Q3 -150 B3 >= 0 ->         0   \n",
       "4  +Q4 -150 B4 >= 0 ->         0   \n",
       "5  +R1 -1000 B1 <= 0 ->     -300   \n",
       "6  +R2 -1000 B2 <= 0 ->        0   \n",
       "7  +R3 -1000 B3 <= 0 ->        0   \n",
       "8  +R4 -1000 B4 <= 0 ->        0   \n",
       "9  +R5 -1000 B5 <= 0 ->        0   \n",
       "10 +Q1 +R1 -S1 = 100 ->      100   \n",
       "11 +S1 +Q2 +R2 -S2 = 200 ->  200   \n",
       "12 +S2 +Q3 +R3 -S3 = 150 ->  150   \n",
       "13 +S3 +Q4 +R4 -S4 = 400 ->  400   "
      ]
     },
     "metadata": {},
     "output_type": "display_data"
    }
   ],
   "source": [
    "lp_do(get.constraints, lp_prob_5, constr_lables = c(\n",
    "    \"+Q1 -150 B1 >= 0\",\n",
    "    \"+Q2 -150 B2 >= 0\",\n",
    "    \"+Q3 -150 B3 >= 0\",\n",
    "    \"+Q4 -150 B4 >= 0\",\n",
    "    \"+R1 -1000 B1 <= 0\",\n",
    "    \"+R2 -1000 B2 <= 0\",\n",
    "    \"+R3 -1000 B3 <= 0\",\n",
    "    \"+R4 -1000 B4 <= 0\",\n",
    "    \"+R5 -1000 B5 <= 0\",\n",
    "    \"+Q1 +R1 -S1 = 100\",\n",
    "    \"+S1 +Q2 +R2 -S2 = 200\",\n",
    "    \"+S2 +Q3 +R3 -S3 = 150\",\n",
    "    \"+S3 +Q4 +R4 -S4 = 400\"\n",
    "))"
   ]
  }
 ],
 "metadata": {
  "kernelspec": {
   "display_name": "R",
   "language": "R",
   "name": "ir"
  },
  "language_info": {
   "codemirror_mode": "r",
   "file_extension": ".r",
   "mimetype": "text/x-r-source",
   "name": "R",
   "pygments_lexer": "r",
   "version": "3.5.1"
  }
 },
 "nbformat": 4,
 "nbformat_minor": 2
}
