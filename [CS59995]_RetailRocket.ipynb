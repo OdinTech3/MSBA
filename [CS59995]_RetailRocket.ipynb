{
  "nbformat": 4,
  "nbformat_minor": 0,
  "metadata": {
    "colab": {
      "name": "[CS59995] RetailRocket.ipynb",
      "version": "0.3.2",
      "provenance": [],
      "collapsed_sections": [
        "gmz1Cd3d9-Us"
      ],
      "toc_visible": true,
      "include_colab_link": true
    },
    "kernelspec": {
      "name": "python3",
      "display_name": "Python 3"
    },
    "accelerator": "GPU"
  },
  "cells": [
    {
      "cell_type": "markdown",
      "metadata": {
        "id": "view-in-github",
        "colab_type": "text"
      },
      "source": [
        "<a href=\"https://colab.research.google.com/github/OdinTech3/MSBA/blob/master/%5BCS59995%5D_RetailRocket.ipynb\" target=\"_parent\"><img src=\"https://colab.research.google.com/assets/colab-badge.svg\" alt=\"Open In Colab\"/></a>"
      ]
    },
    {
      "cell_type": "code",
      "metadata": {
        "id": "2NWV2KAw2bjQ",
        "colab_type": "code",
        "colab": {}
      },
      "source": [
        "# !mkdir data; mv events.csv data/\n",
        "# !pip install cytoolz plotnine humanize implicit"
      ],
      "execution_count": 0,
      "outputs": []
    },
    {
      "cell_type": "code",
      "metadata": {
        "id": "rmqS3stHRdlS",
        "colab_type": "code",
        "colab": {}
      },
      "source": [
        "import os\n",
        "import math\n",
        "import humanize\n",
        "import cytoolz as tlz\n",
        "import pandas as pd\n",
        "import numpy as np\n",
        "from plotnine import *\n",
        "from datetime import datetime, timedelta\n",
        "from collections import Counter\n",
        "from scipy.sparse import csr_matrix, coo_matrix\n",
        "from implicit.als import AlternatingLeastSquares\n",
        "from implicit.bpr import BayesianPersonalizedRanking"
      ],
      "execution_count": 0,
      "outputs": []
    },
    {
      "cell_type": "markdown",
      "metadata": {
        "id": "pTILhRLqG3jN",
        "colab_type": "text"
      },
      "source": [
        "## Load The Dataset"
      ]
    },
    {
      "cell_type": "code",
      "metadata": {
        "id": "cNokLgS5i9LI",
        "colab_type": "code",
        "outputId": "ab1317dc-6189-4978-fbb9-5a8289064c2f",
        "colab": {
          "base_uri": "https://localhost:8080/",
          "height": 204
        }
      },
      "source": [
        "# Run this if using local data\n",
        "events_df = pd.read_csv(\"data/events.csv\")\n",
        "events_df.head()"
      ],
      "execution_count": 0,
      "outputs": [
        {
          "output_type": "execute_result",
          "data": {
            "text/html": [
              "<div>\n",
              "<style scoped>\n",
              "    .dataframe tbody tr th:only-of-type {\n",
              "        vertical-align: middle;\n",
              "    }\n",
              "\n",
              "    .dataframe tbody tr th {\n",
              "        vertical-align: top;\n",
              "    }\n",
              "\n",
              "    .dataframe thead th {\n",
              "        text-align: right;\n",
              "    }\n",
              "</style>\n",
              "<table border=\"1\" class=\"dataframe\">\n",
              "  <thead>\n",
              "    <tr style=\"text-align: right;\">\n",
              "      <th></th>\n",
              "      <th>timestamp</th>\n",
              "      <th>visitorid</th>\n",
              "      <th>event</th>\n",
              "      <th>itemid</th>\n",
              "      <th>transactionid</th>\n",
              "    </tr>\n",
              "  </thead>\n",
              "  <tbody>\n",
              "    <tr>\n",
              "      <th>0</th>\n",
              "      <td>1433221332117</td>\n",
              "      <td>257597</td>\n",
              "      <td>view</td>\n",
              "      <td>355908</td>\n",
              "      <td>NaN</td>\n",
              "    </tr>\n",
              "    <tr>\n",
              "      <th>1</th>\n",
              "      <td>1433224214164</td>\n",
              "      <td>992329</td>\n",
              "      <td>view</td>\n",
              "      <td>248676</td>\n",
              "      <td>NaN</td>\n",
              "    </tr>\n",
              "    <tr>\n",
              "      <th>2</th>\n",
              "      <td>1433221999827</td>\n",
              "      <td>111016</td>\n",
              "      <td>view</td>\n",
              "      <td>318965</td>\n",
              "      <td>NaN</td>\n",
              "    </tr>\n",
              "    <tr>\n",
              "      <th>3</th>\n",
              "      <td>1433221955914</td>\n",
              "      <td>483717</td>\n",
              "      <td>view</td>\n",
              "      <td>253185</td>\n",
              "      <td>NaN</td>\n",
              "    </tr>\n",
              "    <tr>\n",
              "      <th>4</th>\n",
              "      <td>1433221337106</td>\n",
              "      <td>951259</td>\n",
              "      <td>view</td>\n",
              "      <td>367447</td>\n",
              "      <td>NaN</td>\n",
              "    </tr>\n",
              "  </tbody>\n",
              "</table>\n",
              "</div>"
            ],
            "text/plain": [
              "       timestamp  visitorid event  itemid  transactionid\n",
              "0  1433221332117     257597  view  355908            NaN\n",
              "1  1433224214164     992329  view  248676            NaN\n",
              "2  1433221999827     111016  view  318965            NaN\n",
              "3  1433221955914     483717  view  253185            NaN\n",
              "4  1433221337106     951259  view  367447            NaN"
            ]
          },
          "metadata": {
            "tags": []
          },
          "execution_count": 33
        }
      ]
    },
    {
      "cell_type": "markdown",
      "metadata": {
        "id": "vT95DxYl0dLL",
        "colab_type": "text"
      },
      "source": [
        "## Exploratory Data Analysis"
      ]
    },
    {
      "cell_type": "markdown",
      "metadata": {
        "id": "7n-BlFPN0mqr",
        "colab_type": "text"
      },
      "source": [
        ""
      ]
    },
    {
      "cell_type": "code",
      "metadata": {
        "id": "R0LUAQe80oVa",
        "colab_type": "code",
        "outputId": "0af71b17-653a-460e-c5e4-33a9bec41f90",
        "colab": {
          "base_uri": "https://localhost:8080/",
          "height": 68
        }
      },
      "source": [
        "unique_visitors = events_df[\"visitorid\"].unique()\n",
        "unique_items = events_df[\"itemid\"].unique()\n",
        "\n",
        "print(\"Total number of actions by visitor (records):\", humanize.intword(events_df[\"visitorid\"].size))\n",
        "print(\"Total number of unique visitors:\", humanize.intword(unique_visitors.size))\n",
        "print(\"Total number of unique items:\", humanize.intcomma(unique_items.size))"
      ],
      "execution_count": 0,
      "outputs": [
        {
          "output_type": "stream",
          "text": [
            "Total number of actions by visitor (records): 2.8 million\n",
            "Total number of unique visitors: 1.4 million\n",
            "Total number of unique items: 235,061\n"
          ],
          "name": "stdout"
        }
      ]
    },
    {
      "cell_type": "markdown",
      "metadata": {
        "id": "x3hZVlAa3NgX",
        "colab_type": "text"
      },
      "source": [
        ""
      ]
    },
    {
      "cell_type": "code",
      "metadata": {
        "id": "vgAOPKsQ3KPv",
        "colab_type": "code",
        "outputId": "5cfe8044-324f-4e68-f059-70e0a9d79345",
        "colab": {
          "base_uri": "https://localhost:8080/",
          "height": 142
        }
      },
      "source": [
        "event_count = Counter(events_df[\"event\"].values)\n",
        "event_count_df = (\n",
        "    pd.DataFrame\n",
        "    .from_dict(event_count, orient='index')\n",
        "    .reset_index()\n",
        "    .rename(columns={'index':'event', 0:'count'})\n",
        ")\n",
        "\n",
        "event_count_df"
      ],
      "execution_count": 0,
      "outputs": [
        {
          "output_type": "execute_result",
          "data": {
            "text/html": [
              "<div>\n",
              "<style scoped>\n",
              "    .dataframe tbody tr th:only-of-type {\n",
              "        vertical-align: middle;\n",
              "    }\n",
              "\n",
              "    .dataframe tbody tr th {\n",
              "        vertical-align: top;\n",
              "    }\n",
              "\n",
              "    .dataframe thead th {\n",
              "        text-align: right;\n",
              "    }\n",
              "</style>\n",
              "<table border=\"1\" class=\"dataframe\">\n",
              "  <thead>\n",
              "    <tr style=\"text-align: right;\">\n",
              "      <th></th>\n",
              "      <th>event</th>\n",
              "      <th>count</th>\n",
              "    </tr>\n",
              "  </thead>\n",
              "  <tbody>\n",
              "    <tr>\n",
              "      <th>0</th>\n",
              "      <td>view</td>\n",
              "      <td>2664312</td>\n",
              "    </tr>\n",
              "    <tr>\n",
              "      <th>1</th>\n",
              "      <td>addtocart</td>\n",
              "      <td>69332</td>\n",
              "    </tr>\n",
              "    <tr>\n",
              "      <th>2</th>\n",
              "      <td>transaction</td>\n",
              "      <td>22457</td>\n",
              "    </tr>\n",
              "  </tbody>\n",
              "</table>\n",
              "</div>"
            ],
            "text/plain": [
              "         event    count\n",
              "0         view  2664312\n",
              "1    addtocart    69332\n",
              "2  transaction    22457"
            ]
          },
          "metadata": {
            "tags": []
          },
          "execution_count": 35
        }
      ]
    },
    {
      "cell_type": "markdown",
      "metadata": {
        "id": "AWdSJd1I80-9",
        "colab_type": "text"
      },
      "source": [
        ""
      ]
    },
    {
      "cell_type": "code",
      "metadata": {
        "colab_type": "code",
        "id": "8JIIenX49FeF",
        "outputId": "94a8b1d5-537a-4e8d-dbc1-140cbd264fb0",
        "colab": {
          "base_uri": "https://localhost:8080/",
          "height": 490
        }
      },
      "source": [
        "(\n",
        "    ggplot(event_count_df, aes(x=\"event\", y=\"count\"))\n",
        "    + geom_bar(stat=\"identity\", fill=\"white\", color=\"blue\")\n",
        "    + ggtitle(\"Event Count\")\n",
        ")"
      ],
      "execution_count": 0,
      "outputs": [
        {
          "output_type": "display_data",
          "data": {
            "image/png": "[encoded data removed]",
            "text/plain": [
              "<Figure size 640x480 with 1 Axes>"
            ]
          },
          "metadata": {
            "tags": []
          }
        },
        {
          "output_type": "execute_result",
          "data": {
            "text/plain": [
              "<ggplot: (-9223363258417342576)>"
            ]
          },
          "metadata": {
            "tags": []
          },
          "execution_count": 36
        }
      ]
    },
    {
      "cell_type": "markdown",
      "metadata": {
        "id": "LDN0PoCzADyi",
        "colab_type": "text"
      },
      "source": [
        ""
      ]
    },
    {
      "cell_type": "code",
      "metadata": {
        "id": "_XWfqFUm9HJV",
        "colab_type": "code",
        "outputId": "a29d3e6c-cded-4e30-e30f-20366054b06a",
        "colab": {
          "base_uri": "https://localhost:8080/",
          "height": 34
        }
      },
      "source": [
        "visitors_who_bought = events_df.loc[lambda df: df.transactionid.notnull()].visitorid.unique()\n",
        "\n",
        "print(\"Number of visitors that made at least 1 purchase:\", humanize.intcomma(visitors_who_bought.size))"
      ],
      "execution_count": 0,
      "outputs": [
        {
          "output_type": "stream",
          "text": [
            "Number of visitors that made at least 1 purchase: 11,719\n"
          ],
          "name": "stdout"
        }
      ]
    },
    {
      "cell_type": "markdown",
      "metadata": {
        "id": "mJ9fCKaOrns8",
        "colab_type": "text"
      },
      "source": [
        "Let's take a look into the distribution of  interactions: `events`, `addtocart`, and  `transaction` for each user. First we will convert the `event` column to a categorical column"
      ]
    },
    {
      "cell_type": "code",
      "metadata": {
        "id": "j2B38c51sArB",
        "colab_type": "code",
        "outputId": "58a1a4d7-7866-4457-f11f-7f0c98b2e8f4",
        "colab": {
          "base_uri": "https://localhost:8080/",
          "height": 102
        }
      },
      "source": [
        "events_df[\"event\"] =  events_df[\"event\"].astype(\"category\")\n",
        "\n",
        "events_df.event.describe()"
      ],
      "execution_count": 0,
      "outputs": [
        {
          "output_type": "execute_result",
          "data": {
            "text/plain": [
              "count     2756101\n",
              "unique          3\n",
              "top          view\n",
              "freq      2664312\n",
              "Name: event, dtype: object"
            ]
          },
          "metadata": {
            "tags": []
          },
          "execution_count": 38
        }
      ]
    },
    {
      "cell_type": "code",
      "metadata": {
        "id": "RK1QGIzjuN-K",
        "colab_type": "code",
        "outputId": "04bbfcfd-7ff4-4912-8c55-9c4f3cce957e",
        "colab": {
          "base_uri": "https://localhost:8080/",
          "height": 297
        }
      },
      "source": [
        "interaction_df = (\n",
        "    events_df\n",
        "    .loc[:, [\"visitorid\", \"event\"]]\n",
        "    .groupby(\"visitorid\")\n",
        "    .count()\n",
        "    .rename(columns={\"event\": \"interactions\"})\n",
        ")\n",
        "\n",
        "interaction_df.describe()"
      ],
      "execution_count": 0,
      "outputs": [
        {
          "output_type": "execute_result",
          "data": {
            "text/html": [
              "<div>\n",
              "<style scoped>\n",
              "    .dataframe tbody tr th:only-of-type {\n",
              "        vertical-align: middle;\n",
              "    }\n",
              "\n",
              "    .dataframe tbody tr th {\n",
              "        vertical-align: top;\n",
              "    }\n",
              "\n",
              "    .dataframe thead th {\n",
              "        text-align: right;\n",
              "    }\n",
              "</style>\n",
              "<table border=\"1\" class=\"dataframe\">\n",
              "  <thead>\n",
              "    <tr style=\"text-align: right;\">\n",
              "      <th></th>\n",
              "      <th>interactions</th>\n",
              "    </tr>\n",
              "  </thead>\n",
              "  <tbody>\n",
              "    <tr>\n",
              "      <th>count</th>\n",
              "      <td>1.407580e+06</td>\n",
              "    </tr>\n",
              "    <tr>\n",
              "      <th>mean</th>\n",
              "      <td>1.958042e+00</td>\n",
              "    </tr>\n",
              "    <tr>\n",
              "      <th>std</th>\n",
              "      <td>1.258049e+01</td>\n",
              "    </tr>\n",
              "    <tr>\n",
              "      <th>min</th>\n",
              "      <td>1.000000e+00</td>\n",
              "    </tr>\n",
              "    <tr>\n",
              "      <th>25%</th>\n",
              "      <td>1.000000e+00</td>\n",
              "    </tr>\n",
              "    <tr>\n",
              "      <th>50%</th>\n",
              "      <td>1.000000e+00</td>\n",
              "    </tr>\n",
              "    <tr>\n",
              "      <th>75%</th>\n",
              "      <td>2.000000e+00</td>\n",
              "    </tr>\n",
              "    <tr>\n",
              "      <th>max</th>\n",
              "      <td>7.757000e+03</td>\n",
              "    </tr>\n",
              "  </tbody>\n",
              "</table>\n",
              "</div>"
            ],
            "text/plain": [
              "       interactions\n",
              "count  1.407580e+06\n",
              "mean   1.958042e+00\n",
              "std    1.258049e+01\n",
              "min    1.000000e+00\n",
              "25%    1.000000e+00\n",
              "50%    1.000000e+00\n",
              "75%    2.000000e+00\n",
              "max    7.757000e+03"
            ]
          },
          "metadata": {
            "tags": []
          },
          "execution_count": 89
        }
      ]
    },
    {
      "cell_type": "code",
      "metadata": {
        "id": "stjjhWJa26MX",
        "colab_type": "code",
        "outputId": "a0f39ab6-52e9-47b6-ceda-15668b23412c",
        "colab": {
          "base_uri": "https://localhost:8080/",
          "height": 286
        }
      },
      "source": [
        "interaction_df.interactions.hist(bins=5, log=True)"
      ],
      "execution_count": 0,
      "outputs": [
        {
          "output_type": "execute_result",
          "data": {
            "text/plain": [
              "<matplotlib.axes._subplots.AxesSubplot at 0x7fbe36aa3198>"
            ]
          },
          "metadata": {
            "tags": []
          },
          "execution_count": 90
        },
        {
          "output_type": "display_data",
          "data": {
            "image/png": "[encoded data removed]",
            "text/plain": [
              "<Figure size 432x288 with 1 Axes>"
            ]
          },
          "metadata": {
            "tags": []
          }
        }
      ]
    },
    {
      "cell_type": "markdown",
      "metadata": {
        "id": "FFG6xpeMxjK8",
        "colab_type": "text"
      },
      "source": [
        "`interaction_df` is a dataframe that has count of total interactions for each user."
      ]
    },
    {
      "cell_type": "markdown",
      "metadata": {
        "id": "Z6XMOqqcTMQZ",
        "colab_type": "text"
      },
      "source": [
        "## Building The Model"
      ]
    },
    {
      "cell_type": "markdown",
      "metadata": {
        "id": "jQ7Fh5P3UwxG",
        "colab_type": "text"
      },
      "source": [
        "### Cleaning The Data\n"
      ]
    },
    {
      "cell_type": "markdown",
      "metadata": {
        "id": "_Kb7CAB053Cp",
        "colab_type": "text"
      },
      "source": [
        "Removing rows whose visitors had less than 10 total interactions"
      ]
    },
    {
      "cell_type": "code",
      "metadata": {
        "id": "ZArVdFeB2kZp",
        "colab_type": "code",
        "outputId": "3100bd66-f962-4ed1-fe4d-f1a085facd0b",
        "colab": {
          "base_uri": "https://localhost:8080/",
          "height": 204
        }
      },
      "source": [
        "less10 = interaction_df.loc[lambda df: df[\"interactions\"] < 10].index.values\n",
        "greater10_df = (\n",
        "    events_df\n",
        "    .loc[lambda df: ~df[\"visitorid\"].isin(less10)]\n",
        "    .reset_index(drop=True)\n",
        ")\n",
        "\n",
        "greater10_df.head()"
      ],
      "execution_count": 0,
      "outputs": [
        {
          "output_type": "execute_result",
          "data": {
            "text/html": [
              "<div>\n",
              "<style scoped>\n",
              "    .dataframe tbody tr th:only-of-type {\n",
              "        vertical-align: middle;\n",
              "    }\n",
              "\n",
              "    .dataframe tbody tr th {\n",
              "        vertical-align: top;\n",
              "    }\n",
              "\n",
              "    .dataframe thead th {\n",
              "        text-align: right;\n",
              "    }\n",
              "</style>\n",
              "<table border=\"1\" class=\"dataframe\">\n",
              "  <thead>\n",
              "    <tr style=\"text-align: right;\">\n",
              "      <th></th>\n",
              "      <th>timestamp</th>\n",
              "      <th>visitorid</th>\n",
              "      <th>event</th>\n",
              "      <th>itemid</th>\n",
              "      <th>transactionid</th>\n",
              "    </tr>\n",
              "  </thead>\n",
              "  <tbody>\n",
              "    <tr>\n",
              "      <th>0</th>\n",
              "      <td>1433224214164</td>\n",
              "      <td>992329</td>\n",
              "      <td>view</td>\n",
              "      <td>248676</td>\n",
              "      <td>NaN</td>\n",
              "    </tr>\n",
              "    <tr>\n",
              "      <th>1</th>\n",
              "      <td>1433223203944</td>\n",
              "      <td>125625</td>\n",
              "      <td>view</td>\n",
              "      <td>17655</td>\n",
              "      <td>NaN</td>\n",
              "    </tr>\n",
              "    <tr>\n",
              "      <th>2</th>\n",
              "      <td>1433222147345</td>\n",
              "      <td>1076270</td>\n",
              "      <td>view</td>\n",
              "      <td>262799</td>\n",
              "      <td>NaN</td>\n",
              "    </tr>\n",
              "    <tr>\n",
              "      <th>3</th>\n",
              "      <td>1433224644638</td>\n",
              "      <td>361387</td>\n",
              "      <td>view</td>\n",
              "      <td>43485</td>\n",
              "      <td>NaN</td>\n",
              "    </tr>\n",
              "    <tr>\n",
              "      <th>4</th>\n",
              "      <td>1433224303386</td>\n",
              "      <td>503970</td>\n",
              "      <td>view</td>\n",
              "      <td>448136</td>\n",
              "      <td>NaN</td>\n",
              "    </tr>\n",
              "  </tbody>\n",
              "</table>\n",
              "</div>"
            ],
            "text/plain": [
              "       timestamp  visitorid event  itemid  transactionid\n",
              "0  1433224214164     992329  view  248676            NaN\n",
              "1  1433223203944     125625  view   17655            NaN\n",
              "2  1433222147345    1076270  view  262799            NaN\n",
              "3  1433224644638     361387  view   43485            NaN\n",
              "4  1433224303386     503970  view  448136            NaN"
            ]
          },
          "metadata": {
            "tags": []
          },
          "execution_count": 119
        }
      ]
    },
    {
      "cell_type": "markdown",
      "metadata": {
        "id": "Gx2yESJIgpdD",
        "colab_type": "text"
      },
      "source": [
        "We will create a function `to_datetime` that will convert the timestamps in `events_df` to datetime object with format: __year, month and day__"
      ]
    },
    {
      "cell_type": "code",
      "metadata": {
        "id": "kZAm2o-MZvkV",
        "colab_type": "code",
        "colab": {}
      },
      "source": [
        "def to_datetime(timestamps: pd.Series) -> pd.Series:\n",
        "  dates = [\n",
        "      datetime.fromtimestamp(t / 1000).date()\n",
        "      for t in timestamps\n",
        "  ]\n",
        "  return pd.Series(dates)"
      ],
      "execution_count": 0,
      "outputs": []
    },
    {
      "cell_type": "code",
      "metadata": {
        "id": "uQSmkW9-U5ym",
        "colab_type": "code",
        "outputId": "dc6c7cd2-29b7-43d5-c7c3-3623cdd127fe",
        "colab": {
          "base_uri": "https://localhost:8080/",
          "height": 204
        }
      },
      "source": [
        "data_df = (\n",
        "    greater10_df\n",
        "    .loc[:, [\"timestamp\", \"visitorid\", \"itemid\", \"event\"]]\n",
        "    .assign(date = lambda df: to_datetime(df[\"timestamp\"]))\n",
        "    .sort_values(\"timestamp\", ascending=False)\n",
        "    .reset_index(drop=True)\n",
        ")\n",
        "\n",
        "data_df.head()"
      ],
      "execution_count": 0,
      "outputs": [
        {
          "output_type": "execute_result",
          "data": {
            "text/html": [
              "<div>\n",
              "<style scoped>\n",
              "    .dataframe tbody tr th:only-of-type {\n",
              "        vertical-align: middle;\n",
              "    }\n",
              "\n",
              "    .dataframe tbody tr th {\n",
              "        vertical-align: top;\n",
              "    }\n",
              "\n",
              "    .dataframe thead th {\n",
              "        text-align: right;\n",
              "    }\n",
              "</style>\n",
              "<table border=\"1\" class=\"dataframe\">\n",
              "  <thead>\n",
              "    <tr style=\"text-align: right;\">\n",
              "      <th></th>\n",
              "      <th>timestamp</th>\n",
              "      <th>visitorid</th>\n",
              "      <th>itemid</th>\n",
              "      <th>event</th>\n",
              "      <th>date</th>\n",
              "    </tr>\n",
              "  </thead>\n",
              "  <tbody>\n",
              "    <tr>\n",
              "      <th>0</th>\n",
              "      <td>1442545037312</td>\n",
              "      <td>1063469</td>\n",
              "      <td>38888</td>\n",
              "      <td>view</td>\n",
              "      <td>2015-09-18</td>\n",
              "    </tr>\n",
              "    <tr>\n",
              "      <th>1</th>\n",
              "      <td>1442545004475</td>\n",
              "      <td>1100093</td>\n",
              "      <td>465387</td>\n",
              "      <td>view</td>\n",
              "      <td>2015-09-18</td>\n",
              "    </tr>\n",
              "    <tr>\n",
              "      <th>2</th>\n",
              "      <td>1442544741219</td>\n",
              "      <td>994820</td>\n",
              "      <td>89323</td>\n",
              "      <td>view</td>\n",
              "      <td>2015-09-18</td>\n",
              "    </tr>\n",
              "    <tr>\n",
              "      <th>3</th>\n",
              "      <td>1442544701919</td>\n",
              "      <td>994820</td>\n",
              "      <td>440677</td>\n",
              "      <td>view</td>\n",
              "      <td>2015-09-18</td>\n",
              "    </tr>\n",
              "    <tr>\n",
              "      <th>4</th>\n",
              "      <td>1442544674798</td>\n",
              "      <td>1100093</td>\n",
              "      <td>49907</td>\n",
              "      <td>view</td>\n",
              "      <td>2015-09-18</td>\n",
              "    </tr>\n",
              "  </tbody>\n",
              "</table>\n",
              "</div>"
            ],
            "text/plain": [
              "       timestamp  visitorid  itemid event        date\n",
              "0  1442545037312    1063469   38888  view  2015-09-18\n",
              "1  1442545004475    1100093  465387  view  2015-09-18\n",
              "2  1442544741219     994820   89323  view  2015-09-18\n",
              "3  1442544701919     994820  440677  view  2015-09-18\n",
              "4  1442544674798    1100093   49907  view  2015-09-18"
            ]
          },
          "metadata": {
            "tags": []
          },
          "execution_count": 121
        }
      ]
    },
    {
      "cell_type": "markdown",
      "metadata": {
        "id": "xNZ3bjhQfq-k",
        "colab_type": "text"
      },
      "source": [
        "### Splitting into Training and Test"
      ]
    },
    {
      "cell_type": "markdown",
      "metadata": {
        "id": "zb3toTrIlr67",
        "colab_type": "text"
      },
      "source": [
        "We will use the last days for testing"
      ]
    },
    {
      "cell_type": "code",
      "metadata": {
        "id": "VtrmgbVae1ZW",
        "colab_type": "code",
        "outputId": "0294ff94-cff8-43c7-d3bd-0b10ca1144a3",
        "colab": {
          "base_uri": "https://localhost:8080/",
          "height": 51
        }
      },
      "source": [
        "N_DAYS = 1\n",
        "end_date = tlz.first(data_df.date.values)\n",
        "start_date = end_date - timedelta(days = N_DAYS)\n",
        "\n",
        "print(\"Start date for test data: \", start_date)\n",
        "print(\"End date for test data: \", end_date)"
      ],
      "execution_count": 0,
      "outputs": [
        {
          "output_type": "stream",
          "text": [
            "Start date for test data:  2015-09-17\n",
            "End date for test data:  2015-09-18\n"
          ],
          "name": "stdout"
        }
      ]
    },
    {
      "cell_type": "markdown",
      "metadata": {
        "id": "hrERPmK4_aDF",
        "colab_type": "text"
      },
      "source": [
        "#### Previewing The Training Data"
      ]
    },
    {
      "cell_type": "code",
      "metadata": {
        "id": "rxrP66dA_iga",
        "colab_type": "code",
        "outputId": "a61a06b1-052e-4bd0-9b55-735de8520e62",
        "colab": {
          "base_uri": "https://localhost:8080/",
          "height": 34
        }
      },
      "source": [
        "train_df = data_df[~data_df[\"date\"].between(start_date, end_date)].reset_index(drop=True)\n",
        "\n",
        "print(\"Shape of train dataset: \", train_df.shape)"
      ],
      "execution_count": 0,
      "outputs": [
        {
          "output_type": "stream",
          "text": [
            "Shape of train dataset:  (581075, 5)\n"
          ],
          "name": "stdout"
        }
      ]
    },
    {
      "cell_type": "code",
      "metadata": {
        "id": "AhmGPBB6YTjf",
        "colab_type": "code",
        "outputId": "9a143710-c6e6-475c-8ea8-117e4e4b7ae0",
        "colab": {
          "base_uri": "https://localhost:8080/",
          "height": 204
        }
      },
      "source": [
        "train_df.head()"
      ],
      "execution_count": 0,
      "outputs": [
        {
          "output_type": "execute_result",
          "data": {
            "text/html": [
              "<div>\n",
              "<style scoped>\n",
              "    .dataframe tbody tr th:only-of-type {\n",
              "        vertical-align: middle;\n",
              "    }\n",
              "\n",
              "    .dataframe tbody tr th {\n",
              "        vertical-align: top;\n",
              "    }\n",
              "\n",
              "    .dataframe thead th {\n",
              "        text-align: right;\n",
              "    }\n",
              "</style>\n",
              "<table border=\"1\" class=\"dataframe\">\n",
              "  <thead>\n",
              "    <tr style=\"text-align: right;\">\n",
              "      <th></th>\n",
              "      <th>timestamp</th>\n",
              "      <th>visitorid</th>\n",
              "      <th>itemid</th>\n",
              "      <th>event</th>\n",
              "      <th>date</th>\n",
              "    </tr>\n",
              "  </thead>\n",
              "  <tbody>\n",
              "    <tr>\n",
              "      <th>0</th>\n",
              "      <td>1442447846473</td>\n",
              "      <td>765650</td>\n",
              "      <td>417578</td>\n",
              "      <td>view</td>\n",
              "      <td>2015-09-16</td>\n",
              "    </tr>\n",
              "    <tr>\n",
              "      <th>1</th>\n",
              "      <td>1442447729071</td>\n",
              "      <td>623174</td>\n",
              "      <td>427319</td>\n",
              "      <td>view</td>\n",
              "      <td>2015-09-16</td>\n",
              "    </tr>\n",
              "    <tr>\n",
              "      <th>2</th>\n",
              "      <td>1442447724456</td>\n",
              "      <td>565978</td>\n",
              "      <td>354403</td>\n",
              "      <td>view</td>\n",
              "      <td>2015-09-16</td>\n",
              "    </tr>\n",
              "    <tr>\n",
              "      <th>3</th>\n",
              "      <td>1442447696602</td>\n",
              "      <td>156163</td>\n",
              "      <td>226450</td>\n",
              "      <td>view</td>\n",
              "      <td>2015-09-16</td>\n",
              "    </tr>\n",
              "    <tr>\n",
              "      <th>4</th>\n",
              "      <td>1442447674802</td>\n",
              "      <td>565978</td>\n",
              "      <td>250408</td>\n",
              "      <td>view</td>\n",
              "      <td>2015-09-16</td>\n",
              "    </tr>\n",
              "  </tbody>\n",
              "</table>\n",
              "</div>"
            ],
            "text/plain": [
              "       timestamp  visitorid  itemid event        date\n",
              "0  1442447846473     765650  417578  view  2015-09-16\n",
              "1  1442447729071     623174  427319  view  2015-09-16\n",
              "2  1442447724456     565978  354403  view  2015-09-16\n",
              "3  1442447696602     156163  226450  view  2015-09-16\n",
              "4  1442447674802     565978  250408  view  2015-09-16"
            ]
          },
          "metadata": {
            "tags": []
          },
          "execution_count": 124
        }
      ]
    },
    {
      "cell_type": "markdown",
      "metadata": {
        "id": "EIKXA-1__urD",
        "colab_type": "text"
      },
      "source": [
        "#### Previewing The Testing Data"
      ]
    },
    {
      "cell_type": "code",
      "metadata": {
        "id": "35qlL4cSiLH4",
        "colab_type": "code",
        "outputId": "b2aa96f4-8bdd-43e4-a9e1-eef67d44e50e",
        "colab": {
          "base_uri": "https://localhost:8080/",
          "height": 34
        }
      },
      "source": [
        "test_df = data_df[data_df[\"date\"].between(start_date, end_date)].reset_index(drop=True)\n",
        "\n",
        "print(\"Shape of test dataset: \", test_df.shape)"
      ],
      "execution_count": 0,
      "outputs": [
        {
          "output_type": "stream",
          "text": [
            "Shape of test dataset:  (2229, 5)\n"
          ],
          "name": "stdout"
        }
      ]
    },
    {
      "cell_type": "code",
      "metadata": {
        "id": "SIFSziNTABcQ",
        "colab_type": "code",
        "outputId": "b3bf0f75-2fa4-4fc8-b472-5ab76ac4a609",
        "colab": {
          "base_uri": "https://localhost:8080/",
          "height": 195
        }
      },
      "source": [
        "test_df.head()"
      ],
      "execution_count": 0,
      "outputs": [
        {
          "output_type": "execute_result",
          "data": {
            "text/html": [
              "<div>\n",
              "<style scoped>\n",
              "    .dataframe tbody tr th:only-of-type {\n",
              "        vertical-align: middle;\n",
              "    }\n",
              "\n",
              "    .dataframe tbody tr th {\n",
              "        vertical-align: top;\n",
              "    }\n",
              "\n",
              "    .dataframe thead th {\n",
              "        text-align: right;\n",
              "    }\n",
              "</style>\n",
              "<table border=\"1\" class=\"dataframe\">\n",
              "  <thead>\n",
              "    <tr style=\"text-align: right;\">\n",
              "      <th></th>\n",
              "      <th>timestamp</th>\n",
              "      <th>visitorid</th>\n",
              "      <th>itemid</th>\n",
              "      <th>event</th>\n",
              "      <th>date</th>\n",
              "    </tr>\n",
              "  </thead>\n",
              "  <tbody>\n",
              "    <tr>\n",
              "      <th>0</th>\n",
              "      <td>1442545187788</td>\n",
              "      <td>1287495</td>\n",
              "      <td>98299</td>\n",
              "      <td>view</td>\n",
              "      <td>2015-09-18</td>\n",
              "    </tr>\n",
              "    <tr>\n",
              "      <th>1</th>\n",
              "      <td>1442545181778</td>\n",
              "      <td>622226</td>\n",
              "      <td>345308</td>\n",
              "      <td>view</td>\n",
              "      <td>2015-09-18</td>\n",
              "    </tr>\n",
              "    <tr>\n",
              "      <th>2</th>\n",
              "      <td>1442545174109</td>\n",
              "      <td>255126</td>\n",
              "      <td>47467</td>\n",
              "      <td>view</td>\n",
              "      <td>2015-09-18</td>\n",
              "    </tr>\n",
              "    <tr>\n",
              "      <th>3</th>\n",
              "      <td>1442545165499</td>\n",
              "      <td>1207677</td>\n",
              "      <td>310922</td>\n",
              "      <td>view</td>\n",
              "      <td>2015-09-18</td>\n",
              "    </tr>\n",
              "    <tr>\n",
              "      <th>4</th>\n",
              "      <td>1442545164029</td>\n",
              "      <td>472345</td>\n",
              "      <td>301436</td>\n",
              "      <td>view</td>\n",
              "      <td>2015-09-18</td>\n",
              "    </tr>\n",
              "  </tbody>\n",
              "</table>\n",
              "</div>"
            ],
            "text/plain": [
              "       timestamp  visitorid  itemid event        date\n",
              "0  1442545187788    1287495   98299  view  2015-09-18\n",
              "1  1442545181778     622226  345308  view  2015-09-18\n",
              "2  1442545174109     255126   47467  view  2015-09-18\n",
              "3  1442545165499    1207677  310922  view  2015-09-18\n",
              "4  1442545164029     472345  301436  view  2015-09-18"
            ]
          },
          "metadata": {
            "tags": []
          },
          "execution_count": 20
        }
      ]
    },
    {
      "cell_type": "markdown",
      "metadata": {
        "id": "jZaR_B7PoPcm",
        "colab_type": "text"
      },
      "source": [
        "### Creating The User-Item Matrix"
      ]
    },
    {
      "cell_type": "markdown",
      "metadata": {
        "id": "5hQ4rYxH9sxP",
        "colab_type": "text"
      },
      "source": [
        "We create a function `encode_event` to encode the category of events as confidence points / ratings that shows how strong the interaction between the visitor and item was.\n",
        "\n",
        "In order words items that were bought (**transacted**) by visitor carry more weight in our matrix compared to items that were viewed.\n",
        "\n",
        "Items that were **added to the cart** carry a slightly lower weight than those that were bought."
      ]
    },
    {
      "cell_type": "code",
      "metadata": {
        "id": "FTbg3SMWt-vJ",
        "colab_type": "code",
        "colab": {}
      },
      "source": [
        "def encode_event(event: str) -> int:\n",
        "  if event == \"transaction\":\n",
        "      return 4    \n",
        "  elif event == \"addtocart\":  \n",
        "      return 3\n",
        "  else: \n",
        "      return 1"
      ],
      "execution_count": 0,
      "outputs": []
    },
    {
      "cell_type": "code",
      "metadata": {
        "id": "L5iFKWg6Cdwo",
        "colab_type": "code",
        "colab": {}
      },
      "source": [
        "def calc_sparsity(m: csr_matrix) -> int:\n",
        "  row, col = m.shape \n",
        "  matrix_size = row * col # Number of possible interactions in the matrix\n",
        "  num_purchases = len(m.nonzero()[0]) # Number of items interacted with\n",
        "  sparsity = 100 * (1 - (num_purchases / matrix_size))\n",
        "  return sparsity"
      ],
      "execution_count": 0,
      "outputs": []
    },
    {
      "cell_type": "markdown",
      "metadata": {
        "id": "uVAjCAvv7Vsd",
        "colab_type": "text"
      },
      "source": [
        "#### Creating The Training User-Item Matrix"
      ]
    },
    {
      "cell_type": "markdown",
      "metadata": {
        "id": "VDcTjsfNMwfb",
        "colab_type": "text"
      },
      "source": [
        "The **implicit** library expects data as a item-user matrix so we create two matricies. One  for fitting/training the model (item-user) which we have named  `itemuser_matrix_train`  and one for recommendations (user-item) which we have name  `useritem_matrix_test`."
      ]
    },
    {
      "cell_type": "code",
      "metadata": {
        "id": "XiPp3ZvmI58y",
        "colab_type": "code",
        "outputId": "9bc39284-cddf-4e63-e869-5394bbf4ea29",
        "colab": {
          "base_uri": "https://localhost:8080/",
          "height": 204
        }
      },
      "source": [
        "train_df['visitor'] = train_df['visitorid'].astype(\"category\")\n",
        "train_df['item'] = train_df['itemid'].astype(\"category\")\n",
        "train_df['visitor_id'] = train_df['visitor'].cat.codes\n",
        "train_df['item_id'] = train_df['item'].cat.codes\n",
        "train_df[\"event\"] = train_df[\"event\"].apply(encode_event)\n",
        "\n",
        "train_df.head()"
      ],
      "execution_count": 0,
      "outputs": [
        {
          "output_type": "execute_result",
          "data": {
            "text/html": [
              "<div>\n",
              "<style scoped>\n",
              "    .dataframe tbody tr th:only-of-type {\n",
              "        vertical-align: middle;\n",
              "    }\n",
              "\n",
              "    .dataframe tbody tr th {\n",
              "        vertical-align: top;\n",
              "    }\n",
              "\n",
              "    .dataframe thead th {\n",
              "        text-align: right;\n",
              "    }\n",
              "</style>\n",
              "<table border=\"1\" class=\"dataframe\">\n",
              "  <thead>\n",
              "    <tr style=\"text-align: right;\">\n",
              "      <th></th>\n",
              "      <th>timestamp</th>\n",
              "      <th>visitorid</th>\n",
              "      <th>itemid</th>\n",
              "      <th>event</th>\n",
              "      <th>date</th>\n",
              "      <th>visitor</th>\n",
              "      <th>item</th>\n",
              "      <th>visitor_id</th>\n",
              "      <th>item_id</th>\n",
              "    </tr>\n",
              "  </thead>\n",
              "  <tbody>\n",
              "    <tr>\n",
              "      <th>0</th>\n",
              "      <td>1442447846473</td>\n",
              "      <td>765650</td>\n",
              "      <td>417578</td>\n",
              "      <td>1</td>\n",
              "      <td>2015-09-16</td>\n",
              "      <td>765650</td>\n",
              "      <td>417578</td>\n",
              "      <td>12682</td>\n",
              "      <td>68932</td>\n",
              "    </tr>\n",
              "    <tr>\n",
              "      <th>1</th>\n",
              "      <td>1442447729071</td>\n",
              "      <td>623174</td>\n",
              "      <td>427319</td>\n",
              "      <td>1</td>\n",
              "      <td>2015-09-16</td>\n",
              "      <td>623174</td>\n",
              "      <td>427319</td>\n",
              "      <td>10249</td>\n",
              "      <td>70446</td>\n",
              "    </tr>\n",
              "    <tr>\n",
              "      <th>2</th>\n",
              "      <td>1442447724456</td>\n",
              "      <td>565978</td>\n",
              "      <td>354403</td>\n",
              "      <td>1</td>\n",
              "      <td>2015-09-16</td>\n",
              "      <td>565978</td>\n",
              "      <td>354403</td>\n",
              "      <td>9302</td>\n",
              "      <td>58484</td>\n",
              "    </tr>\n",
              "    <tr>\n",
              "      <th>3</th>\n",
              "      <td>1442447696602</td>\n",
              "      <td>156163</td>\n",
              "      <td>226450</td>\n",
              "      <td>1</td>\n",
              "      <td>2015-09-16</td>\n",
              "      <td>156163</td>\n",
              "      <td>226450</td>\n",
              "      <td>2551</td>\n",
              "      <td>37360</td>\n",
              "    </tr>\n",
              "    <tr>\n",
              "      <th>4</th>\n",
              "      <td>1442447674802</td>\n",
              "      <td>565978</td>\n",
              "      <td>250408</td>\n",
              "      <td>1</td>\n",
              "      <td>2015-09-16</td>\n",
              "      <td>565978</td>\n",
              "      <td>250408</td>\n",
              "      <td>9302</td>\n",
              "      <td>41370</td>\n",
              "    </tr>\n",
              "  </tbody>\n",
              "</table>\n",
              "</div>"
            ],
            "text/plain": [
              "       timestamp  visitorid  itemid event        date visitor    item  \\\n",
              "0  1442447846473     765650  417578     1  2015-09-16  765650  417578   \n",
              "1  1442447729071     623174  427319     1  2015-09-16  623174  427319   \n",
              "2  1442447724456     565978  354403     1  2015-09-16  565978  354403   \n",
              "3  1442447696602     156163  226450     1  2015-09-16  156163  226450   \n",
              "4  1442447674802     565978  250408     1  2015-09-16  565978  250408   \n",
              "\n",
              "   visitor_id  item_id  \n",
              "0       12682    68932  \n",
              "1       10249    70446  \n",
              "2        9302    58484  \n",
              "3        2551    37360  \n",
              "4        9302    41370  "
            ]
          },
          "metadata": {
            "tags": []
          },
          "execution_count": 128
        }
      ]
    },
    {
      "cell_type": "code",
      "metadata": {
        "id": "I0_45i9oKSDX",
        "colab_type": "code",
        "outputId": "cfc6e707-0e2d-43d6-fc98-cf0777860378",
        "colab": {
          "base_uri": "https://localhost:8080/",
          "height": 34
        }
      },
      "source": [
        "itemuser_df_train = train_df.loc[:, [\"item_id\", \"visitor_id\", \"event\"]]\n",
        "\n",
        "itemuser_matrix_train = csr_matrix(\n",
        "    (\n",
        "        itemuser_df_train[\"event\"].astype(float),\n",
        "        (itemuser_df_train[\"item_id\"], itemuser_df_train[\"visitor_id\"])\n",
        "    )\n",
        ")\n",
        "\n",
        "print(\"Shape of Training User-Item matrix: \", itemuser_matrix_train.shape)"
      ],
      "execution_count": 0,
      "outputs": [
        {
          "output_type": "stream",
          "text": [
            "Shape of Training User-Item matrix:  (76927, 23205)\n"
          ],
          "name": "stdout"
        }
      ]
    },
    {
      "cell_type": "code",
      "metadata": {
        "id": "Hmi17EWwCL7S",
        "colab_type": "code",
        "outputId": "975a5515-43c3-428a-e954-8f88bbfa76bd",
        "colab": {
          "base_uri": "https://localhost:8080/",
          "height": 34
        }
      },
      "source": [
        "print(\"Sparsity of Training User-Item matrix: \", calc_sparsity(itemuser_matrix_train))"
      ],
      "execution_count": 0,
      "outputs": [
        {
          "output_type": "stream",
          "text": [
            "Sparsity of Training User-Item matrix:  99.98226863539203\n"
          ],
          "name": "stdout"
        }
      ]
    },
    {
      "cell_type": "markdown",
      "metadata": {
        "colab_type": "text",
        "id": "O6Evgbaj7hPZ"
      },
      "source": [
        "#### Creating The Test User-Item Matrix"
      ]
    },
    {
      "cell_type": "code",
      "metadata": {
        "id": "b_VlBOwbOE5C",
        "colab_type": "code",
        "outputId": "0c77091d-d97b-4d50-8492-5d1a68b3c56c",
        "colab": {
          "base_uri": "https://localhost:8080/",
          "height": 204
        }
      },
      "source": [
        "test_df['visitor'] = test_df['visitorid'].astype(\"category\")\n",
        "test_df['item'] = test_df['itemid'].astype(\"category\")\n",
        "test_df['visitor_id'] = test_df['visitor'].cat.codes\n",
        "test_df['item_id'] = test_df['item'].cat.codes\n",
        "test_df[\"event\"] = test_df[\"event\"].apply(encode_event)\n",
        "\n",
        "test_df.head()"
      ],
      "execution_count": 0,
      "outputs": [
        {
          "output_type": "execute_result",
          "data": {
            "text/html": [
              "<div>\n",
              "<style scoped>\n",
              "    .dataframe tbody tr th:only-of-type {\n",
              "        vertical-align: middle;\n",
              "    }\n",
              "\n",
              "    .dataframe tbody tr th {\n",
              "        vertical-align: top;\n",
              "    }\n",
              "\n",
              "    .dataframe thead th {\n",
              "        text-align: right;\n",
              "    }\n",
              "</style>\n",
              "<table border=\"1\" class=\"dataframe\">\n",
              "  <thead>\n",
              "    <tr style=\"text-align: right;\">\n",
              "      <th></th>\n",
              "      <th>timestamp</th>\n",
              "      <th>visitorid</th>\n",
              "      <th>itemid</th>\n",
              "      <th>event</th>\n",
              "      <th>date</th>\n",
              "      <th>visitor</th>\n",
              "      <th>item</th>\n",
              "      <th>visitor_id</th>\n",
              "      <th>item_id</th>\n",
              "    </tr>\n",
              "  </thead>\n",
              "  <tbody>\n",
              "    <tr>\n",
              "      <th>0</th>\n",
              "      <td>1442545037312</td>\n",
              "      <td>1063469</td>\n",
              "      <td>38888</td>\n",
              "      <td>1</td>\n",
              "      <td>2015-09-18</td>\n",
              "      <td>1063469</td>\n",
              "      <td>38888</td>\n",
              "      <td>223</td>\n",
              "      <td>99</td>\n",
              "    </tr>\n",
              "    <tr>\n",
              "      <th>1</th>\n",
              "      <td>1442545004475</td>\n",
              "      <td>1100093</td>\n",
              "      <td>465387</td>\n",
              "      <td>1</td>\n",
              "      <td>2015-09-18</td>\n",
              "      <td>1100093</td>\n",
              "      <td>465387</td>\n",
              "      <td>230</td>\n",
              "      <td>1324</td>\n",
              "    </tr>\n",
              "    <tr>\n",
              "      <th>2</th>\n",
              "      <td>1442544741219</td>\n",
              "      <td>994820</td>\n",
              "      <td>89323</td>\n",
              "      <td>1</td>\n",
              "      <td>2015-09-18</td>\n",
              "      <td>994820</td>\n",
              "      <td>89323</td>\n",
              "      <td>211</td>\n",
              "      <td>228</td>\n",
              "    </tr>\n",
              "    <tr>\n",
              "      <th>3</th>\n",
              "      <td>1442544701919</td>\n",
              "      <td>994820</td>\n",
              "      <td>440677</td>\n",
              "      <td>1</td>\n",
              "      <td>2015-09-18</td>\n",
              "      <td>994820</td>\n",
              "      <td>440677</td>\n",
              "      <td>211</td>\n",
              "      <td>1245</td>\n",
              "    </tr>\n",
              "    <tr>\n",
              "      <th>4</th>\n",
              "      <td>1442544674798</td>\n",
              "      <td>1100093</td>\n",
              "      <td>49907</td>\n",
              "      <td>1</td>\n",
              "      <td>2015-09-18</td>\n",
              "      <td>1100093</td>\n",
              "      <td>49907</td>\n",
              "      <td>230</td>\n",
              "      <td>133</td>\n",
              "    </tr>\n",
              "  </tbody>\n",
              "</table>\n",
              "</div>"
            ],
            "text/plain": [
              "       timestamp  visitorid  itemid event        date  visitor    item  \\\n",
              "0  1442545037312    1063469   38888     1  2015-09-18  1063469   38888   \n",
              "1  1442545004475    1100093  465387     1  2015-09-18  1100093  465387   \n",
              "2  1442544741219     994820   89323     1  2015-09-18   994820   89323   \n",
              "3  1442544701919     994820  440677     1  2015-09-18   994820  440677   \n",
              "4  1442544674798    1100093   49907     1  2015-09-18  1100093   49907   \n",
              "\n",
              "   visitor_id  item_id  \n",
              "0         223       99  \n",
              "1         230     1324  \n",
              "2         211      228  \n",
              "3         211     1245  \n",
              "4         230      133  "
            ]
          },
          "metadata": {
            "tags": []
          },
          "execution_count": 131
        }
      ]
    },
    {
      "cell_type": "code",
      "metadata": {
        "id": "cwZDriS27mmw",
        "colab_type": "code",
        "outputId": "86acdb41-f9d8-485d-f60d-df31917b03e9",
        "colab": {
          "base_uri": "https://localhost:8080/",
          "height": 34
        }
      },
      "source": [
        "useritem_df_test = test_df.loc[:, [\"item_id\", \"visitor_id\", \"event\"]]\n",
        "\n",
        "useritem_matrix_test = csr_matrix(\n",
        "    (\n",
        "        useritem_df_test[\"event\"].astype(float),\n",
        "        (useritem_df_test[\"visitor_id\"], useritem_df_test[\"item_id\"])\n",
        "    )\n",
        ")\n",
        "\n",
        "print(\"Shape of Training User-Item matrix: \", useritem_matrix_test.shape)"
      ],
      "execution_count": 0,
      "outputs": [
        {
          "output_type": "stream",
          "text": [
            "Shape of Training User-Item matrix:  (311, 1329)\n"
          ],
          "name": "stdout"
        }
      ]
    },
    {
      "cell_type": "code",
      "metadata": {
        "id": "4cq_UOJdAgbk",
        "colab_type": "code",
        "outputId": "c8016f11-065d-42df-d640-2fdef3d982c8",
        "colab": {
          "base_uri": "https://localhost:8080/",
          "height": 34
        }
      },
      "source": [
        "print(\"Sparsity of Testing User-Item matrix: \", calc_sparsity(useritem_matrix_test))"
      ],
      "execution_count": 0,
      "outputs": [
        {
          "output_type": "stream",
          "text": [
            "Sparsity of Testing User-Item matrix:  99.63514863821891\n"
          ],
          "name": "stdout"
        }
      ]
    },
    {
      "cell_type": "markdown",
      "metadata": {
        "id": "A8ILfI1L8b0h",
        "colab_type": "text"
      },
      "source": [
        "### Building The Recommendation System using ALS"
      ]
    },
    {
      "cell_type": "code",
      "metadata": {
        "id": "hUKKrgHF-tCl",
        "colab_type": "code",
        "outputId": "3d01defa-cfcc-43fe-a214-2fe36450d0c1",
        "colab": {
          "base_uri": "https://localhost:8080/",
          "height": 51
        }
      },
      "source": [
        "os.environ[\"OPENBLAS_NUM_THREADS\"] = '1'\n",
        "\n",
        "ALPHA = 15\n",
        "train_matrix = (itemuser_matrix_train * ALPHA).astype('double')\n",
        "als_model = AlternatingLeastSquares(\n",
        "    factors=100,\n",
        "    regularization=0.1,\n",
        "    use_gpu=True,\n",
        ")\n",
        "\n",
        "als_model.fit(train_matrix)"
      ],
      "execution_count": 0,
      "outputs": [
        {
          "output_type": "stream",
          "text": [
            "GPU training requires factor size to be a multiple of 32. Increasing factors from 100 to 128.\n",
            "100%|██████████| 15.0/15 [00:00<00:00, 18.21it/s]\n"
          ],
          "name": "stderr"
        }
      ]
    },
    {
      "cell_type": "markdown",
      "metadata": {
        "id": "pO-ovMKm_flf",
        "colab_type": "text"
      },
      "source": [
        "Below is a preview of the recommendations with `visitor_id` 223"
      ]
    },
    {
      "cell_type": "code",
      "metadata": {
        "id": "9CDsVQaSvDxJ",
        "colab_type": "code",
        "outputId": "c053abf7-20da-49ef-989f-2a218b08d85e",
        "colab": {
          "base_uri": "https://localhost:8080/",
          "height": 187
        }
      },
      "source": [
        "als_model.recommend(223, useritem_matrix_test, filter_already_liked_items=False)"
      ],
      "execution_count": 0,
      "outputs": [
        {
          "output_type": "execute_result",
          "data": {
            "text/plain": [
              "[(64486, 0.405195),\n",
              " (16311, 0.38029155),\n",
              " (26115, 0.36960763),\n",
              " (66642, 0.36379844),\n",
              " (68136, 0.36287534),\n",
              " (43035, 0.32111767),\n",
              " (27665, 0.30785263),\n",
              " (60677, 0.3070662),\n",
              " (10538, 0.29619104),\n",
              " (43029, 0.29553646)]"
            ]
          },
          "metadata": {
            "tags": []
          },
          "execution_count": 139
        }
      ]
    },
    {
      "cell_type": "markdown",
      "metadata": {
        "id": "SveJYhgAhYK7",
        "colab_type": "text"
      },
      "source": [
        "### Building The Recommendation System using BPR"
      ]
    },
    {
      "cell_type": "code",
      "metadata": {
        "id": "Qtb_lWDqhfz_",
        "colab_type": "code",
        "outputId": "3936fe3c-bf16-4c57-8cc4-6b207d656081",
        "colab": {
          "base_uri": "https://localhost:8080/",
          "height": 51
        }
      },
      "source": [
        "os.environ[\"OPENBLAS_NUM_THREADS\"] = '1'\n",
        "\n",
        "ALPHA = 15\n",
        "train_matrix = (itemuser_matrix_train * ALPHA).astype('double')\n",
        "bpr_model = BayesianPersonalizedRanking(\n",
        "    factors=20,\n",
        "    regularization=0.1,\n",
        "    use_gpu=True,\n",
        ")\n",
        "\n",
        "bpr_model.fit(train_matrix)"
      ],
      "execution_count": 187,
      "outputs": [
        {
          "output_type": "stream",
          "text": [
            "GPU training requires factor size to be a multiple of 32 - 1. Increasing factors from 20 to 31.\n",
            "100%|██████████| 100/100 [00:01<00:00, 96.24it/s, correct=67.92%, skipped=1.13%]\n"
          ],
          "name": "stderr"
        }
      ]
    },
    {
      "cell_type": "markdown",
      "metadata": {
        "id": "gmSLrAjYCD-H",
        "colab_type": "text"
      },
      "source": [
        "## Defining the Evaluation ( ALS & Top-K Hit Ratio )"
      ]
    },
    {
      "cell_type": "code",
      "metadata": {
        "id": "vz9EJk8KEhtf",
        "colab_type": "code",
        "colab": {}
      },
      "source": [
        "from typing import List, Tuple\n",
        "\n",
        "def calc_hit_ratio(items_of_user: pd.Series, top_k: List[Tuple[int, int]]) -> float:\n",
        "    k = len(top_k)\n",
        "    k_item_ids = {item_id for item_id, _ in top_k}\n",
        "#     print(\"top K item ids:\", k_item_ids)\n",
        "    actual_items_ids = set(items_of_user)\n",
        "#     print(\"actual item ids:\", actual_items_ids)\n",
        "    in_common = actual_items_ids.intersection(k_item_ids)\n",
        "#     print(\"in common:\", in_common)\n",
        "    \n",
        "    return len(in_common) / k    \n",
        "  \n",
        "def calc_topk_hit_ratio(\n",
        "    k: int,\n",
        "    model: AlternatingLeastSquares,\n",
        "    user_item: pd.DataFrame,\n",
        "    user_item_matrix: csr_matrix\n",
        ") -> float:\n",
        "    \n",
        "    hit_ratios = []\n",
        "    \n",
        "    for row in user_item.itertuples():\n",
        "#       print(\"Visitor id:\", row.visitor_id)\n",
        "      items_of_user = (\n",
        "          user_item\n",
        "          .loc[lambda df: df[\"visitor_id\"] == row.visitor_id]\n",
        "          .item_id\n",
        "      )\n",
        "      \n",
        "      top_k = model.recommend(\n",
        "          row.visitor_id,\n",
        "          user_item_matrix,\n",
        "          N=k,\n",
        "          filter_already_liked_items=False\n",
        "      )\n",
        "      \n",
        "      hit_ratios.append(calc_hit_ratio(items_of_user, top_k))\n",
        "      \n",
        "    \n",
        "    return np.average(hit_ratios)"
      ],
      "execution_count": 0,
      "outputs": []
    },
    {
      "cell_type": "markdown",
      "metadata": {
        "id": "SQEg7m9IqF5Z",
        "colab_type": "text"
      },
      "source": [
        "### Top-K Hit Ratio when k = 10"
      ]
    },
    {
      "cell_type": "code",
      "metadata": {
        "id": "Xr-fTGmOqP1b",
        "colab_type": "code",
        "outputId": "29119fa5-d898-4fab-cf96-75967b81f974",
        "colab": {
          "base_uri": "https://localhost:8080/",
          "height": 34
        }
      },
      "source": [
        "print(\"Avg Hit Ratio (ALS), k = 10: \", calc_topk_hit_ratio(10, als_model, useritem_df_test, useritem_matrix_test))"
      ],
      "execution_count": 178,
      "outputs": [
        {
          "output_type": "stream",
          "text": [
            "Avg Hit Ratio (ALS), k = 10:  0.07196052041274115\n"
          ],
          "name": "stdout"
        }
      ]
    },
    {
      "cell_type": "markdown",
      "metadata": {
        "colab_type": "text",
        "id": "scHRJG_oqra0"
      },
      "source": [
        "### Top-K Hit Ratio when k = 50"
      ]
    },
    {
      "cell_type": "code",
      "metadata": {
        "colab_type": "code",
        "id": "IlcG0huLqra2",
        "outputId": "6b02b471-e7fc-4a89-85e5-89e5a7590cbe",
        "colab": {
          "base_uri": "https://localhost:8080/",
          "height": 34
        }
      },
      "source": [
        "print(\"Avg Hit Ratio ALS, k = 50: \", calc_topk_hit_ratio(50, als_model, useritem_df_test, useritem_matrix_test))"
      ],
      "execution_count": 179,
      "outputs": [
        {
          "output_type": "stream",
          "text": [
            "Avg Hit Ratio ALS, k = 50:  0.025518169582772542\n"
          ],
          "name": "stdout"
        }
      ]
    },
    {
      "cell_type": "markdown",
      "metadata": {
        "colab_type": "text",
        "id": "fsp2trdbq13z"
      },
      "source": [
        "### Top-K Hit Ratio when k = 100"
      ]
    },
    {
      "cell_type": "code",
      "metadata": {
        "colab_type": "code",
        "id": "iwNC2aSIq132",
        "outputId": "ce465708-c397-4e75-a894-89f06596e648",
        "colab": {
          "base_uri": "https://localhost:8080/",
          "height": 34
        }
      },
      "source": [
        "print(\"Avg Hit Ratio ALS, k = 100: \", calc_topk_hit_ratio(100, als_model, useritem_df_test, useritem_matrix_test))"
      ],
      "execution_count": 180,
      "outputs": [
        {
          "output_type": "stream",
          "text": [
            "Avg Hit Ratio ALS, k = 100:  0.0169537909376402\n"
          ],
          "name": "stdout"
        }
      ]
    },
    {
      "cell_type": "markdown",
      "metadata": {
        "id": "gmz1Cd3d9-Us",
        "colab_type": "text"
      },
      "source": [
        "## Defining The Evaluation (ALS & nDCG)"
      ]
    },
    {
      "cell_type": "code",
      "metadata": {
        "id": "XytTDjTF-U60",
        "colab_type": "code",
        "colab": {}
      },
      "source": [
        "def get_dcg_value(relevance_score: int, position: int) -> float:\n",
        "    top = (2**relevance_score) - 1\n",
        "    bottom = math.log(position + 1, 2)\n",
        "    \n",
        "    if top == 0 or bottom == 0:\n",
        "        return 0\n",
        "    \n",
        "    return top / bottom\n",
        "\n",
        "def calc_relevance_score(recommended_item_id: int, user_interacted_items: List[Tuple[int, int]]) -> int:\n",
        "  \n",
        "    found_item = [item for item in user_interacted_items if item[0] == recommended_item_id]\n",
        "    \n",
        "    if not found_item:\n",
        "        return 0\n",
        "    \n",
        "    return user_interacted_items[0][1]   \n",
        "  \n",
        "def calc_ndcg(recommended_items: List[int], user_interacted_items: List[Tuple[int, int]]) -> float:\n",
        "    scores = []\n",
        "    for item in recommended_items:\n",
        "        scores.append(calc_relevance_score(item, user_interacted_items))\n",
        "    \n",
        "    dcg = 0\n",
        "    for i, s in enumerate(scores):\n",
        "        dcg += get_dcg_value(s, i)\n",
        "    \n",
        "    idcg = 0\n",
        "    scores.sort()\n",
        "    for i, s in enumerate(scores):\n",
        "        idcg += get_dcg_value(s, i)\n",
        "        \n",
        "    if dcg == 0 or idcg == 0:\n",
        "        return 0\n",
        "    \n",
        "    return dcg / idcg"
      ],
      "execution_count": 0,
      "outputs": []
    },
    {
      "cell_type": "markdown",
      "metadata": {
        "id": "zkdFUZ9R_65R",
        "colab_type": "text"
      },
      "source": [
        "### nDCG for top-k when k = 10"
      ]
    },
    {
      "cell_type": "code",
      "metadata": {
        "id": "mXWZXmElAKYx",
        "colab_type": "code",
        "colab": {
          "base_uri": "https://localhost:8080/",
          "height": 34
        },
        "outputId": "7c66820e-cbe5-40a7-8b7f-914f24833e8c"
      },
      "source": [
        "k_10_ndcg = []\n",
        "    \n",
        "for row in useritem_df_test.itertuples():\n",
        "\n",
        "  item_score: List[Tuple[int, int]]  = list(\n",
        "      useritem_df_test\n",
        "      .loc[lambda df: df[\"visitor_id\"] == row.visitor_id]\n",
        "      .loc[:, [\"item_id\", \"event\"]]\n",
        "      .to_records(index=False)\n",
        "  )\n",
        "\n",
        "  top_k_10 = als_model.recommend(\n",
        "      row.visitor_id,\n",
        "      useritem_matrix_test,\n",
        "      recalculate_user=True,\n",
        "      N=10,\n",
        "      filter_already_liked_items=False\n",
        "  )\n",
        "\n",
        "  top_10_itemids = [itemid for itemid, _ in top_k_10]\n",
        "\n",
        "  k_10_ndcg.append(calc_ndcg(top_10_itemids, item_score))\n",
        "\n",
        "print(\"Avg nDCG (ALS), k = 10: \", np.average(k_10_ndcg))"
      ],
      "execution_count": 181,
      "outputs": [
        {
          "output_type": "stream",
          "text": [
            "Avg nDCG (ALS), k = 10:  0.591857509259624\n"
          ],
          "name": "stdout"
        }
      ]
    },
    {
      "cell_type": "markdown",
      "metadata": {
        "id": "xcpd5oZSJbDO",
        "colab_type": "text"
      },
      "source": [
        "### nDCG for top-k when k = 50"
      ]
    },
    {
      "cell_type": "code",
      "metadata": {
        "id": "rNPFedMpFTez",
        "colab_type": "code",
        "colab": {
          "base_uri": "https://localhost:8080/",
          "height": 71
        },
        "outputId": "40a7b7c9-7a78-4912-dffc-0f2ba8c443f6"
      },
      "source": [
        "k_50_ndcg = []\n",
        "    \n",
        "for row in useritem_df_test.itertuples():\n",
        "\n",
        "  item_score: List[Tuple[int, int]]  = list(\n",
        "      useritem_df_test\n",
        "      .loc[lambda df: df[\"visitor_id\"] == row.visitor_id]\n",
        "      .loc[:, [\"item_id\", \"event\"]]\n",
        "      .to_records(index=False)\n",
        "  )\n",
        "\n",
        "  top_k_50 = als_model.recommend(\n",
        "      row.visitor_id,\n",
        "      useritem_matrix_test,\n",
        "      N=50,\n",
        "      recalculate_user=True,\n",
        "      filter_already_liked_items=False\n",
        "  )\n",
        "\n",
        "  top_50_itemids = [itemid for itemid, _ in top_k_50]\n",
        "\n",
        "  k_50_ndcg.append(calc_ndcg(top_50_itemids, item_score))\n",
        "\n",
        "print(\"Avg nDCG (ALS), k = 50: \", np.average(k_50_ndcg))"
      ],
      "execution_count": 183,
      "outputs": [
        {
          "output_type": "stream",
          "text": [
            "[0, 1.9866924784370925, 1.0466476186905076, 1.0466476186905076, 1.9866924784370925, 0.548736077839591, 0.548736077839591, 1.9866924784370925, 0.548736077839591, 2.183341610642396, 0, 1.0466476186905076, 0.548736077839591, 0, 0, 0.548736077839591, 0, 0, 0, 0, 0.548736077839591, 0, 0.548736077839591, 0, 0, 0, 0, 1.0466476186905076, 0.548736077839591, 0, 0.548736077839591, 0, 5.643856189774724, 0.548736077839591, 5.643856189774724, 0.548736077839591, 1.0466476186905076, 1.9866924784370925, 1.9866924784370925, 1.9866924784370925, 0, 0, 0, 0, 0, 1.9866924784370925, 2.183341610642396, 0, 0, 0, 0, 1.0466476186905076, 0, 1.0466476186905076, 2.183341610642396, 1.0466476186905076, 1.0466476186905076, 1.0678196201668901, 1.410964047443681, 1.0678196201668901, 1.0678196201668901, 1.0678196201668901, 1.0678196201668901, 1.0678196201668901, 0.548736077839591, 1.0466476186905076, 0.548736077839591, 0.548736077839591, 0.548736077839591, 0.548736077839591, 0.548736077839591, 5.643856189774724, 0.548736077839591, 0.548736077839591, 0.548736077839591, 0.548736077839591, 1.0466476186905076, 0.548736077839591, 0.548736077839591, 0, 1.0337809105453106, 0, 0, 0, 0, 1.0337809105453106, 0, 0, 0, 1.0466476186905076, 1.0466476186905076, 1.0466476186905076, 1.0466476186905076, 3.5608767950073115, 3.5608767950073115, 1.0466476186905076, 0, 1.0466476186905076, 1.0466476186905076, 1.0466476186905076, 1.5251852805779265, 1.0466476186905076, 1.0466476186905076, 1.5251852805779265, 1.0466476186905076, 0, 0, 0, 0, 0, 0, 0, 0, 0, 1.0337809105453106, 5.643856189774724, 5.643856189774724, 5.643856189774724, 5.643856189774724, 0, 5.643856189774724, 5.643856189774724, 5.643856189774724, 0, 5.643856189774724, 5.643856189774724, 1.0337809105453106, 0, 0, 0, 1.0466476186905076, 1.0466476186905076, 1.0466476186905076, 0, 0, 1.3534670738256929, 1.0466476186905076, 0, 1.0466476186905076, 1.6989700043360185, 1.6989700043360185, 0, 0.562924528969521, 0.562924528969521, 0.562924528969521, 0.562924528969521, 0.562924528969521, 0.562924528969521, 0, 0, 0.562924528969521, 0.562924528969521, 0.562924528969521, 0.562924528969521, 5.643856189774724, 0, 0, 0.562924528969521, 1.328614052832443, 0.562924528969521, 1.328614052832443, 0.562924528969521, 1.4504285260570011, 1.4504285260570011, 1.0833874100902576, 1.3534670738256929, 0, 0.548736077839591, 1.3534670738256929, 0, 0.548736077839591, 0.548736077839591, 1.3534670738256929, 0.548736077839591, 0, 1.4504285260570011, 1.3534670738256929, 1.3534670738256929, 1.3534670738256929, 0, 0, 1.8812853965915748, 1.3534670738256929, 1.0400996716726867, 1.328614052832443, 0, 1.042239474313946, 1.042239474313946, 1.7027984110599106, 2.430676558073393, 0, 0, 1.4504285260570011, 2.430676558073393, 2.430676558073393, 0.548736077839591, 0, 1.410964047443681, 1.6314403092603669, 2.183341610642396, 3.5608767950073115, 1.410964047443681, 1.410964047443681, 1.410964047443681, 3.5608767950073115, 0.548736077839591, 3.5608767950073115, 1.7027984110599106, 3.5608767950073115, 3.5608767950073115, 3.5608767950073115, 1.042239474313946, 1.042239474313946, 0, 3.5608767950073115, 1.4504285260570011, 3.5608767950073115, 1.4504285260570011, 1.4504285260570011, 2.430676558073393, 2.430676558073393, 1.0466476186905076, 1.6989700043360185, 1.4504285260570011, 1.0466476186905076, 3.5608767950073115, 1.7189122417482803, 1.7189122417482803, 1.7189122417482803, 1.7189122417482803, 1.7189122417482803, 3.5608767950073115, 3.3241892374267206, 1.410964047443681, 1.042239474313946, 1.410964047443681, 1.042239474313946, 2.183341610642396, 1.042239474313946, 2.183341610642396, 0, 0, 0, 3.5608767950073115, 2.183341610642396, 0, 0, 0, 2.183341610642396, 0, 3.5608767950073115, 1.0276779241503449, 0, 1.1869589316691036, 3.5608767950073115, 0, 1.2121919929583969, 1.2121919929583969, 2.260761685913076, 0, 0, 2.260761685913076, 0, 1.2121919929583969, 1.2121919929583969, 0, 2.355210327723633, 0, 1.7804383975036557, 0, 0, 0, 1.0466476186905076, 0, 1.0276779241503449, 1.2121919929583969, 0, 1.2121919929583969, 2.260761685913076, 1.2121919929583969, 1.2121919929583969, 1.6989700043360185, 1.6989700043360185, 2.183341610642396, 1.0466476186905076, 3.3241892374267206, 2.183341610642396, 1.2121919929583969, 2.355210327723633, 1.0466476186905076, 1.1869589316691036, 0, 2.183341610642396, 2.183341610642396, 2.183341610642396, 3.5608767950073115, 0, 0, 2.183341610642396, 2.355210327723633, 1.1869589316691036, 0, 0, 1.1869589316691036, 1.7027984110599106, 3.5608767950073115, 0, 2.821928094887362, 1.0400996716726867, 2.260761685913076, 0, 3.5608767950073115, 0, 0, 3.3241892374267206, 3.5608767950073115, 1.042239474313946, 2.260761685913076, 0, 3.5608767950073115, 0, 1.042239474313946, 0, 3.3241892374267206, 0, 0, 0, 0, 0, 3.5608767950073115, 0, 0, 0, 0, 0, 3.5608767950073115, 0, 0, 3.5608767950073115, 3.3241892374267206, 1.0276779241503449, 2.183341610642396, 0, 0, 0, 1.6989700043360185, 1.6989700043360185, 1.0, 1.6989700043360185, 1.0534393665072879, 0, 0, 5.643856189774724, 2.355210327723633, 2.183341610642396, 1.6989700043360185, 2.355210327723633, 1.6989700043360185, 3.5608767950073115, 3.3241892374267206, 1.6989700043360185, 0, 1.6989700043360185, 3.5608767950073115, 2.260761685913076, 0, 0, 0, 0, 0, 0, 1.6989700043360185, 0, 1.7027984110599106, 1.0466476186905076, 1.0466476186905076, 0, 2.0103821378018543, 2.0103821378018543, 2.0103821378018543, 2.260761685913076, 1.0466476186905076, 2.0103821378018543, 2.0103821378018543, 1.6989700043360185, 1.6989700043360185, 0, 0, 0, 3.3241892374267206, 0, 0.548736077839591, 0, 3.3241892374267206, 2.0103821378018543, 1.410964047443681, 3.3241892374267206, 0, 1.7804383975036557, 0, 2.0103821378018543, 1.410964047443681, 1.7027984110599106, 1.7027984110599106, 1.5743138704071236, 0, 1.7027984110599106, 0, 1.7027984110599106, 0, 1.7027984110599106, 1.7027984110599106, 0, 0, 0, 2.0103821378018543, 1.7027984110599106, 1.7027984110599106, 2.183341610642396, 0, 0.548736077839591, 0.548736077839591, 1.7027984110599106, 2.0103821378018543, 2.0103821378018543, 2.0103821378018543, 2.0103821378018543, 2.0103821378018543, 2.0103821378018543, 0.548736077839591, 0, 2.0103821378018543, 0.9112057535114813, 1.410964047443681, 0, 2.0103821378018543, 1.042239474313946, 2.0103821378018543, 2.0103821378018543, 1.042239474313946, 1.1099364748728147, 1.042239474313946, 2.0103821378018543, 3.3241892374267206, 2.355210327723633, 2.355210327723633, 1.1099364748728147, 0, 1.1099364748728147, 1.7027984110599106, 2.260761685913076, 2.355210327723633, 1.2121919929583969, 1.2121919929583969, 1.2121919929583969, 0, 2.355210327723633, 5.643856189774724, 0, 5.643856189774724, 1.2121919929583969, 1.2121919929583969, 2.430676558073393, 5.643856189774724, 0, 0, 3.3241892374267206, 0, 0, 0, 2.0103821378018543, 3.5608767950073115, 2.260761685913076, 1.042239474313946, 1.0400996716726867, 0, 2.260761685913076, 0, 1.042239474313946, 1.7027984110599106, 2.260761685913076, 2.183341610642396, 1.7027984110599106, 0, 0, 0, 2.260761685913076, 0.548736077839591, 1.7027984110599106, 0, 0, 2.260761685913076, 2.3819251681895417, 1.0466476186905076, 1.7027984110599106, 0, 0, 1.7027984110599106, 0, 2.3819251681895417, 0, 2.3819251681895417, 1.7027984110599106, 0, 1.0466476186905076, 1.7027984110599106, 1.0466476186905076, 0, 1.7027984110599106, 1.0466476186905076, 1.0466476186905076, 1.7027984110599106, 1.410964047443681, 0.548736077839591, 1.5743138704071236, 2.183341610642396, 0, 2.3819251681895417, 2.183341610642396, 0.548736077839591, 2.183341610642396, 2.183341610642396, 0.548736077839591, 0.548736077839591, 3.5608767950073115, 1.042239474313946, 1.2121919929583969, 3.5608767950073115, 1.042239474313946, 1.410964047443681, 1.410964047443681, 1.410964047443681, 3.5608767950073115, 1.410964047443681, 0.9112057535114813, 3.5608767950073115, 3.5608767950073115, 2.183341610642396, 1.2833497817296928, 1.2833497817296928, 1.2833497817296928, 0, 1.2833497817296928, 1.1392072167067584, 0, 0, 0, 2.3819251681895417, 2.183341610642396, 0, 0, 0, 0, 1.2833497817296928, 1.2833497817296928, 2.183341610642396, 0, 1.2833497817296928, 0, 0, 1.2833497817296928, 0, 1.2833497817296928, 0, 2.3819251681895417, 1.2833497817296928, 2.3819251681895417, 1.2833497817296928, 3.5608767950073115, 5.643856189774724, 0, 1.2833497817296928, 2.0103821378018543, 3.5608767950073115, 0, 1.2833497817296928, 1.0400996716726867, 0, 3.5608767950073115, 0, 2.260761685913076, 2.260761685913076, 2.430676558073393, 2.430676558073393, 2.3819251681895417, 1.410964047443681, 1.410964047443681, 1.410964047443681, 0, 0, 1.2833497817296928, 2.3819251681895417, 1.2833497817296928, 1.2833497817296928, 2.260761685913076, 2.430676558073393, 3.5608767950073115, 2.260761685913076, 1.2833497817296928, 2.260761685913076, 0, 2.260761685913076, 0, 5.643856189774724, 5.643856189774724, 2.3819251681895417, 3.3241892374267206, 5.643856189774724, 3.5608767950073115, 0, 0, 0, 0, 0, 3.5608767950073115, 5.643856189774724, 1.0833874100902576, 5.643856189774724, 0, 3.5608767950073115, 0, 2.183341610642396, 1.5743138704071236, 2.183341610642396, 1.5743138704071236, 1.5743138704071236, 3.3241892374267206, 3.3241892374267206, 0.548736077839591, 1.2121919929583969, 3.3241892374267206, 1.2121919929583969, 1.2121919929583969, 0, 0.548736077839591, 0, 0, 2.430676558073393, 0, 0, 0, 0.6625872583607081, 1.2121919929583969, 0.548736077839591, 0.548736077839591, 0.548736077839591, 1.2121919929583969, 1.328614052832443, 0, 0.6625872583607081, 0.9112057535114813, 0.6625872583607081, 0.548736077839591, 1.2121919929583969, 1.328614052832443, 1.2309492583389758, 0, 1.2121919929583969, 1.328614052832443, 1.2121919929583969, 1.7189122417482803, 0, 0, 1.2121919929583969, 1.328614052832443, 0, 1.042239474313946, 1.042239474313946, 2.183341610642396, 3.3241892374267206, 0, 1.2121919929583969, 2.183341610642396, 2.183341610642396, 2.183341610642396, 1.2121919929583969, 0, 0, 0, 1.174004474660067, 1.2121919929583969, 1.2121919929583969, 1.2121919929583969, 1.2121919929583969, 1.2121919929583969, 3.3241892374267206, 0, 1.2121919929583969, 2.430676558073393, 1.328614052832443, 0, 1.2121919929583969, 1.2121919929583969, 1.2309492583389758, 1.2121919929583969, 0, 1.328614052832443, 1.2121919929583969, 1.2121919929583969, 1.2121919929583969, 1.2121919929583969, 1.042239474313946, 1.042239474313946, 1.2121919929583969, 0, 3.5608767950073115, 1.2121919929583969, 3.3241892374267206, 3.5608767950073115, 1.2121919929583969, 0.548736077839591, 1.2121919929583969, 1.0466476186905076, 1.2121919929583969, 1.2121919929583969, 0.548736077839591, 0.548736077839591, 1.2121919929583969, 2.260761685913076, 1.2121919929583969, 1.042239474313946, 1.042239474313946, 1.2121919929583969, 0, 2.183341610642396, 1.2121919929583969, 1.7189122417482803, 2.183341610642396, 2.0103821378018543, 0.9112057535114813, 1.7189122417482803, 1.2121919929583969, 1.7189122417482803, 1.2121919929583969, 1.7189122417482803, 1.2121919929583969, 1.2121919929583969, 1.7189122417482803, 1.7189122417482803, 2.260761685913076, 1.2121919929583969, 1.2121919929583969, 1.0466476186905076, 1.2121919929583969, 3.3241892374267206, 1.0466476186905076, 1.0466476186905076, 1.2121919929583969, 0, 1.0466476186905076, 1.2121919929583969, 1.042239474313946, 1.2121919929583969, 0.9112057535114813, 1.2121919929583969, 1.2121919929583969, 1.0400996716726867, 2.183341610642396, 1.0466476186905076, 1.2121919929583969, 1.2121919929583969, 1.0466476186905076, 1.2121919929583969, 1.2121919929583969, 2.183341610642396, 1.2121919929583969, 1.0466476186905076, 1.2121919929583969, 3.5608767950073115, 1.0466476186905076, 0, 3.5608767950073115, 1.2121919929583969, 0, 0, 3.5608767950073115, 0.548736077839591, 0.548736077839591, 0.548736077839591, 1.042239474313946, 1.2121919929583969, 0.548736077839591, 0, 1.2121919929583969, 1.0466476186905076, 0, 0, 0, 1.0400996716726867, 2.183341610642396, 2.183341610642396, 1.2121919929583969, 2.183341610642396, 0.548736077839591, 1.2121919929583969, 0, 3.3241892374267206, 0, 0, 1.0400996716726867, 1.2121919929583969, 0, 0, 0, 1.328614052832443, 2.183341610642396, 0, 0, 1.2121919929583969, 1.042239474313946, 1.042239474313946, 0, 5.643856189774724, 0, 0, 0, 3.5608767950073115, 0, 0, 0, 1.328614052832443, 0, 2.183341610642396, 0, 2.183341610642396, 0, 1.042239474313946, 2.183341610642396, 1.328614052832443, 0, 1.042239474313946, 1.328614052832443, 0, 0, 1.2121919929583969, 1.328614052832443, 0.548736077839591, 0.548736077839591, 0, 1.328614052832443, 1.328614052832443, 1.2121919929583969, 0, 1.328614052832443, 0, 1.2121919929583969, 0, 1.0, 0, 1.328614052832443, 0, 0, 0, 1.410964047443681, 0, 0, 2.430676558073393, 1.328614052832443, 0, 2.260761685913076, 1.410964047443681, 1.042239474313946, 0, 3.3241892374267206, 2.260761685913076, 1.328614052832443, 1.0466476186905076, 0, 2.260761685913076, 1.0466476186905076, 0, 1.042239474313946, 0, 0, 2.260761685913076, 1.042239474313946, 1.0400996716726867, 0, 2.260761685913076, 1.410964047443681, 1.042239474313946, 0, 0, 0, 1.042239474313946, 3.5608767950073115, 0, 3.3241892374267206, 0, 0, 2.260761685913076, 0, 3.5608767950073115, 1.042239474313946, 1.042239474313946, 0, 1.042239474313946, 1.042239474313946, 0, 1.0534393665072879, 0, 2.260761685913076, 2.260761685913076, 2.260761685913076, 2.260761685913076, 0, 3.5608767950073115, 0, 2.430676558073393, 2.430676558073393, 0, 1.0400996716726867, 1.128771237954945, 1.410964047443681, 1.410964047443681, 0, 1.8812853965915748, 1.8812853965915748, 1.8812853965915748, 1.8812853965915748, 1.410964047443681, 2.430676558073393, 2.355210327723633, 3.5608767950073115, 0, 0, 0, 3.5608767950073115, 0, 0, 0.548736077839591, 0, 2.355210327723633, 0, 1.8812853965915748, 0.548736077839591, 2.430676558073393, 2.430676558073393, 0.548736077839591, 2.355210327723633, 0, 1.2121919929583969, 1.0466476186905076, 0, 0, 0, 2.183341610642396, 0, 1.2121919929583969, 2.183341610642396, 0, 0, 0.548736077839591, 1.410964047443681, 0, 1.2121919929583969, 0.548736077839591, 1.2121919929583969, 1.2121919929583969, 1.0276779241503449, 0.9112057535114813, 1.2121919929583969, 0, 1.2121919929583969, 1.2121919929583969, 0, 0, 1.0276779241503449, 1.2121919929583969, 1.0276779241503449, 2.260761685913076, 2.821928094887362, 1.0276779241503449, 1.0276779241503449, 0, 1.0833874100902576, 1.2121919929583969, 0, 0.548736077839591, 1.6314403092603669, 2.821928094887362, 1.0276779241503449, 2.260761685913076, 1.6314403092603669, 1.6314403092603669, 0.548736077839591, 0.548736077839591, 1.6314403092603669, 1.6314403092603669, 1.0276779241503449, 1.6314403092603669, 1.0276779241503449, 1.6314403092603669, 1.0276779241503449, 0, 1.0276779241503449, 1.0276779241503449, 1.6314403092603669, 1.2121919929583969, 1.0276779241503449, 1.0276779241503449, 1.0276779241503449, 1.0276779241503449, 1.6314403092603669, 1.6314403092603669, 1.2121919929583969, 1.2121919929583969, 0, 0, 0, 1.2121919929583969, 1.6314403092603669, 1.2121919929583969, 2.821928094887362, 1.2121919929583969, 1.2121919929583969, 1.2121919929583969, 0, 0.548736077839591, 0, 1.410964047443681, 0, 0, 2.260761685913076, 2.260761685913076, 2.260761685913076, 2.260761685913076, 1.2121919929583969, 0, 0, 0, 2.183341610642396, 2.183341610642396, 1.2121919929583969, 0, 0, 1.2121919929583969, 1.8812853965915748, 1.8812853965915748, 0, 1.8812853965915748, 1.410964047443681, 1.2121919929583969, 3.3241892374267206, 1.2121919929583969, 0, 2.0103821378018543, 1.2121919929583969, 2.0103821378018543, 0, 0, 0, 2.0103821378018543, 0, 0, 0, 2.0103821378018543, 2.0103821378018543, 2.0103821378018543, 0, 2.0103821378018543, 2.260761685913076, 2.0103821378018543, 2.0103821378018543, 1.410964047443681, 1.2121919929583969, 2.0103821378018543, 1.2121919929583969, 2.0103821378018543, 1.2121919929583969, 2.260761685913076, 1.410964047443681, 1.042239474313946, 1.7027984110599106, 0, 1.2121919929583969, 1.2121919929583969, 2.0103821378018543, 1.042239474313946, 1.2121919929583969, 0, 0, 1.2121919929583969, 1.2121919929583969, 0, 1.2121919929583969, 1.2121919929583969, 1.2121919929583969, 0, 3.5608767950073115, 1.2121919929583969, 0, 1.2121919929583969, 3.5608767950073115, 1.2121919929583969, 3.5608767950073115, 0, 0, 3.5608767950073115, 1.2121919929583969, 1.2121919929583969, 3.5608767950073115, 2.355210327723633, 3.5608767950073115, 1.2121919929583969, 0, 3.5608767950073115, 2.260761685913076, 1.410964047443681, 1.410964047443681, 1.2121919929583969, 0, 1.2121919929583969, 1.2121919929583969, 1.410964047443681, 1.410964047443681, 0, 1.2121919929583969, 0, 1.2121919929583969, 2.260761685913076, 1.2121919929583969, 0, 2.430676558073393, 1.0833874100902576, 0, 2.260761685913076, 1.2121919929583969, 0, 0.548736077839591, 1.410964047443681, 2.260761685913076, 1.410964047443681, 1.0400996716726867, 0, 3.3241892374267206, 0, 0, 0, 1.2121919929583969, 1.042239474313946, 0, 1.1099364748728147, 0, 0, 0, 0, 0, 0, 0, 5.643856189774724, 5.643856189774724, 0, 1.1392072167067584, 1.2121919929583969, 1.1392072167067584, 2.183341610642396, 0, 0.548736077839591, 0.548736077839591, 2.260761685913076, 1.042239474313946, 1.0833874100902576, 0, 0, 0, 2.183341610642396, 2.183341610642396, 0.548736077839591, 1.2121919929583969, 2.260761685913076, 1.2121919929583969, 0.548736077839591, 1.2121919929583969, 1.2121919929583969, 0.548736077839591, 1.2121919929583969, 1.2121919929583969, 1.5743138704071236, 1.2121919929583969, 0, 1.2121919929583969, 2.430676558073393, 2.430676558073393, 0, 0, 1.5743138704071236, 0, 2.355210327723633, 2.430676558073393, 2.183341610642396, 1.4569110712554256, 1.4569110712554256, 1.4569110712554256, 0, 1.1099364748728147, 3.3241892374267206, 2.430676558073393, 0, 1.2121919929583969, 2.430676558073393, 2.183341610642396, 0, 1.4569110712554256, 0, 1.1099364748728147, 2.183341610642396, 1.4569110712554256, 0, 1.2121919929583969, 0, 0.548736077839591, 2.183341610642396, 0, 0, 1.2121919929583969, 1.4569110712554256, 2.430676558073393, 1.4569110712554256, 2.430676558073393, 1.2121919929583969, 0, 2.430676558073393, 1.2121919929583969, 1.8812853965915748, 1.2121919929583969, 1.042239474313946, 2.430676558073393, 2.430676558073393, 1.2121919929583969, 2.7784179868020504, 1.042239474313946, 2.260761685913076, 0, 0, 0, 0, 1.2121919929583969, 0, 2.260761685913076, 1.2121919929583969, 2.260761685913076, 2.430676558073393, 2.430676558073393, 1.2121919929583969, 0, 0, 0, 0, 1.4569110712554256, 0, 0, 0, 0, 0, 0, 0, 1.2121919929583969, 1.2121919929583969, 0, 0, 2.260761685913076, 0, 0, 5.643856189774724, 1.042239474313946, 0, 2.821928094887362, 2.260761685913076, 0, 0, 1.4569110712554256, 0, 0, 2.260761685913076, 0, 2.355210327723633, 0, 2.355210327723633, 0, 1.042239474313946, 0, 1.4569110712554256, 0, 1.1392072167067584, 1.1392072167067584, 1.6989700043360185, 1.410964047443681, 0.548736077839591, 0, 0, 0, 1.1392072167067584, 0, 1.7027984110599106, 2.260761685913076, 1.410964047443681, 2.260761685913076, 1.410964047443681, 2.260761685913076, 5.643856189774724, 1.410964047443681, 2.260761685913076, 1.410964047443681, 2.260761685913076, 2.355210327723633, 0, 0, 1.042239474313946, 1.7027984110599106, 0, 1.8812853965915748, 0, 1.3807724764656917, 0, 2.260761685913076, 0, 1.1099364748728147, 1.042239474313946, 0, 2.183341610642396, 0, 1.042239474313946, 0, 0, 1.3807724764656917, 0, 0, 0, 2.183341610642396, 0.548736077839591, 1.042239474313946, 1.042239474313946, 1.3807724764656917, 1.3807724764656917, 0.548736077839591, 1.042239474313946, 2.260761685913076, 2.183341610642396, 2.183341610642396, 1.042239474313946, 1.042239474313946, 2.183341610642396, 0, 1.042239474313946, 0, 0, 1.042239474313946, 2.260761685913076, 0.548736077839591, 0.548736077839591, 2.183341610642396, 0.548736077839591, 2.260761685913076, 5.643856189774724, 0.548736077839591, 0, 0.548736077839591, 0.548736077839591, 1.042239474313946, 1.042239474313946, 1.0276779241503449, 2.260761685913076, 1.0276779241503449, 1.0276779241503449, 2.183341610642396, 2.183341610642396, 1.0276779241503449, 0, 1.091670805321198, 0, 1.091670805321198, 1.091670805321198, 1.7804383975036557, 1.091670805321198, 0, 1.042239474313946, 1.042239474313946, 1.091670805321198, 1.042239474313946, 0, 1.091670805321198, 1.0466476186905076, 2.183341610642396, 1.091670805321198, 0, 1.091670805321198, 0.548736077839591, 0, 0, 2.260761685913076, 1.091670805321198, 1.091670805321198, 2.260761685913076, 2.260761685913076, 2.183341610642396, 1.042239474313946, 0, 0, 2.183341610642396, 1.042239474313946, 2.183341610642396, 0.548736077839591, 2.183341610642396, 1.091670805321198, 0.548736077839591, 0.548736077839591, 1.091670805321198, 0, 0, 1.091670805321198, 0, 0, 0, 0, 0, 0, 2.260761685913076, 0, 0, 0, 1.091670805321198, 0, 0, 0, 1.091670805321198, 1.091670805321198, 1.091670805321198, 0, 2.183341610642396, 2.260761685913076, 0.548736077839591, 2.814622644847605, 2.814622644847605, 0.548736077839591, 0, 0.548736077839591, 2.260761685913076, 2.814622644847605, 0.548736077839591, 1.042239474313946, 0, 2.814622644847605, 1.042239474313946, 0.548736077839591, 2.814622644847605, 2.260761685913076, 1.091670805321198, 2.260761685913076, 2.260761685913076, 2.814622644847605, 1.091670805321198, 1.1392072167067584, 2.814622644847605, 0, 2.260761685913076, 1.042239474313946, 1.091670805321198, 2.260761685913076, 2.814622644847605, 0, 0, 1.042239474313946, 0, 0, 0, 0, 0, 2.183341610642396, 1.091670805321198, 0, 2.814622644847605, 1.042239474313946, 0, 0, 1.042239474313946, 0, 0, 2.183341610642396, 0, 0, 2.821928094887362, 0, 1.1093655847494388, 2.821928094887362, 2.183341610642396, 0, 2.183341610642396, 1.1093655847494388, 0, 2.260761685913076, 0, 0, 0, 2.260761685913076, 0, 2.260761685913076, 0, 2.183341610642396, 2.260761685913076, 1.1392072167067584, 0, 1.042239474313946, 0, 2.260761685913076, 2.183341610642396, 2.814622644847605, 2.814622644847605, 2.183341610642396, 0.548736077839591, 2.260761685913076, 2.814622644847605, 1.042239474313946, 1.042239474313946, 2.260761685913076, 1.042239474313946, 1.042239474313946, 0.548736077839591, 2.260761685913076, 2.355210327723633, 0, 0, 1.042239474313946, 5.643856189774724, 2.260761685913076, 0, 0, 0, 0.548736077839591, 0.5363303204240918, 0.548736077839591, 0.548736077839591, 2.430676558073393, 1.1869589316691036, 3.5608767950073115, 0.5363303204240918, 1.1869589316691036, 1.1869589316691036, 2.260761685913076, 2.260761685913076, 0, 2.260761685913076, 2.260761685913076, 2.260761685913076, 1.0466476186905076, 1.1869589316691036, 5.643856189774724, 1.1869589316691036, 0, 1.1869589316691036, 0, 1.1869589316691036, 1.0466476186905076, 0.5363303204240918, 3.5608767950073115, 2.0594778355326144, 2.0594778355326144, 0, 2.183341610642396, 2.183341610642396, 2.183341610642396, 2.183341610642396, 1.3807724764656917, 0.6749815989194221, 0.6749815989194221, 0.6749815989194221, 0.6749815989194221, 0.6749815989194221, 0.6749815989194221, 0.6749815989194221, 0, 0.6749815989194221, 0, 0.6749815989194221, 0.6749815989194221, 1.2309492583389758, 0, 0.6749815989194221, 1.2309492583389758, 0.6749815989194221, 1.2309492583389758, 1.2309492583389758, 0, 0, 1.2309492583389758, 3.5608767950073115, 3.5608767950073115, 0, 1.2309492583389758, 0, 0, 0, 3.5608767950073115, 3.5608767950073115, 0, 0, 0, 0, 0, 0, 0, 5.643856189774724, 5.643856189774724, 5.643856189774724, 5.643856189774724, 5.643856189774724, 1.5743138704071236, 1.5743138704071236, 5.643856189774724, 0, 5.643856189774724, 1.5743138704071236, 5.643856189774724, 1.5743138704071236, 5.643856189774724, 5.643856189774724, 0, 1.5743138704071236, 0, 0, 0, 0, 0, 0, 5.643856189774724, 0, 5.643856189774724, 0, 5.643856189774724, 5.643856189774724, 0, 1.1093655847494388, 1.1093655847494388, 1.1093655847494388, 1.1093655847494388, 1.1093655847494388, 0, 0, 1.1093655847494388, 0, 0, 0, 1.1093655847494388, 1.1093655847494388, 1.1093655847494388, 1.1093655847494388, 1.1093655847494388, 1.1093655847494388, 1.1093655847494388, 1.1093655847494388, 1.1093655847494388, 1.1093655847494388, 1.1093655847494388, 1.1093655847494388, 1.1093655847494388, 1.1093655847494388, 1.1093655847494388, 1.1093655847494388, 1.1093655847494388, 0, 1.1093655847494388, 0, 0, 0, 0, 0, 0, 0, 0, 0, 0, 0, 0, 0, 0, 0, 0, 0, 0, 0, 0, 0, 0, 0, 0, 0, 0, 0, 0, 0, 0, 0, 0, 0, 0, 0, 0, 0, 0, 0, 1.0534393665072879, 0, 0, 0, 0, 1.0217783804499194, 1.0833874100902576, 0, 0, 3.5608767950073115, 0, 1.328614052832443, 1.5251852805779265, 0, 0, 0, 1.0217783804499194, 0, 1.0217783804499194, 3.5997417762977704, 1.0217783804499194, 0, 0, 0, 0, 0, 0, 0, 0, 2.821928094887362, 2.7784179868020504, 2.821928094887362, 1.9866924784370925, 2.821928094887362, 1.01607091730473, 2.821928094887362, 1.01607091730473, 1.9866924784370925, 1.9866924784370925, 3.5997417762977704, 3.5997417762977704, 3.5997417762977704, 3.5997417762977704, 1.01607091730473, 3.5997417762977704, 1.0534393665072879, 1.01607091730473, 0, 1.01607091730473, 1.01607091730473, 3.5997417762977704, 3.5997417762977704, 3.5997417762977704, 1.01607091730473, 2.7784179868020504, 0, 0, 2.7784179868020504, 2.7784179868020504, 2.7784179868020504, 1.0534393665072879, 0, 0, 1.3058653605207222, 1.5251852805779265, 2.7784179868020504, 2.7784179868020504, 1.0534393665072879, 0, 2.7784179868020504, 2.7784179868020504, 0, 2.7784179868020504, 5.643856189774724, 2.7784179868020504, 2.7784179868020504, 2.7784179868020504, 3.5997417762977704, 3.5997417762977704, 0, 1.0833874100902576, 1.0337809105453106, 1.0337809105453106, 1.0337809105453106, 0, 0, 0, 1.3287474388887413, 1.0, 0, 1.0, 0, 1.328614052832443, 1.328614052832443, 1.328614052832443, 0, 0, 1.1869589316691038, 1.328614052832443, 0, 0, 0, 0, 1.328614052832443, 1.1869589316691038, 1.1869589316691038, 1.328614052832443, 1.328614052832443, 1.328614052832443, 1.1869589316691038, 1.1869589316691038, 1.0400996716726867, 1.0400996716726867, 1.1869589316691038, 0, 1.1869589316691038, 0, 0, 1.3287474388887413, 0, 0, 0, 1.3287474388887413, 1.3287474388887413, 1.0400996716726867, 5.643856189774724, 1.0400996716726867, 0, 5.643856189774724, 1.0400996716726867, 1.3287474388887413, 0, 1.3287474388887413, 1.0400996716726867, 5.643856189774724, 1.3287474388887413, 5.643856189774724, 5.643856189774724, 1.0400996716726867, 5.643856189774724, 5.643856189774724, 0, 0, 0, 5.643856189774724, 0, 0, 5.643856189774724, 0, 0, 1.7804383975036557, 1.0400996716726867, 0, 0, 0, 1.0400996716726867, 1.0400996716726867, 1.3534670738256929, 5.643856189774724, 1.0400996716726867, 5.643856189774724, 5.643856189774724, 5.643856189774724, 5.643856189774724, 1.0400996716726867, 5.643856189774724, 5.643856189774724, 1.0400996716726867, 5.643856189774724, 1.5743138704071236, 5.643856189774724, 5.643856189774724, 5.643856189774724, 5.643856189774724, 5.643856189774724, 0, 5.643856189774724, 0, 5.643856189774724, 5.643856189774724, 5.643856189774724, 5.643856189774724, 5.643856189774724, 5.643856189774724, 1.0400996716726867, 0, 0, 0, 0, 0, 0, 1.8812853965915748, 0, 1.3807724764656917, 0, 0, 0, 0, 0, 0, 0, 0, 0, 0, 1.2309492583389758, 0, 1.2309492583389758, 0, 0, 1.2309492583389758, 0, 0, 1.2309492583389758, 0, 1.2309492583389758, 1.2309492583389758, 1.2309492583389758, 0, 1.2309492583389758, 0, 1.2309492583389758, 1.2309492583389758, 1.0217783804499194, 0, 2.821928094887362, 0, 0, 1.0217783804499194, 1.2309492583389758, 1.2309492583389758, 0, 1.2309492583389758, 1.2309492583389758, 1.2309492583389758, 1.2309492583389758, 0, 1.2309492583389758, 1.0217783804499194, 2.821928094887362, 1.2309492583389758, 0, 1.5449045235410266, 0, 0, 0, 1.5449045235410266, 0, 1.5449045235410266, 2.821928094887362, 0, 1.5449045235410266, 0, 2.821928094887362, 1.5449045235410266, 1.5449045235410266, 1.0217783804499194, 3.5608767950073115, 1.0217783804499194, 3.5608767950073115, 1.0217783804499194, 0, 1.0217783804499194, 0, 0, 1.0217783804499194, 3.5608767950073115, 2.821928094887362, 3.5608767950073115, 0, 0, 2.821928094887362, 0, 2.821928094887362, 1.5449045235410266, 2.821928094887362, 0, 2.821928094887362, 0.6749815989194221, 1.5449045235410266, 0.6749815989194221, 0.6749815989194221, 0, 2.821928094887362, 0, 1.5449045235410266, 0, 2.821928094887362, 1.5449045235410266, 0, 1.5449045235410266, 1.0217783804499194, 1.0217783804499194, 2.279793637807326, 0, 2.279793637807326, 0, 2.821928094887362, 0, 2.279793637807326, 2.821928094887362, 2.279793637807326, 2.279793637807326, 1.5449045235410266, 0, 0, 0, 0, 0, 0, 1.5449045235410266, 0, 0, 0, 1.5449045235410266, 0, 1.8812853965915748, 1.8812853965915748, 5.643856189774724, 1.8812853965915748, 0, 1.8812853965915748, 0, 5.643856189774724, 0, 0, 0, 2.821928094887362, 2.821928094887362, 1.0466476186905076, 2.821928094887362, 0, 0, 1.0466476186905076, 0, 0, 1.1869589316691038, 0, 1.0466476186905076, 0, 1.0466476186905076, 0, 1.0466476186905076, 1.0466476186905076, 1.0466476186905076, 1.0466476186905076, 0.548736077839591, 0, 0.548736077839591, 1.0754447684951614, 0, 0, 0, 0, 1.0466476186905076, 0, 0, 1.0466476186905076, 0, 0, 1.0466476186905076, 1.5251852805779265, 1.5449045235410266, 0, 0, 1.5449045235410266, 1.0217783804499194, 0, 0, 1.3807724764656917, 1.5449045235410266, 0, 1.5449045235410266, 1.5449045235410266, 1.5449045235410266, 1.5449045235410266, 1.5449045235410266, 1.5449045235410266, 1.5449045235410266, 0, 1.5449045235410266, 0, 1.5449045235410266, 5.643856189774724, 0, 2.279793637807326, 2.279793637807326, 1.0217783804499194, 2.821928094887362, 2.821928094887362, 2.279793637807326, 1.0217783804499194, 2.279793637807326, 1.0217783804499194, 1.0217783804499194, 0, 0, 0, 0, 0, 0, 0, 0, 0, 0, 0.548736077839591, 0.548736077839591, 0, 0, 0, 0.548736077839591, 1.0337809105453106, 1.0337809105453106, 2.821928094887362, 0, 0, 2.279793637807326, 2.821928094887362, 2.821928094887362, 2.821928094887362, 0, 0, 0, 0, 2.279793637807326, 1.0217783804499194, 0, 2.279793637807326, 2.279793637807326, 2.279793637807326, 0, 2.430676558073393, 0, 0, 0.548736077839591, 1.0466476186905076, 0, 1.6651760734524153, 0.548736077839591, 2.430676558073393, 2.821928094887362, 2.430676558073393, 1.5449045235410266, 1.6651760734524153, 1.5449045235410266, 0, 0, 0, 0, 0.548736077839591, 0.548736077839591, 1.5449045235410266, 2.821928094887362, 2.821928094887362, 1.0217783804499194, 2.821928094887362, 1.5449045235410266, 1.4504285260570011, 1.0217783804499194, 1.6314403092603669, 1.284938142335849, 2.183341610642396, 1.5449045235410266, 1.0217783804499194, 1.0217783804499194, 0, 1.5449045235410266, 2.183341610642396, 1.0217783804499194, 2.183341610642396, 1.0217783804499194, 0, 0, 2.183341610642396, 0.548736077839591, 1.6651760734524153, 1.6314403092603669, 0, 0.548736077839591, 1.5743138704071236, 2.183341610642396, 1.6314403092603669, 1.0217783804499194, 2.183341610642396, 0.548736077839591, 0, 0.548736077839591, 2.183341610642396, 0, 0, 1.5449045235410266, 3.5608767950073115, 2.183341610642396, 0, 1.4504285260570011, 0, 0, 2.183341610642396, 0, 0, 1.6314403092603669, 0, 1.0217783804499194, 0, 1.0833874100902576, 0, 0, 0, 1.6314403092603669, 0, 1.4504285260570011, 0, 0, 1.6314403092603669, 0, 1.6314403092603669, 0, 0, 1.6314403092603669, 0, 1.6314403092603669, 0, 0, 5.643856189774724, 0, 1.6314403092603669, 1.0217783804499194, 1.6314403092603669, 1.0217783804499194, 1.6314403092603669]\n",
            "Avg nDCG (ALS), k = 50:  1.2284504981985944\n"
          ],
          "name": "stdout"
        }
      ]
    },
    {
      "cell_type": "markdown",
      "metadata": {
        "id": "oCXRpqN_Jc1z",
        "colab_type": "text"
      },
      "source": [
        "### nDCG for top-k when k = 100"
      ]
    },
    {
      "cell_type": "code",
      "metadata": {
        "id": "Wp1Hdi_7GQle",
        "colab_type": "code",
        "colab": {
          "base_uri": "https://localhost:8080/",
          "height": 34
        },
        "outputId": "68cfb39d-1547-422b-cc6e-70001ba208b1"
      },
      "source": [
        "k_100_ndcg = []\n",
        "    \n",
        "for row in useritem_df_test.itertuples():\n",
        "\n",
        "  item_score: List[Tuple[int, int]]  = list(\n",
        "      useritem_df_test\n",
        "      .loc[lambda df: df[\"visitor_id\"] == row.visitor_id]\n",
        "      .loc[:, [\"item_id\", \"event\"]]\n",
        "      .to_records(index=False)\n",
        "  )\n",
        "\n",
        "  top_k_100 = als_model.recommend(\n",
        "      row.visitor_id,\n",
        "      useritem_matrix_test,\n",
        "      N=100,\n",
        "      recalculate_user=True,\n",
        "      filter_already_liked_items=False\n",
        "  )\n",
        "\n",
        "  top_100_itemids = [itemid for itemid, _ in top_k_100]\n",
        "\n",
        "  k_100_ndcg.append(calc_ndcg(top_100_itemids, item_score))\n",
        "\n",
        "print(\"Avg nDCG (ALS), k = 100: \", np.average(k_100_ndcg))"
      ],
      "execution_count": 185,
      "outputs": [
        {
          "output_type": "stream",
          "text": [
            "Avg nDCG (ALS), k = 100:  1.4359685981762444\n"
          ],
          "name": "stdout"
        }
      ]
    },
    {
      "cell_type": "markdown",
      "metadata": {
        "id": "4N0lDufXgCpY",
        "colab_type": "text"
      },
      "source": [
        "## Defining the Evaluation ( BPR & Top-K Hit Ratio )"
      ]
    },
    {
      "cell_type": "markdown",
      "metadata": {
        "id": "48qAmpr7hJZm",
        "colab_type": "text"
      },
      "source": [
        "### Top-K Hit Ratio when k = 10"
      ]
    },
    {
      "cell_type": "code",
      "metadata": {
        "id": "K4EXuCKzhOAF",
        "colab_type": "code",
        "outputId": "3f05b39a-f575-438b-d284-e7420749d3d8",
        "colab": {
          "base_uri": "https://localhost:8080/",
          "height": 34
        }
      },
      "source": [
        "print(\"Hit Ratio BPR, k = 10: \", calc_topk_hit_ratio(10, bpr_model, useritem_df_test, useritem_matrix_test))"
      ],
      "execution_count": 190,
      "outputs": [
        {
          "output_type": "stream",
          "text": [
            "Hit Ratio BPR, k = 10:  0.0\n"
          ],
          "name": "stdout"
        }
      ]
    },
    {
      "cell_type": "markdown",
      "metadata": {
        "id": "NRKl9FjziIx3",
        "colab_type": "text"
      },
      "source": [
        "### Top-K Hit Ratio when k = 50"
      ]
    },
    {
      "cell_type": "code",
      "metadata": {
        "id": "_eRQtyCaiK0e",
        "colab_type": "code",
        "outputId": "4f7d6526-3925-4ed9-f0b0-30b42510288b",
        "colab": {
          "base_uri": "https://localhost:8080/",
          "height": 34
        }
      },
      "source": [
        "print(\"Hit Ratio BPR, k = 50: \", calc_topk_hit_ratio(50, bpr_model, useritem_df_test, useritem_matrix_test))"
      ],
      "execution_count": 191,
      "outputs": [
        {
          "output_type": "stream",
          "text": [
            "Hit Ratio BPR, k = 50:  0.00021534320323014807\n"
          ],
          "name": "stdout"
        }
      ]
    },
    {
      "cell_type": "markdown",
      "metadata": {
        "id": "azIkZ1OEiOK-",
        "colab_type": "text"
      },
      "source": [
        "### Top-K Hit Ratio when k = 100"
      ]
    },
    {
      "cell_type": "code",
      "metadata": {
        "id": "HUssKPHmiO6w",
        "colab_type": "code",
        "outputId": "86a27da4-0848-4720-d20d-051fe2c10fb5",
        "colab": {
          "base_uri": "https://localhost:8080/",
          "height": 34
        }
      },
      "source": [
        "print(\"Hit Ratio BPR, k = 100: \", calc_topk_hit_ratio(100, bpr_model, useritem_df_test, useritem_matrix_test))"
      ],
      "execution_count": 192,
      "outputs": [
        {
          "output_type": "stream",
          "text": [
            "Hit Ratio BPR, k = 100:  0.00018842530282637957\n"
          ],
          "name": "stdout"
        }
      ]
    },
    {
      "cell_type": "markdown",
      "metadata": {
        "id": "oudIwgY_NXvq",
        "colab_type": "text"
      },
      "source": [
        "## Defining The Evaluation (BPR & nDCG)"
      ]
    },
    {
      "cell_type": "markdown",
      "metadata": {
        "colab_type": "text",
        "id": "53i6rBqyNtAn"
      },
      "source": [
        "### nDCG for top-k when k = 10"
      ]
    },
    {
      "cell_type": "code",
      "metadata": {
        "colab_type": "code",
        "outputId": "db144729-9bf6-415f-ff13-9ae854cc9243",
        "id": "mVcly0bYNtAo",
        "colab": {
          "base_uri": "https://localhost:8080/",
          "height": 34
        }
      },
      "source": [
        "k_10_ndcg = []\n",
        "    \n",
        "for row in useritem_df_test.itertuples():\n",
        "\n",
        "  item_score: List[Tuple[int, int]]  = list(\n",
        "      useritem_df_test\n",
        "      .loc[lambda df: df[\"visitor_id\"] == row.visitor_id]\n",
        "      .loc[:, [\"item_id\", \"event\"]]\n",
        "      .to_records(index=False)\n",
        "  )\n",
        "\n",
        "  top_k_10 = bpr_model.recommend(\n",
        "      row.visitor_id,\n",
        "      useritem_matrix_test,\n",
        "      N=10,\n",
        "      filter_already_liked_items=False\n",
        "  )\n",
        "\n",
        "  top_10_itemids = [itemid for itemid, _ in top_k_10]\n",
        "\n",
        "  k_10_ndcg.append(calc_ndcg(top_10_itemids, item_score))\n",
        "\n",
        "print(\"Avg nDCG (BPR), k = 10: \", np.average(k_10_ndcg))"
      ],
      "execution_count": 196,
      "outputs": [
        {
          "output_type": "stream",
          "text": [
            "Avg nDCG (BPR), k = 10:  0.0\n"
          ],
          "name": "stdout"
        }
      ]
    },
    {
      "cell_type": "markdown",
      "metadata": {
        "colab_type": "text",
        "id": "xwIDaw2oNtAu"
      },
      "source": [
        "### nDCG for top-k when k = 50"
      ]
    },
    {
      "cell_type": "code",
      "metadata": {
        "colab_type": "code",
        "outputId": "359a31ba-b80d-410c-9942-5998964df7cc",
        "id": "TbPOLUwZNtAv",
        "colab": {
          "base_uri": "https://localhost:8080/",
          "height": 34
        }
      },
      "source": [
        "k_50_ndcg = []\n",
        "    \n",
        "for row in useritem_df_test.itertuples():\n",
        "\n",
        "  item_score: List[Tuple[int, int]]  = list(\n",
        "      useritem_df_test\n",
        "      .loc[lambda df: df[\"visitor_id\"] == row.visitor_id]\n",
        "      .loc[:, [\"item_id\", \"event\"]]\n",
        "      .to_records(index=False)\n",
        "  )\n",
        "\n",
        "  top_k_50 = bpr_model.recommend(\n",
        "      row.visitor_id,\n",
        "      useritem_matrix_test,\n",
        "      N=50,\n",
        "      filter_already_liked_items=False\n",
        "  )\n",
        "\n",
        "  top_50_itemids = [itemid for itemid, _ in top_k_50]\n",
        "\n",
        "  k_50_ndcg.append(calc_ndcg(top_50_itemids, item_score))\n",
        "\n",
        "print(\"Avg nDCG (BPR), k = 50: \", np.average(k_50_ndcg))"
      ],
      "execution_count": 197,
      "outputs": [
        {
          "output_type": "stream",
          "text": [
            "Avg nDCG (BPR), k = 50:  0.011435027418399473\n"
          ],
          "name": "stdout"
        }
      ]
    },
    {
      "cell_type": "markdown",
      "metadata": {
        "colab_type": "text",
        "id": "x613IXDkNtAz"
      },
      "source": [
        "### nDCG for top-k when k = 100"
      ]
    },
    {
      "cell_type": "code",
      "metadata": {
        "colab_type": "code",
        "outputId": "cdb6e382-8e7b-48a5-93c0-10b5488b5367",
        "id": "3t32HUFhNtA0",
        "colab": {
          "base_uri": "https://localhost:8080/",
          "height": 34
        }
      },
      "source": [
        "k_100_ndcg = []\n",
        "    \n",
        "for row in useritem_df_test.itertuples():\n",
        "\n",
        "  item_score: List[Tuple[int, int]]  = list(\n",
        "      useritem_df_test\n",
        "      .loc[lambda df: df[\"visitor_id\"] == row.visitor_id]\n",
        "      .loc[:, [\"item_id\", \"event\"]]\n",
        "      .to_records(index=False)\n",
        "  )\n",
        "\n",
        "  top_k_100 = bpr_model.recommend(\n",
        "      row.visitor_id,\n",
        "      useritem_matrix_test,\n",
        "      N=100,\n",
        "      filter_already_liked_items=False\n",
        "  )\n",
        "\n",
        "  top_100_itemids = [itemid for itemid, _ in top_k_100]\n",
        "\n",
        "  k_100_ndcg.append(calc_ndcg(top_100_itemids, item_score))\n",
        "\n",
        "print(\"Avg nDCG (BPR), k = 100: \", np.average(k_100_ndcg))"
      ],
      "execution_count": 198,
      "outputs": [
        {
          "output_type": "stream",
          "text": [
            "Avg nDCG (BPR), k = 100:  0.022274587208177165\n"
          ],
          "name": "stdout"
        }
      ]
    }
  ]
}