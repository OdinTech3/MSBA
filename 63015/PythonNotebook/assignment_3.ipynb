{
 "cells": [
  {
   "cell_type": "code",
   "execution_count": 13,
   "metadata": {},
   "outputs": [],
   "source": [
    "from operator import sub, add, mul, truediv\n",
    "from cytoolz import pipe\n",
    "from cytoolz.curried import map, flip\n",
    "from functools import partial\n",
    "from statistics import mean, stdev, pstdev\n",
    "import numpy as np\n",
    "import pandas as pd\n",
    "\n",
    "\n",
    "def bolden(string) -> str:\n",
    "    return f'\\033[1m {string} \\033[0m'"
   ]
  },
  {
   "cell_type": "markdown",
   "metadata": {},
   "source": [
    "# __Q3.6__ Use these methods to normalize the following group of data:"
   ]
  },
  {
   "cell_type": "code",
   "execution_count": 28,
   "metadata": {},
   "outputs": [],
   "source": [
    "# data = [200, 300, 400, 600, 1000]\n",
    "data = [13, 15,16, 16, 19, 20, 20, 21, 22, 22, 25, 25, 25, 25, 30, 33, 33, 35, 35, 35, 35, 36, 40, 45, 46, 52, 70]"
   ]
  },
  {
   "cell_type": "markdown",
   "metadata": {},
   "source": [
    "## __a. min-max normalization__ by setting `min = 0` and `max = 1`"
   ]
  },
  {
   "cell_type": "code",
   "execution_count": 5,
   "metadata": {},
   "outputs": [
    {
     "name": "stdout",
     "output_type": "stream",
     "text": [
      "Min value of data is \u001b[1m 13 \u001b[0m while max value of data is \u001b[1m 70 \u001b[0m\n"
     ]
    }
   ],
   "source": [
    "min_data = min(data)\n",
    "max_data = max(data)\n",
    "\n",
    "print(f'Min value of data is {bolden(min_data)} while max value of data is {bolden(max_data)}')"
   ]
  },
  {
   "cell_type": "markdown",
   "metadata": {},
   "source": [
    "Let's define some helper functions to compute the min-max normalization."
   ]
  },
  {
   "cell_type": "code",
   "execution_count": 6,
   "metadata": {},
   "outputs": [],
   "source": [
    "sub_old_min = partial(flip(sub), min_data)\n",
    "div_by_max_sub_min = partial(flip(truediv), sub(max_data,min_data))\n",
    "round_by_3 = partial(flip(round), 3)"
   ]
  },
  {
   "attachments": {
    "Screen%20Shot%202018-09-16%20at%2021.30.08.png": {
     "image/png": "[encoded data removed]"
    }
   },
   "cell_type": "markdown",
   "metadata": {},
   "source": [
    "following the formula for min-max normalization:\n",
    "![Screen%20Shot%202018-09-16%20at%2021.30.08.png](attachment:Screen%20Shot%202018-09-16%20at%2021.30.08.png)\n",
    "\n",
    "we have the function `normalize_minmax`:"
   ]
  },
  {
   "cell_type": "code",
   "execution_count": 7,
   "metadata": {},
   "outputs": [],
   "source": [
    "def normalize_minmax(data, new_min=0, new_max=1):\n",
    "    mul_by_new_minmax = partial(mul, sub(new_max, new_min))\n",
    "    add_new_min = partial(flip(add), new_min)\n",
    "    return pipe(data, \n",
    "                map(sub_old_min), \n",
    "                map(mul_by_new_minmax), \n",
    "                map(div_by_max_sub_min), \n",
    "                map(add_new_min), \n",
    "                map(round_by_3)\n",
    "    )"
   ]
  },
  {
   "cell_type": "code",
   "execution_count": 41,
   "metadata": {},
   "outputs": [
    {
     "name": "stdout",
     "output_type": "stream",
     "text": [
      "Orginal data: [13, 15, 16, 16, 19, 20, 20, 21, 22, 22, 25, 25, 25, 25, 30, 33, 33, 35, 35, 35, 35, 36, 40, 45, 46, 52, 70]\n",
      "[0,1] normalized data: [0.0, 0.035, 0.053, 0.053, 0.105, 0.123, 0.123, 0.14, 0.158, 0.158, 0.211, 0.211, 0.211, 0.211, 0.298, 0.351, 0.351, 0.386, 0.386, 0.386, 0.386, 0.404, 0.474, 0.561, 0.579, 0.684, 1.0]\n",
      "35\n",
      "0.386\n"
     ]
    }
   ],
   "source": [
    "print(f'Orginal data: {data}')\n",
    "print(f'[0,1] normalized data: {list(normalize_minmax(data))}')\n",
    "norm_data = list(normalize_minmax(data))\n",
    "print(data[17])\n",
    "print(norm_data[17])"
   ]
  },
  {
   "cell_type": "markdown",
   "metadata": {},
   "source": [
    "## __b. z-score normalization__."
   ]
  },
  {
   "cell_type": "code",
   "execution_count": 37,
   "metadata": {},
   "outputs": [
    {
     "name": "stdout",
     "output_type": "stream",
     "text": [
      "Mean of data is \u001b[1m 29.96 \u001b[0m and standard deviation of data is \u001b[1m 12.94 \u001b[0m\n"
     ]
    }
   ],
   "source": [
    "mean_data = round(mean(data), 2)\n",
    "# stdev_data = round(pstdev(data), 2)\n",
    "stdev_data = 12.94\n",
    "\n",
    "print(f'Mean of data is {bolden(mean_data)} and standard deviation of data is {bolden(stdev_data)}')"
   ]
  },
  {
   "cell_type": "code",
   "execution_count": 38,
   "metadata": {},
   "outputs": [],
   "source": [
    "sub_mean = partial(flip(sub), mean_data)\n",
    "div_by_stdev = partial(flip(truediv), stdev_data)"
   ]
  },
  {
   "attachments": {
    "Screen%20Shot%202018-09-16%20at%2021.59.52.png": {
     "image/png": "[encoded data removed]"
    }
   },
   "cell_type": "markdown",
   "metadata": {},
   "source": [
    "following the formula for z-score:\n",
    "![Screen%20Shot%202018-09-16%20at%2021.59.52.png](attachment:Screen%20Shot%202018-09-16%20at%2021.59.52.png)\n",
    "\n",
    "we have the function `normalize_zscore`:"
   ]
  },
  {
   "cell_type": "code",
   "execution_count": 39,
   "metadata": {},
   "outputs": [],
   "source": [
    "def normalize_zscore(data):\n",
    "    return pipe(data, map(sub_mean), map(div_by_stdev), map(round_by_3))"
   ]
  },
  {
   "cell_type": "code",
   "execution_count": 40,
   "metadata": {},
   "outputs": [
    {
     "name": "stdout",
     "output_type": "stream",
     "text": [
      "Orginal data: [13, 15, 16, 16, 19, 20, 20, 21, 22, 22, 25, 25, 25, 25, 30, 33, 33, 35, 35, 35, 35, 36, 40, 45, 46, 52, 70]\n",
      "z-score normalized data: [-1.311, -1.156, -1.079, -1.079, -0.847, -0.77, -0.77, -0.692, -0.615, -0.615, -0.383, -0.383, -0.383, -0.383, 0.003, 0.235, 0.235, 0.389, 0.389, 0.389, 0.389, 0.467, 0.776, 1.162, 1.24, 1.703, 3.094]\n",
      "35\n",
      "0.389\n"
     ]
    }
   ],
   "source": [
    "print(f'Orginal data: {data}')\n",
    "print(f'z-score normalized data: {list(normalize_zscore(data))}')\n",
    "norm_data = list(normalize_zscore(data))\n",
    "print(data[17])\n",
    "print(norm_data[17])"
   ]
  },
  {
   "cell_type": "code",
   "execution_count": 47,
   "metadata": {},
   "outputs": [
    {
     "data": {
      "text/plain": [
       "29.962962962962962"
      ]
     },
     "execution_count": 47,
     "metadata": {},
     "output_type": "execute_result"
    }
   ],
   "source": [
    "mean(c(13, 15, 16, 16, 19, 20, 20, 21, 22, 22, 25, 25, 25, 25, 30, 33, 33, 35, 35, 35, 35, 36, 40, 45, 46, 52, 70))"
   ]
  },
  {
   "cell_type": "markdown",
   "metadata": {},
   "source": [
    "## __c. z-score normalization using the mean absolute deviation instead of standard deviation.__"
   ]
  },
  {
   "attachments": {
    "Screen%20Shot%202018-09-16%20at%2022.06.33.png": {
     "image/png": "[encoded data removed]"
    }
   },
   "cell_type": "markdown",
   "metadata": {},
   "source": [
    "Instead of using standard deviation we will have to use mean absolute deviation, which is computed using the following formula:\n",
    "![Screen%20Shot%202018-09-16%20at%2022.06.33.png](attachment:Screen%20Shot%202018-09-16%20at%2022.06.33.png)\n",
    "\n",
    "the above formula is computed using the function `mad`"
   ]
  },
  {
   "cell_type": "code",
   "execution_count": 22,
   "metadata": {},
   "outputs": [],
   "source": [
    "def mad(data, axis=None):\n",
    "    return np.mean(np.absolute(data - np.mean(data, axis)), axis)"
   ]
  },
  {
   "cell_type": "code",
   "execution_count": 23,
   "metadata": {},
   "outputs": [
    {
     "name": "stdout",
     "output_type": "stream",
     "text": [
      "Mean absolute deviation of data is \u001b[1m 240.0 \u001b[0m\n"
     ]
    }
   ],
   "source": [
    "mad_data = mad(data)\n",
    "\n",
    "print(f'Mean absolute deviation of data is {bolden(mad_data)}')"
   ]
  },
  {
   "cell_type": "code",
   "execution_count": 24,
   "metadata": {},
   "outputs": [],
   "source": [
    "div_by_mad = partial(flip(truediv), mad_data)"
   ]
  },
  {
   "attachments": {
    "Screen%20Shot%202018-09-16%20at%2022.10.48.png": {
     "image/png": "[encoded data removed]"
    }
   },
   "cell_type": "markdown",
   "metadata": {},
   "source": [
    "following the formula for z-score normalization using the mean absolute deviation: \n",
    "![Screen%20Shot%202018-09-16%20at%2022.10.48.png](attachment:Screen%20Shot%202018-09-16%20at%2022.10.48.png)\n",
    "\n",
    "we have the function `normalize_zscore_mad`:"
   ]
  },
  {
   "cell_type": "code",
   "execution_count": 107,
   "metadata": {},
   "outputs": [],
   "source": [
    "def normalize_zscore_mad(data):\n",
    "    return pipe(data, map(sub_mean), map(div_by_mad), map(round_by_3))"
   ]
  },
  {
   "cell_type": "code",
   "execution_count": 108,
   "metadata": {},
   "outputs": [
    {
     "name": "stdout",
     "output_type": "stream",
     "text": [
      "Orginal data: [200, 300, 400, 600, 1000]\n",
      "z-score normalized data using `mad`: [-1.25, -0.833, -0.417, 0.417, 2.083]\n"
     ]
    }
   ],
   "source": [
    "print(f'Orginal data: {data}')\n",
    "print(f'z-score normalized data using `mad`: {list(normalize_zscore_mad(data))}')"
   ]
  },
  {
   "cell_type": "markdown",
   "metadata": {},
   "source": [
    "## __d. normalization by decimal scaling.__"
   ]
  },
  {
   "cell_type": "code",
   "execution_count": 42,
   "metadata": {},
   "outputs": [
    {
     "name": "stdout",
     "output_type": "stream",
     "text": [
      "Max value of the data is \u001b[1m 70 \u001b[0m\n"
     ]
    }
   ],
   "source": [
    "print(f'Max value of the data is {bolden(max_data)}')"
   ]
  },
  {
   "attachments": {
    "Screen%20Shot%202018-09-16%20at%2022.22.58.png": {
     "image/png": "[encoded data removed]"
    }
   },
   "cell_type": "markdown",
   "metadata": {},
   "source": [
    "Since the max absolute value of the data is 1000, to normalize by decimal scaling, we therefore divide each value in the data by 1000 (i.e `j = 3`).\n",
    "\n",
    "Following the formula for decimal scaling:\n",
    "![Screen%20Shot%202018-09-16%20at%2022.22.58.png](attachment:Screen%20Shot%202018-09-16%20at%2022.22.58.png)\n",
    "\n",
    "we have the function `normalize_dec_scale`:"
   ]
  },
  {
   "cell_type": "code",
   "execution_count": 44,
   "metadata": {},
   "outputs": [],
   "source": [
    "def normalize_dec_scale(data, j):\n",
    "    divide_by_10j = partial(flip(truediv), np.power(10, j))\n",
    "    return pipe(data, map(divide_by_10j))"
   ]
  },
  {
   "cell_type": "code",
   "execution_count": 46,
   "metadata": {},
   "outputs": [
    {
     "name": "stdout",
     "output_type": "stream",
     "text": [
      "Orginal data: [13, 15, 16, 16, 19, 20, 20, 21, 22, 22, 25, 25, 25, 25, 30, 33, 33, 35, 35, 35, 35, 36, 40, 45, 46, 52, 70]\n",
      "Normalized by decimal scaling: [0.13, 0.15, 0.16, 0.16, 0.19, 0.2, 0.2, 0.21, 0.22, 0.22, 0.25, 0.25, 0.25, 0.25, 0.3, 0.33, 0.33, 0.35, 0.35, 0.35, 0.35, 0.36, 0.4, 0.45, 0.46, 0.52, 0.7]\n",
      "35\n",
      "0.35\n"
     ]
    }
   ],
   "source": [
    "print(f'Orginal data: {data}')\n",
    "print(f'Normalized by decimal scaling: {list(normalize_dec_scale(data, 2))}')\n",
    "norm_data = list(normalize_dec_scale(data, 2))\n",
    "print(data[17])\n",
    "print(norm_data[17])"
   ]
  }
 ],
 "metadata": {
  "kernelspec": {
   "display_name": "Python 3",
   "language": "python",
   "name": "python3"
  },
  "language_info": {
   "codemirror_mode": {
    "name": "ipython",
    "version": 3
   },
   "file_extension": ".py",
   "mimetype": "text/x-python",
   "name": "python",
   "nbconvert_exporter": "python",
   "pygments_lexer": "ipython3",
   "version": "3.7.0"
  }
 },
 "nbformat": 4,
 "nbformat_minor": 2
}
