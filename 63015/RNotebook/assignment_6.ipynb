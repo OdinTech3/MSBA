{
 "cells": [
  {
   "cell_type": "code",
   "execution_count": 3,
   "metadata": {},
   "outputs": [],
   "source": [
    "library(arules)"
   ]
  },
  {
   "cell_type": "code",
   "execution_count": 2,
   "metadata": {},
   "outputs": [
    {
     "name": "stdout",
     "output_type": "stream",
     "text": [
      "distribution of transactions with duplicates:\n",
      "1 \n",
      "1 \n"
     ]
    }
   ],
   "source": [
    "txn <- read.transactions(file=\"data/transaction_data_q6.6a.csv\", rm.duplicates = T, format=\"basket\",sep=\",\", cols=1)"
   ]
  },
  {
   "cell_type": "code",
   "execution_count": 4,
   "metadata": {},
   "outputs": [
    {
     "data": {
      "text/plain": [
       "transactions as itemMatrix in sparse format with\n",
       " 5 rows (elements/itemsets/transactions) and\n",
       " 11 columns (items) and a density of 0.4727273 \n",
       "\n",
       "most frequent items:\n",
       "      K       E       M       O       Y (Other) \n",
       "      5       4       3       3       3       8 \n",
       "\n",
       "element (itemset/transaction) length distribution:\n",
       "sizes\n",
       "4 5 6 \n",
       "1 2 2 \n",
       "\n",
       "   Min. 1st Qu.  Median    Mean 3rd Qu.    Max. \n",
       "    4.0     5.0     5.0     5.2     6.0     6.0 \n",
       "\n",
       "includes extended item information - examples:\n",
       "  labels\n",
       "1      A\n",
       "2      C\n",
       "3      D\n",
       "\n",
       "includes extended transaction information - examples:\n",
       "  transactionID\n",
       "1          T100\n",
       "2          T200\n",
       "3          T300"
      ]
     },
     "metadata": {},
     "output_type": "display_data"
    }
   ],
   "source": [
    "summary(txn)"
   ]
  },
  {
   "cell_type": "code",
   "execution_count": 5,
   "metadata": {},
   "outputs": [
    {
     "name": "stdout",
     "output_type": "stream",
     "text": [
      "    items         transactionID\n",
      "[1] {E,K,M,N,O,Y} T100         \n",
      "[2] {D,E,K,N,O,Y} T200         \n",
      "[3] {A,E,K,M}     T300         \n",
      "[4] {C,K,M,U,Y}   T400         \n",
      "[5] {C,E,I,K,O}   T500         \n"
     ]
    }
   ],
   "source": [
    "inspect(txn)"
   ]
  },
  {
   "cell_type": "code",
   "execution_count": 6,
   "metadata": {},
   "outputs": [
    {
     "name": "stdout",
     "output_type": "stream",
     "text": [
      "Apriori\n",
      "\n",
      "Parameter specification:\n",
      " confidence minval smax arem  aval originalSupport maxtime support minlen\n",
      "        0.8    0.1    1 none FALSE            TRUE       5     0.6      1\n",
      " maxlen target   ext\n",
      "     10  rules FALSE\n",
      "\n",
      "Algorithmic control:\n",
      " filter tree heap memopt load sort verbose\n",
      "    0.1 TRUE TRUE  FALSE TRUE    2    TRUE\n",
      "\n",
      "Absolute minimum support count: 3 \n",
      "\n",
      "set item appearances ...[0 item(s)] done [0.00s].\n",
      "set transactions ...[11 item(s), 5 transaction(s)] done [0.00s].\n",
      "sorting and recoding items ... [5 item(s)] done [0.00s].\n",
      "creating transaction tree ... done [0.00s].\n",
      "checking subsets of size 1 2 3 done [0.00s].\n",
      "writing ... [10 rule(s)] done [0.00s].\n",
      "creating S4 object  ... done [0.00s].\n"
     ]
    }
   ],
   "source": [
    "assoc_rules <- apriori(txn, parameter = list(supp = 0.6, conf = 0.8))"
   ]
  },
  {
   "cell_type": "code",
   "execution_count": 7,
   "metadata": {},
   "outputs": [
    {
     "name": "stdout",
     "output_type": "stream",
     "text": [
      "     lhs      rhs support confidence lift count\n",
      "[1]  {}    => {E} 0.8     0.8        1.00 4    \n",
      "[2]  {}    => {K} 1.0     1.0        1.00 5    \n",
      "[3]  {M}   => {K} 0.6     1.0        1.00 3    \n",
      "[4]  {O}   => {E} 0.6     1.0        1.25 3    \n",
      "[5]  {O}   => {K} 0.6     1.0        1.00 3    \n",
      "[6]  {Y}   => {K} 0.6     1.0        1.00 3    \n",
      "[7]  {E}   => {K} 0.8     1.0        1.00 4    \n",
      "[8]  {K}   => {E} 0.8     0.8        1.00 4    \n",
      "[9]  {E,O} => {K} 0.6     1.0        1.00 3    \n",
      "[10] {K,O} => {E} 0.6     1.0        1.25 3    \n"
     ]
    }
   ],
   "source": [
    "inspect(assoc_rules)"
   ]
  },
  {
   "cell_type": "code",
   "execution_count": 16,
   "metadata": {},
   "outputs": [
    {
     "data": {
      "text/html": [
       "<table>\n",
       "<thead><tr><th></th><th scope=col>items</th><th scope=col>support</th></tr></thead>\n",
       "<tbody>\n",
       "\t<tr><th scope=row>1</th><td>{E}    </td><td>0.8    </td></tr>\n",
       "\t<tr><th scope=row>2</th><td>{K}    </td><td>1.0    </td></tr>\n",
       "\t<tr><th scope=row>3</th><td>{K,M}  </td><td>0.6    </td></tr>\n",
       "\t<tr><th scope=row>4</th><td>{E,O}  </td><td>0.6    </td></tr>\n",
       "\t<tr><th scope=row>5</th><td>{K,O}  </td><td>0.6    </td></tr>\n",
       "\t<tr><th scope=row>6</th><td>{K,Y}  </td><td>0.6    </td></tr>\n",
       "\t<tr><th scope=row>7</th><td>{E,K}  </td><td>0.8    </td></tr>\n",
       "\t<tr><th scope=row>9</th><td>{E,K,O}</td><td>0.6    </td></tr>\n",
       "</tbody>\n",
       "</table>\n"
      ],
      "text/latex": [
       "\\begin{tabular}{r|ll}\n",
       "  & items & support\\\\\n",
       "\\hline\n",
       "\t1 & \\{E\\}     & 0.8        \\\\\n",
       "\t2 & \\{K\\}     & 1.0        \\\\\n",
       "\t3 & \\{K,M\\}   & 0.6        \\\\\n",
       "\t4 & \\{E,O\\}   & 0.6        \\\\\n",
       "\t5 & \\{K,O\\}   & 0.6        \\\\\n",
       "\t6 & \\{K,Y\\}   & 0.6        \\\\\n",
       "\t7 & \\{E,K\\}   & 0.8        \\\\\n",
       "\t9 & \\{E,K,O\\} & 0.6        \\\\\n",
       "\\end{tabular}\n"
      ],
      "text/markdown": [
       "\n",
       "| <!--/--> | items | support | \n",
       "|---|---|---|---|---|---|---|---|\n",
       "| 1 | {E}     | 0.8     | \n",
       "| 2 | {K}     | 1.0     | \n",
       "| 3 | {K,M}   | 0.6     | \n",
       "| 4 | {E,O}   | 0.6     | \n",
       "| 5 | {K,O}   | 0.6     | \n",
       "| 6 | {K,Y}   | 0.6     | \n",
       "| 7 | {E,K}   | 0.8     | \n",
       "| 9 | {E,K,O} | 0.6     | \n",
       "\n",
       "\n"
      ],
      "text/plain": [
       "  items   support\n",
       "1 {E}     0.8    \n",
       "2 {K}     1.0    \n",
       "3 {K,M}   0.6    \n",
       "4 {E,O}   0.6    \n",
       "5 {K,O}   0.6    \n",
       "6 {K,Y}   0.6    \n",
       "7 {E,K}   0.8    \n",
       "9 {E,K,O} 0.6    "
      ]
     },
     "metadata": {},
     "output_type": "display_data"
    }
   ],
   "source": [
    "itemsets <- unique(generatingItemsets(assoc_rules))\n",
    "itemsets.df <- as(itemsets, \"data.frame\")\n",
    "# frequentItemsets <- itemsets.df[with(itemsets.df, order(-support,items)),]\n",
    "# names(frequentItemsets)[1] <- \"itemset\"\n",
    "# write.table(frequentItemsets, file = \"\", sep = \",\", row.names = FALSE)\n",
    "itemsets.df"
   ]
  },
  {
   "cell_type": "code",
   "execution_count": 10,
   "metadata": {},
   "outputs": [],
   "source": [
    "txn2 <- read.transactions(file=\"data/transaction_data_q6.8b.csv\", rm.duplicates = T, format=\"basket\",sep=\",\", cols=1)"
   ]
  },
  {
   "cell_type": "code",
   "execution_count": 11,
   "metadata": {},
   "outputs": [
    {
     "data": {
      "text/plain": [
       "transactions as itemMatrix in sparse format with\n",
       " 4 rows (elements/itemsets/transactions) and\n",
       " 10 columns (items) and a density of 0.4 \n",
       "\n",
       "most frequent items:\n",
       "    Wonder-Bread Dairyland-Cheese   Dairyland-Milk      Sunset-Milk \n",
       "               3                2                2                2 \n",
       "       Tasty-Pie          (Other) \n",
       "               2                5 \n",
       "\n",
       "element (itemset/transaction) length distribution:\n",
       "sizes\n",
       "3 4 5 \n",
       "1 2 1 \n",
       "\n",
       "   Min. 1st Qu.  Median    Mean 3rd Qu.    Max. \n",
       "   3.00    3.75    4.00    4.00    4.25    5.00 \n",
       "\n",
       "includes extended item information - examples:\n",
       "            labels\n",
       "1       Best-Bread\n",
       "2      Best-Cheese\n",
       "3 Dairyland-Cheese\n",
       "\n",
       "includes extended transaction information - examples:\n",
       "  transactionID\n",
       "1          T100\n",
       "2          T200\n",
       "3          T300"
      ]
     },
     "metadata": {},
     "output_type": "display_data"
    }
   ],
   "source": [
    "summary(txn2)"
   ]
  },
  {
   "cell_type": "code",
   "execution_count": 12,
   "metadata": {},
   "outputs": [
    {
     "name": "stdout",
     "output_type": "stream",
     "text": [
      "Apriori\n",
      "\n",
      "Parameter specification:\n",
      " confidence minval smax arem  aval originalSupport maxtime support minlen\n",
      "        0.8    0.1    1 none FALSE            TRUE       5     0.6      1\n",
      " maxlen target   ext\n",
      "     10  rules FALSE\n",
      "\n",
      "Algorithmic control:\n",
      " filter tree heap memopt load sort verbose\n",
      "    0.1 TRUE TRUE  FALSE TRUE    2    TRUE\n",
      "\n",
      "Absolute minimum support count: 2 \n",
      "\n",
      "set item appearances ...[0 item(s)] done [0.00s].\n",
      "set transactions ...[10 item(s), 4 transaction(s)] done [0.00s].\n",
      "sorting and recoding items ... [1 item(s)] done [0.00s].\n",
      "creating transaction tree ... done [0.00s].\n",
      "checking subsets of size 1 done [0.00s].\n",
      "writing ... [0 rule(s)] done [0.00s].\n",
      "creating S4 object  ... done [0.00s].\n"
     ]
    }
   ],
   "source": [
    "assoc_rules2 <- apriori(txn2, parameter = list(supp = 0.6, conf = 0.8))"
   ]
  },
  {
   "cell_type": "code",
   "execution_count": 15,
   "metadata": {},
   "outputs": [
    {
     "data": {
      "text/plain": [
       "NULL"
      ]
     },
     "metadata": {},
     "output_type": "display_data"
    },
    {
     "data": {
      "text/html": [],
      "text/latex": [],
      "text/markdown": [],
      "text/plain": [
       "<0 x 0 matrix>"
      ]
     },
     "metadata": {},
     "output_type": "display_data"
    }
   ],
   "source": [
    "val <- inspect(assoc_rules2); val\n",
    "itemsets <- unique(generatingItemsets(assoc_rules2))\n",
    "itemsets.df <- as(itemsets, \"data.frame\")"
   ]
  }
 ],
 "metadata": {
  "kernelspec": {
   "display_name": "R",
   "language": "R",
   "name": "ir"
  },
  "language_info": {
   "codemirror_mode": "r",
   "file_extension": ".r",
   "mimetype": "text/x-r-source",
   "name": "R",
   "pygments_lexer": "r",
   "version": "3.5.1"
  }
 },
 "nbformat": 4,
 "nbformat_minor": 2
}
