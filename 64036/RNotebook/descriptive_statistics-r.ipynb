{
 "cells": [
  {
   "cell_type": "markdown",
   "metadata": {},
   "source": [
    "We first load the financial data into the R runtime workspace"
   ]
  },
  {
   "cell_type": "code",
   "execution_count": 87,
   "metadata": {},
   "outputs": [
    {
     "ename": "ERROR",
     "evalue": "Error in library(corrplot): there is no package called ‘corrplot’\n",
     "output_type": "error",
     "traceback": [
      "Error in library(corrplot): there is no package called ‘corrplot’\nTraceback:\n",
      "1. library(corrplot)",
      "2. stop(txt, domain = NA)"
     ]
    }
   ],
   "source": [
    "library(magrittr)\n",
    "library(corrplot)\n",
    "load(\"./data/Financial.rda\")"
   ]
  },
  {
   "cell_type": "markdown",
   "metadata": {},
   "source": [
    "This dataset contains the financial information of about 100 companies including\n",
    "their __type__ (type), __revenue__ (rev), __assets__ (assets), __return of investment__ (roe),\n",
    "__Earnings Per Share__ (eps), __yield__ (yield), __Dividend Per Share__ (dps) and finally\n",
    "their __Property, Plant and Equipment (ppe)__."
   ]
  },
  {
   "cell_type": "code",
   "execution_count": 3,
   "metadata": {},
   "outputs": [
    {
     "data": {
      "text/html": [
       "<table>\n",
       "<thead><tr><th scope=col>company</th><th scope=col>type</th><th scope=col>rev</th><th scope=col>assets</th><th scope=col>roe</th><th scope=col>eps</th><th scope=col>yield</th><th scope=col>dps</th><th scope=col>ppe</th></tr></thead>\n",
       "<tbody>\n",
       "\t<tr><td>AFLAC           </td><td>6               </td><td> 7251           </td><td>29454           </td><td>17.1            </td><td>2.08            </td><td>0.9             </td><td>0.22            </td><td> 11.5           </td></tr>\n",
       "\t<tr><td>Albertson's     </td><td>4               </td><td>14690           </td><td> 5219           </td><td>21.4            </td><td>2.08            </td><td>1.6             </td><td>0.63            </td><td> 19.0           </td></tr>\n",
       "\t<tr><td>Allstate        </td><td>6               </td><td>20106           </td><td>80918           </td><td>20.1            </td><td>3.56            </td><td>1.0             </td><td>0.36            </td><td> 10.6           </td></tr>\n",
       "\t<tr><td>Amerada Hess    </td><td>7               </td><td> 8340           </td><td> 7935           </td><td> 0.2            </td><td>0.08            </td><td>1.1             </td><td>0.60            </td><td>698.3           </td></tr>\n",
       "\t<tr><td>American General</td><td>6               </td><td> 3362           </td><td>80620           </td><td> 7.1            </td><td>2.19            </td><td>3.0             </td><td>1.40            </td><td> 21.2           </td></tr>\n",
       "\t<tr><td>American Stores </td><td>4               </td><td>19139           </td><td> 8536           </td><td>12.2            </td><td>1.01            </td><td>1.4             </td><td>0.34            </td><td> 23.5           </td></tr>\n",
       "</tbody>\n",
       "</table>\n"
      ],
      "text/latex": [
       "\\begin{tabular}{r|lllllllll}\n",
       " company & type & rev & assets & roe & eps & yield & dps & ppe\\\\\n",
       "\\hline\n",
       "\t AFLAC            & 6                &  7251            & 29454            & 17.1             & 2.08             & 0.9              & 0.22             &  11.5           \\\\\n",
       "\t Albertson's      & 4                & 14690            &  5219            & 21.4             & 2.08             & 1.6              & 0.63             &  19.0           \\\\\n",
       "\t Allstate         & 6                & 20106            & 80918            & 20.1             & 3.56             & 1.0              & 0.36             &  10.6           \\\\\n",
       "\t Amerada Hess     & 7                &  8340            &  7935            &  0.2             & 0.08             & 1.1              & 0.60             & 698.3           \\\\\n",
       "\t American General & 6                &  3362            & 80620            &  7.1             & 2.19             & 3.0              & 1.40             &  21.2           \\\\\n",
       "\t American Stores  & 4                & 19139            &  8536            & 12.2             & 1.01             & 1.4              & 0.34             &  23.5           \\\\\n",
       "\\end{tabular}\n"
      ],
      "text/markdown": [
       "\n",
       "company | type | rev | assets | roe | eps | yield | dps | ppe | \n",
       "|---|---|---|---|---|---|\n",
       "| AFLAC            | 6                |  7251            | 29454            | 17.1             | 2.08             | 0.9              | 0.22             |  11.5            | \n",
       "| Albertson's      | 4                | 14690            |  5219            | 21.4             | 2.08             | 1.6              | 0.63             |  19.0            | \n",
       "| Allstate         | 6                | 20106            | 80918            | 20.1             | 3.56             | 1.0              | 0.36             |  10.6            | \n",
       "| Amerada Hess     | 7                |  8340            |  7935            |  0.2             | 0.08             | 1.1              | 0.60             | 698.3            | \n",
       "| American General | 6                |  3362            | 80620            |  7.1             | 2.19             | 3.0              | 1.40             |  21.2            | \n",
       "| American Stores  | 4                | 19139            |  8536            | 12.2             | 1.01             | 1.4              | 0.34             |  23.5            | \n",
       "\n",
       "\n"
      ],
      "text/plain": [
       "  company          type rev   assets roe  eps  yield dps  ppe  \n",
       "1 AFLAC            6     7251 29454  17.1 2.08 0.9   0.22  11.5\n",
       "2 Albertson's      4    14690  5219  21.4 2.08 1.6   0.63  19.0\n",
       "3 Allstate         6    20106 80918  20.1 3.56 1.0   0.36  10.6\n",
       "4 Amerada Hess     7     8340  7935   0.2 0.08 1.1   0.60 698.3\n",
       "5 American General 6     3362 80620   7.1 2.19 3.0   1.40  21.2\n",
       "6 American Stores  4    19139  8536  12.2 1.01 1.4   0.34  23.5"
      ]
     },
     "metadata": {},
     "output_type": "display_data"
    }
   ],
   "source": [
    "head(Financial)"
   ]
  },
  {
   "cell_type": "code",
   "execution_count": 4,
   "metadata": {},
   "outputs": [
    {
     "data": {
      "text/html": [
       "<ol>\n",
       "\t<li>'company'</li>\n",
       "\t<li>'type'</li>\n",
       "\t<li>'rev'</li>\n",
       "\t<li>'assets'</li>\n",
       "\t<li>'roe'</li>\n",
       "\t<li>'eps'</li>\n",
       "\t<li>'yield'</li>\n",
       "\t<li>'dps'</li>\n",
       "\t<li>'ppe'</li>\n",
       "</ol>\n"
      ],
      "text/latex": [
       "\\begin{enumerate}\n",
       "\\item 'company'\n",
       "\\item 'type'\n",
       "\\item 'rev'\n",
       "\\item 'assets'\n",
       "\\item 'roe'\n",
       "\\item 'eps'\n",
       "\\item 'yield'\n",
       "\\item 'dps'\n",
       "\\item 'ppe'\n",
       "\\end{enumerate}\n"
      ],
      "text/markdown": [
       "1. 'company'\n",
       "2. 'type'\n",
       "3. 'rev'\n",
       "4. 'assets'\n",
       "5. 'roe'\n",
       "6. 'eps'\n",
       "7. 'yield'\n",
       "8. 'dps'\n",
       "9. 'ppe'\n",
       "\n",
       "\n"
      ],
      "text/plain": [
       "[[1]]\n",
       "[1] \"company\"\n",
       "\n",
       "[[2]]\n",
       "[1] \"type\"\n",
       "\n",
       "[[3]]\n",
       "[1] \"rev\"\n",
       "\n",
       "[[4]]\n",
       "[1] \"assets\"\n",
       "\n",
       "[[5]]\n",
       "[1] \"roe\"\n",
       "\n",
       "[[6]]\n",
       "[1] \"eps\"\n",
       "\n",
       "[[7]]\n",
       "[1] \"yield\"\n",
       "\n",
       "[[8]]\n",
       "[1] \"dps\"\n",
       "\n",
       "[[9]]\n",
       "[1] \"ppe\"\n"
      ]
     },
     "metadata": {},
     "output_type": "display_data"
    }
   ],
   "source": [
    "lapply(colnames(Financial), paste)"
   ]
  },
  {
   "cell_type": "code",
   "execution_count": 5,
   "metadata": {},
   "outputs": [
    {
     "name": "stdout",
     "output_type": "stream",
     "text": [
      "[1] \"Mean: 11043.4\"\n",
      "[1] \"Median: 6101\"\n",
      "[1] \"Standard Deviation: 17479.1\"\n"
     ]
    }
   ],
   "source": [
    "fn_names <- c(\"Mean\", \"Median\", \"Standard Deviation\")\n",
    "fn <- list(mean, median, sd)\n",
    "\n",
    "for (i in seq_along(fn)) {\n",
    "    out <- sprintf(\"%s: %g\", fn_names[i], fn[[i]](Financial$rev))\n",
    "    print(out)\n",
    "}\n"
   ]
  },
  {
   "cell_type": "markdown",
   "metadata": {},
   "source": [
    "Let's find highest (max) revenue from all the companies"
   ]
  },
  {
   "cell_type": "code",
   "execution_count": 6,
   "metadata": {},
   "outputs": [
    {
     "data": {
      "text/html": [
       "137242"
      ],
      "text/latex": [
       "137242"
      ],
      "text/markdown": [
       "137242"
      ],
      "text/plain": [
       "[1] 137242"
      ]
     },
     "metadata": {},
     "output_type": "display_data"
    }
   ],
   "source": [
    "max(Financial$rev)"
   ]
  },
  {
   "cell_type": "markdown",
   "metadata": {},
   "source": [
    "Now lets find the row or record that owns the highest revenue"
   ]
  },
  {
   "cell_type": "code",
   "execution_count": 36,
   "metadata": {},
   "outputs": [
    {
     "data": {
      "text/html": [
       "<table>\n",
       "<thead><tr><th></th><th scope=col>company</th><th scope=col>type</th><th scope=col>rev</th><th scope=col>assets</th><th scope=col>roe</th><th scope=col>eps</th><th scope=col>yield</th><th scope=col>dps</th><th scope=col>ppe</th></tr></thead>\n",
       "<tbody>\n",
       "\t<tr><th scope=row>31</th><td>Exxon </td><td>7     </td><td>137242</td><td>96064 </td><td>19.4  </td><td>3.37  </td><td>2.8   </td><td>1.63  </td><td>17.1  </td></tr>\n",
       "</tbody>\n",
       "</table>\n"
      ],
      "text/latex": [
       "\\begin{tabular}{r|lllllllll}\n",
       "  & company & type & rev & assets & roe & eps & yield & dps & ppe\\\\\n",
       "\\hline\n",
       "\t31 & Exxon  & 7      & 137242 & 96064  & 19.4   & 3.37   & 2.8    & 1.63   & 17.1  \\\\\n",
       "\\end{tabular}\n"
      ],
      "text/markdown": [
       "\n",
       "| <!--/--> | company | type | rev | assets | roe | eps | yield | dps | ppe | \n",
       "|---|\n",
       "| 31 | Exxon  | 7      | 137242 | 96064  | 19.4   | 3.37   | 2.8    | 1.63   | 17.1   | \n",
       "\n",
       "\n"
      ],
      "text/plain": [
       "   company type rev    assets roe  eps  yield dps  ppe \n",
       "31 Exxon   7    137242 96064  19.4 3.37 2.8   1.63 17.1"
      ]
     },
     "metadata": {},
     "output_type": "display_data"
    }
   ],
   "source": [
    "Financial[which.max(Financial$rev),]"
   ]
  },
  {
   "cell_type": "markdown",
   "metadata": {},
   "source": [
    "How about finding the company with the lowest (min) revenue"
   ]
  },
  {
   "cell_type": "code",
   "execution_count": 37,
   "metadata": {},
   "outputs": [
    {
     "data": {
      "text/html": [
       "<table>\n",
       "<thead><tr><th></th><th scope=col>company</th><th scope=col>type</th><th scope=col>rev</th><th scope=col>assets</th><th scope=col>roe</th><th scope=col>eps</th><th scope=col>yield</th><th scope=col>dps</th><th scope=col>ppe</th></tr></thead>\n",
       "<tbody>\n",
       "\t<tr><th scope=row>72</th><td>Poe &amp; Brown</td><td>6              </td><td>129            </td><td>194            </td><td>25.1           </td><td>1.48           </td><td>1.5            </td><td>0.35           </td><td>16.3           </td></tr>\n",
       "</tbody>\n",
       "</table>\n"
      ],
      "text/latex": [
       "\\begin{tabular}{r|lllllllll}\n",
       "  & company & type & rev & assets & roe & eps & yield & dps & ppe\\\\\n",
       "\\hline\n",
       "\t72 & Poe \\& Brown & 6             & 129           & 194           & 25.1          & 1.48          & 1.5           & 0.35          & 16.3         \\\\\n",
       "\\end{tabular}\n"
      ],
      "text/markdown": [
       "\n",
       "| <!--/--> | company | type | rev | assets | roe | eps | yield | dps | ppe | \n",
       "|---|\n",
       "| 72 | Poe & Brown | 6           | 129         | 194         | 25.1        | 1.48        | 1.5         | 0.35        | 16.3        | \n",
       "\n",
       "\n"
      ],
      "text/plain": [
       "   company     type rev assets roe  eps  yield dps  ppe \n",
       "72 Poe & Brown 6    129 194    25.1 1.48 1.5   0.35 16.3"
      ]
     },
     "metadata": {},
     "output_type": "display_data"
    }
   ],
   "source": [
    "Financial[which.min(Financial$rev),]"
   ]
  },
  {
   "cell_type": "markdown",
   "metadata": {},
   "source": [
    "What are the top 5 companies with the highest assets"
   ]
  },
  {
   "cell_type": "code",
   "execution_count": 7,
   "metadata": {},
   "outputs": [
    {
     "data": {
      "text/html": [
       "<table>\n",
       "<thead><tr><th></th><th scope=col>company</th><th scope=col>type</th><th scope=col>rev</th><th scope=col>assets</th><th scope=col>roe</th><th scope=col>eps</th><th scope=col>yield</th><th scope=col>dps</th><th scope=col>ppe</th></tr></thead>\n",
       "<tbody>\n",
       "\t<tr><th scope=row>3</th><td>Allstate </td><td>6        </td><td> 20106   </td><td> 80918   </td><td>20.1     </td><td>3.56     </td><td>1.0      </td><td>0.36     </td><td>10.6     </td></tr>\n",
       "\t<tr><th scope=row>31</th><td>Exxon    </td><td>7        </td><td>137242   </td><td> 96064   </td><td>19.4     </td><td>3.37     </td><td>2.8      </td><td>1.63     </td><td>17.1     </td></tr>\n",
       "\t<tr><th scope=row>17</th><td>CIGNA    </td><td>6        </td><td> 14935   </td><td>108199   </td><td>13.7     </td><td>4.88     </td><td>2.0      </td><td>1.10     </td><td>11.4     </td></tr>\n",
       "\t<tr><th scope=row>29</th><td>Equitable</td><td>6        </td><td>  9666   </td><td>151438   </td><td>12.3     </td><td>2.86     </td><td>0.5      </td><td>0.20     </td><td>13.4     </td></tr>\n",
       "\t<tr><th scope=row>87</th><td>Travelers</td><td>6        </td><td> 37609   </td><td>386555   </td><td>14.9     </td><td>2.54     </td><td>0.9      </td><td>0.40     </td><td>17.0     </td></tr>\n",
       "</tbody>\n",
       "</table>\n"
      ],
      "text/latex": [
       "\\begin{tabular}{r|lllllllll}\n",
       "  & company & type & rev & assets & roe & eps & yield & dps & ppe\\\\\n",
       "\\hline\n",
       "\t3 & Allstate  & 6         &  20106    &  80918    & 20.1      & 3.56      & 1.0       & 0.36      & 10.6     \\\\\n",
       "\t31 & Exxon     & 7         & 137242    &  96064    & 19.4      & 3.37      & 2.8       & 1.63      & 17.1     \\\\\n",
       "\t17 & CIGNA     & 6         &  14935    & 108199    & 13.7      & 4.88      & 2.0       & 1.10      & 11.4     \\\\\n",
       "\t29 & Equitable & 6         &   9666    & 151438    & 12.3      & 2.86      & 0.5       & 0.20      & 13.4     \\\\\n",
       "\t87 & Travelers & 6         &  37609    & 386555    & 14.9      & 2.54      & 0.9       & 0.40      & 17.0     \\\\\n",
       "\\end{tabular}\n"
      ],
      "text/markdown": [
       "\n",
       "| <!--/--> | company | type | rev | assets | roe | eps | yield | dps | ppe | \n",
       "|---|---|---|---|---|\n",
       "| 3 | Allstate  | 6         |  20106    |  80918    | 20.1      | 3.56      | 1.0       | 0.36      | 10.6      | \n",
       "| 31 | Exxon     | 7         | 137242    |  96064    | 19.4      | 3.37      | 2.8       | 1.63      | 17.1      | \n",
       "| 17 | CIGNA     | 6         |  14935    | 108199    | 13.7      | 4.88      | 2.0       | 1.10      | 11.4      | \n",
       "| 29 | Equitable | 6         |   9666    | 151438    | 12.3      | 2.86      | 0.5       | 0.20      | 13.4      | \n",
       "| 87 | Travelers | 6         |  37609    | 386555    | 14.9      | 2.54      | 0.9       | 0.40      | 17.0      | \n",
       "\n",
       "\n"
      ],
      "text/plain": [
       "   company   type rev    assets roe  eps  yield dps  ppe \n",
       "3  Allstate  6     20106  80918 20.1 3.56 1.0   0.36 10.6\n",
       "31 Exxon     7    137242  96064 19.4 3.37 2.8   1.63 17.1\n",
       "17 CIGNA     6     14935 108199 13.7 4.88 2.0   1.10 11.4\n",
       "29 Equitable 6      9666 151438 12.3 2.86 0.5   0.20 13.4\n",
       "87 Travelers 6     37609 386555 14.9 2.54 0.9   0.40 17.0"
      ]
     },
     "metadata": {},
     "output_type": "display_data"
    }
   ],
   "source": [
    "Financial$assets %>% \n",
    "    order %>% \n",
    "    tail(5) %>% \n",
    "    `[`(Financial, .,)"
   ]
  },
  {
   "cell_type": "markdown",
   "metadata": {},
   "source": [
    "What is the standard deviation of “roe” values Try to calculate the standard deviation without using the sd() command and by formula, then use the sd() command and compare the results."
   ]
  },
  {
   "cell_type": "markdown",
   "metadata": {},
   "source": [
    "The code bellow is the functional way of representing the formula for standard deviation"
   ]
  },
  {
   "cell_type": "code",
   "execution_count": 20,
   "metadata": {},
   "outputs": [
    {
     "name": "stdout",
     "output_type": "stream",
     "text": [
      "[1] 23.45448\n"
     ]
    }
   ],
   "source": [
    "minus <- `-`\n",
    "pow <- `^`\n",
    "divide_by <- `/`\n",
    "\n",
    "st_dev <- Financial$roe %>%\n",
    "    mean %>%\n",
    "    minus(Financial$roe, .) %>%\n",
    "    pow(2) %>%\n",
    "    sum %>%\n",
    "    divide_by(length(Financial$roe)) %>%\n",
    "    sqrt\n",
    "\n",
    "print(st_dev)"
   ]
  },
  {
   "cell_type": "markdown",
   "metadata": {},
   "source": [
    "The bellow cells are a procedural (step by step) way of representing the formula for standard deviation"
   ]
  },
  {
   "cell_type": "code",
   "execution_count": 5,
   "metadata": {},
   "outputs": [
    {
     "data": {
      "text/html": [
       "18.334"
      ],
      "text/latex": [
       "18.334"
      ],
      "text/markdown": [
       "18.334"
      ],
      "text/plain": [
       "[1] 18.334"
      ]
     },
     "metadata": {},
     "output_type": "display_data"
    }
   ],
   "source": [
    "mean_roe = mean(Financial$roe); mean_roe"
   ]
  },
  {
   "cell_type": "code",
   "execution_count": 6,
   "metadata": {},
   "outputs": [
    {
     "data": {
      "text/html": [
       "<ol class=list-inline>\n",
       "\t<li>-1.234</li>\n",
       "\t<li>3.066</li>\n",
       "\t<li>1.766</li>\n",
       "\t<li>-18.134</li>\n",
       "\t<li>-11.234</li>\n",
       "\t<li>-6.134</li>\n",
       "\t<li>-1.634</li>\n",
       "\t<li>-12.134</li>\n",
       "\t<li>-8.834</li>\n",
       "\t<li>3.466</li>\n",
       "\t<li>-12.334</li>\n",
       "\t<li>-6.834</li>\n",
       "\t<li>26.066</li>\n",
       "\t<li>-6.034</li>\n",
       "\t<li>-15.934</li>\n",
       "\t<li>0.266000000000002</li>\n",
       "\t<li>-4.634</li>\n",
       "\t<li>-5.034</li>\n",
       "\t<li>-0.334</li>\n",
       "\t<li>-9.134</li>\n",
       "\t<li>-10.434</li>\n",
       "\t<li>5.266</li>\n",
       "\t<li>-4.434</li>\n",
       "\t<li>2.966</li>\n",
       "\t<li>-2.034</li>\n",
       "\t<li>-6.034</li>\n",
       "\t<li>-12.234</li>\n",
       "\t<li>-14.134</li>\n",
       "\t<li>-6.034</li>\n",
       "\t<li>35.266</li>\n",
       "\t<li>1.066</li>\n",
       "\t<li>-6.134</li>\n",
       "\t<li>15.366</li>\n",
       "\t<li>209.666</li>\n",
       "\t<li>-10.434</li>\n",
       "\t<li>-11.434</li>\n",
       "\t<li>-12.834</li>\n",
       "\t<li>-10.034</li>\n",
       "\t<li>-8.434</li>\n",
       "\t<li>28.666</li>\n",
       "\t<li>-10.334</li>\n",
       "\t<li>-3.834</li>\n",
       "\t<li>8.366</li>\n",
       "\t<li>-7.234</li>\n",
       "\t<li>-7.734</li>\n",
       "\t<li>-17.934</li>\n",
       "\t<li>0.666</li>\n",
       "\t<li>27.866</li>\n",
       "\t<li>-3.534</li>\n",
       "\t<li>2.166</li>\n",
       "\t<li>-7.334</li>\n",
       "\t<li>-10.434</li>\n",
       "\t<li>18.266</li>\n",
       "\t<li>-5.734</li>\n",
       "\t<li>-1.534</li>\n",
       "\t<li>-11.134</li>\n",
       "\t<li>-6.034</li>\n",
       "\t<li>-6.034</li>\n",
       "\t<li>-4.834</li>\n",
       "\t<li>6.666</li>\n",
       "\t<li>-8.234</li>\n",
       "\t<li>-4.234</li>\n",
       "\t<li>-0.934000000000001</li>\n",
       "\t<li>-2.334</li>\n",
       "\t<li>-8.934</li>\n",
       "\t<li>-13.134</li>\n",
       "\t<li>-10.634</li>\n",
       "\t<li>-2.534</li>\n",
       "\t<li>9.566</li>\n",
       "\t<li>-12.534</li>\n",
       "\t<li>1.566</li>\n",
       "\t<li>6.766</li>\n",
       "\t<li>10.166</li>\n",
       "\t<li>-6.934</li>\n",
       "\t<li>0.366</li>\n",
       "\t<li>1.466</li>\n",
       "\t<li>-5.834</li>\n",
       "\t<li>32.866</li>\n",
       "\t<li>1.966</li>\n",
       "\t<li>2.166</li>\n",
       "\t<li>-0.334</li>\n",
       "\t<li>-3.634</li>\n",
       "\t<li>2.566</li>\n",
       "\t<li>7.966</li>\n",
       "\t<li>-0.834</li>\n",
       "\t<li>-7.434</li>\n",
       "\t<li>-3.434</li>\n",
       "\t<li>-8.834</li>\n",
       "\t<li>10.466</li>\n",
       "\t<li>-10.834</li>\n",
       "\t<li>10.566</li>\n",
       "\t<li>-3.134</li>\n",
       "\t<li>-5.734</li>\n",
       "\t<li>-8.734</li>\n",
       "\t<li>12.366</li>\n",
       "\t<li>-9.134</li>\n",
       "\t<li>-13.534</li>\n",
       "\t<li>-3.034</li>\n",
       "\t<li>-4.334</li>\n",
       "\t<li>-10.534</li>\n",
       "</ol>\n"
      ],
      "text/latex": [
       "\\begin{enumerate*}\n",
       "\\item -1.234\n",
       "\\item 3.066\n",
       "\\item 1.766\n",
       "\\item -18.134\n",
       "\\item -11.234\n",
       "\\item -6.134\n",
       "\\item -1.634\n",
       "\\item -12.134\n",
       "\\item -8.834\n",
       "\\item 3.466\n",
       "\\item -12.334\n",
       "\\item -6.834\n",
       "\\item 26.066\n",
       "\\item -6.034\n",
       "\\item -15.934\n",
       "\\item 0.266000000000002\n",
       "\\item -4.634\n",
       "\\item -5.034\n",
       "\\item -0.334\n",
       "\\item -9.134\n",
       "\\item -10.434\n",
       "\\item 5.266\n",
       "\\item -4.434\n",
       "\\item 2.966\n",
       "\\item -2.034\n",
       "\\item -6.034\n",
       "\\item -12.234\n",
       "\\item -14.134\n",
       "\\item -6.034\n",
       "\\item 35.266\n",
       "\\item 1.066\n",
       "\\item -6.134\n",
       "\\item 15.366\n",
       "\\item 209.666\n",
       "\\item -10.434\n",
       "\\item -11.434\n",
       "\\item -12.834\n",
       "\\item -10.034\n",
       "\\item -8.434\n",
       "\\item 28.666\n",
       "\\item -10.334\n",
       "\\item -3.834\n",
       "\\item 8.366\n",
       "\\item -7.234\n",
       "\\item -7.734\n",
       "\\item -17.934\n",
       "\\item 0.666\n",
       "\\item 27.866\n",
       "\\item -3.534\n",
       "\\item 2.166\n",
       "\\item -7.334\n",
       "\\item -10.434\n",
       "\\item 18.266\n",
       "\\item -5.734\n",
       "\\item -1.534\n",
       "\\item -11.134\n",
       "\\item -6.034\n",
       "\\item -6.034\n",
       "\\item -4.834\n",
       "\\item 6.666\n",
       "\\item -8.234\n",
       "\\item -4.234\n",
       "\\item -0.934000000000001\n",
       "\\item -2.334\n",
       "\\item -8.934\n",
       "\\item -13.134\n",
       "\\item -10.634\n",
       "\\item -2.534\n",
       "\\item 9.566\n",
       "\\item -12.534\n",
       "\\item 1.566\n",
       "\\item 6.766\n",
       "\\item 10.166\n",
       "\\item -6.934\n",
       "\\item 0.366\n",
       "\\item 1.466\n",
       "\\item -5.834\n",
       "\\item 32.866\n",
       "\\item 1.966\n",
       "\\item 2.166\n",
       "\\item -0.334\n",
       "\\item -3.634\n",
       "\\item 2.566\n",
       "\\item 7.966\n",
       "\\item -0.834\n",
       "\\item -7.434\n",
       "\\item -3.434\n",
       "\\item -8.834\n",
       "\\item 10.466\n",
       "\\item -10.834\n",
       "\\item 10.566\n",
       "\\item -3.134\n",
       "\\item -5.734\n",
       "\\item -8.734\n",
       "\\item 12.366\n",
       "\\item -9.134\n",
       "\\item -13.534\n",
       "\\item -3.034\n",
       "\\item -4.334\n",
       "\\item -10.534\n",
       "\\end{enumerate*}\n"
      ],
      "text/markdown": [
       "1. -1.234\n",
       "2. 3.066\n",
       "3. 1.766\n",
       "4. -18.134\n",
       "5. -11.234\n",
       "6. -6.134\n",
       "7. -1.634\n",
       "8. -12.134\n",
       "9. -8.834\n",
       "10. 3.466\n",
       "11. -12.334\n",
       "12. -6.834\n",
       "13. 26.066\n",
       "14. -6.034\n",
       "15. -15.934\n",
       "16. 0.266000000000002\n",
       "17. -4.634\n",
       "18. -5.034\n",
       "19. -0.334\n",
       "20. -9.134\n",
       "21. -10.434\n",
       "22. 5.266\n",
       "23. -4.434\n",
       "24. 2.966\n",
       "25. -2.034\n",
       "26. -6.034\n",
       "27. -12.234\n",
       "28. -14.134\n",
       "29. -6.034\n",
       "30. 35.266\n",
       "31. 1.066\n",
       "32. -6.134\n",
       "33. 15.366\n",
       "34. 209.666\n",
       "35. -10.434\n",
       "36. -11.434\n",
       "37. -12.834\n",
       "38. -10.034\n",
       "39. -8.434\n",
       "40. 28.666\n",
       "41. -10.334\n",
       "42. -3.834\n",
       "43. 8.366\n",
       "44. -7.234\n",
       "45. -7.734\n",
       "46. -17.934\n",
       "47. 0.666\n",
       "48. 27.866\n",
       "49. -3.534\n",
       "50. 2.166\n",
       "51. -7.334\n",
       "52. -10.434\n",
       "53. 18.266\n",
       "54. -5.734\n",
       "55. -1.534\n",
       "56. -11.134\n",
       "57. -6.034\n",
       "58. -6.034\n",
       "59. -4.834\n",
       "60. 6.666\n",
       "61. -8.234\n",
       "62. -4.234\n",
       "63. -0.934000000000001\n",
       "64. -2.334\n",
       "65. -8.934\n",
       "66. -13.134\n",
       "67. -10.634\n",
       "68. -2.534\n",
       "69. 9.566\n",
       "70. -12.534\n",
       "71. 1.566\n",
       "72. 6.766\n",
       "73. 10.166\n",
       "74. -6.934\n",
       "75. 0.366\n",
       "76. 1.466\n",
       "77. -5.834\n",
       "78. 32.866\n",
       "79. 1.966\n",
       "80. 2.166\n",
       "81. -0.334\n",
       "82. -3.634\n",
       "83. 2.566\n",
       "84. 7.966\n",
       "85. -0.834\n",
       "86. -7.434\n",
       "87. -3.434\n",
       "88. -8.834\n",
       "89. 10.466\n",
       "90. -10.834\n",
       "91. 10.566\n",
       "92. -3.134\n",
       "93. -5.734\n",
       "94. -8.734\n",
       "95. 12.366\n",
       "96. -9.134\n",
       "97. -13.534\n",
       "98. -3.034\n",
       "99. -4.334\n",
       "100. -10.534\n",
       "\n",
       "\n"
      ],
      "text/plain": [
       "  [1]  -1.234   3.066   1.766 -18.134 -11.234  -6.134  -1.634 -12.134  -8.834\n",
       " [10]   3.466 -12.334  -6.834  26.066  -6.034 -15.934   0.266  -4.634  -5.034\n",
       " [19]  -0.334  -9.134 -10.434   5.266  -4.434   2.966  -2.034  -6.034 -12.234\n",
       " [28] -14.134  -6.034  35.266   1.066  -6.134  15.366 209.666 -10.434 -11.434\n",
       " [37] -12.834 -10.034  -8.434  28.666 -10.334  -3.834   8.366  -7.234  -7.734\n",
       " [46] -17.934   0.666  27.866  -3.534   2.166  -7.334 -10.434  18.266  -5.734\n",
       " [55]  -1.534 -11.134  -6.034  -6.034  -4.834   6.666  -8.234  -4.234  -0.934\n",
       " [64]  -2.334  -8.934 -13.134 -10.634  -2.534   9.566 -12.534   1.566   6.766\n",
       " [73]  10.166  -6.934   0.366   1.466  -5.834  32.866   1.966   2.166  -0.334\n",
       " [82]  -3.634   2.566   7.966  -0.834  -7.434  -3.434  -8.834  10.466 -10.834\n",
       " [91]  10.566  -3.134  -5.734  -8.734  12.366  -9.134 -13.534  -3.034  -4.334\n",
       "[100] -10.534"
      ]
     },
     "metadata": {},
     "output_type": "display_data"
    }
   ],
   "source": [
    "mean_roe_diff = Financial$roe - mean_roe; mean_roe_diff"
   ]
  },
  {
   "cell_type": "code",
   "execution_count": 7,
   "metadata": {},
   "outputs": [
    {
     "data": {
      "text/html": [
       "<ol class=list-inline>\n",
       "\t<li>1.522756</li>\n",
       "\t<li>9.40035599999999</li>\n",
       "\t<li>3.11875600000001</li>\n",
       "\t<li>328.841956</li>\n",
       "\t<li>126.202756</li>\n",
       "\t<li>37.625956</li>\n",
       "\t<li>2.669956</li>\n",
       "\t<li>147.233956</li>\n",
       "\t<li>78.039556</li>\n",
       "\t<li>12.013156</li>\n",
       "\t<li>152.127556</li>\n",
       "\t<li>46.703556</li>\n",
       "\t<li>679.436356</li>\n",
       "\t<li>36.409156</li>\n",
       "\t<li>253.892356</li>\n",
       "\t<li>0.070756000000001</li>\n",
       "\t<li>21.473956</li>\n",
       "\t<li>25.341156</li>\n",
       "\t<li>0.111556</li>\n",
       "\t<li>83.429956</li>\n",
       "\t<li>108.868356</li>\n",
       "\t<li>27.730756</li>\n",
       "\t<li>19.660356</li>\n",
       "\t<li>8.79715600000001</li>\n",
       "\t<li>4.137156</li>\n",
       "\t<li>36.409156</li>\n",
       "\t<li>149.670756</li>\n",
       "\t<li>199.769956</li>\n",
       "\t<li>36.409156</li>\n",
       "\t<li>1243.690756</li>\n",
       "\t<li>1.136356</li>\n",
       "\t<li>37.625956</li>\n",
       "\t<li>236.113956</li>\n",
       "\t<li>43959.831556</li>\n",
       "\t<li>108.868356</li>\n",
       "\t<li>130.736356</li>\n",
       "\t<li>164.711556</li>\n",
       "\t<li>100.681156</li>\n",
       "\t<li>71.132356</li>\n",
       "\t<li>821.739556</li>\n",
       "\t<li>106.791556</li>\n",
       "\t<li>14.699556</li>\n",
       "\t<li>69.989956</li>\n",
       "\t<li>52.330756</li>\n",
       "\t<li>59.814756</li>\n",
       "\t<li>321.628356</li>\n",
       "\t<li>0.443556000000001</li>\n",
       "\t<li>776.513956</li>\n",
       "\t<li>12.489156</li>\n",
       "\t<li>4.691556</li>\n",
       "\t<li>53.787556</li>\n",
       "\t<li>108.868356</li>\n",
       "\t<li>333.646756</li>\n",
       "\t<li>32.878756</li>\n",
       "\t<li>2.353156</li>\n",
       "\t<li>123.965956</li>\n",
       "\t<li>36.409156</li>\n",
       "\t<li>36.409156</li>\n",
       "\t<li>23.367556</li>\n",
       "\t<li>44.435556</li>\n",
       "\t<li>67.798756</li>\n",
       "\t<li>17.926756</li>\n",
       "\t<li>0.872356000000002</li>\n",
       "\t<li>5.447556</li>\n",
       "\t<li>79.816356</li>\n",
       "\t<li>172.501956</li>\n",
       "\t<li>113.081956</li>\n",
       "\t<li>6.42115599999999</li>\n",
       "\t<li>91.508356</li>\n",
       "\t<li>157.101156</li>\n",
       "\t<li>2.452356</li>\n",
       "\t<li>45.778756</li>\n",
       "\t<li>103.347556</li>\n",
       "\t<li>48.080356</li>\n",
       "\t<li>0.133956</li>\n",
       "\t<li>2.149156</li>\n",
       "\t<li>34.035556</li>\n",
       "\t<li>1080.173956</li>\n",
       "\t<li>3.865156</li>\n",
       "\t<li>4.691556</li>\n",
       "\t<li>0.111556</li>\n",
       "\t<li>13.205956</li>\n",
       "\t<li>6.58435599999999</li>\n",
       "\t<li>63.457156</li>\n",
       "\t<li>0.695555999999999</li>\n",
       "\t<li>55.264356</li>\n",
       "\t<li>11.792356</li>\n",
       "\t<li>78.039556</li>\n",
       "\t<li>109.537156</li>\n",
       "\t<li>117.375556</li>\n",
       "\t<li>111.640356</li>\n",
       "\t<li>9.821956</li>\n",
       "\t<li>32.878756</li>\n",
       "\t<li>76.282756</li>\n",
       "\t<li>152.917956</li>\n",
       "\t<li>83.429956</li>\n",
       "\t<li>183.169156</li>\n",
       "\t<li>9.20515599999999</li>\n",
       "\t<li>18.783556</li>\n",
       "\t<li>110.965156</li>\n",
       "</ol>\n"
      ],
      "text/latex": [
       "\\begin{enumerate*}\n",
       "\\item 1.522756\n",
       "\\item 9.40035599999999\n",
       "\\item 3.11875600000001\n",
       "\\item 328.841956\n",
       "\\item 126.202756\n",
       "\\item 37.625956\n",
       "\\item 2.669956\n",
       "\\item 147.233956\n",
       "\\item 78.039556\n",
       "\\item 12.013156\n",
       "\\item 152.127556\n",
       "\\item 46.703556\n",
       "\\item 679.436356\n",
       "\\item 36.409156\n",
       "\\item 253.892356\n",
       "\\item 0.070756000000001\n",
       "\\item 21.473956\n",
       "\\item 25.341156\n",
       "\\item 0.111556\n",
       "\\item 83.429956\n",
       "\\item 108.868356\n",
       "\\item 27.730756\n",
       "\\item 19.660356\n",
       "\\item 8.79715600000001\n",
       "\\item 4.137156\n",
       "\\item 36.409156\n",
       "\\item 149.670756\n",
       "\\item 199.769956\n",
       "\\item 36.409156\n",
       "\\item 1243.690756\n",
       "\\item 1.136356\n",
       "\\item 37.625956\n",
       "\\item 236.113956\n",
       "\\item 43959.831556\n",
       "\\item 108.868356\n",
       "\\item 130.736356\n",
       "\\item 164.711556\n",
       "\\item 100.681156\n",
       "\\item 71.132356\n",
       "\\item 821.739556\n",
       "\\item 106.791556\n",
       "\\item 14.699556\n",
       "\\item 69.989956\n",
       "\\item 52.330756\n",
       "\\item 59.814756\n",
       "\\item 321.628356\n",
       "\\item 0.443556000000001\n",
       "\\item 776.513956\n",
       "\\item 12.489156\n",
       "\\item 4.691556\n",
       "\\item 53.787556\n",
       "\\item 108.868356\n",
       "\\item 333.646756\n",
       "\\item 32.878756\n",
       "\\item 2.353156\n",
       "\\item 123.965956\n",
       "\\item 36.409156\n",
       "\\item 36.409156\n",
       "\\item 23.367556\n",
       "\\item 44.435556\n",
       "\\item 67.798756\n",
       "\\item 17.926756\n",
       "\\item 0.872356000000002\n",
       "\\item 5.447556\n",
       "\\item 79.816356\n",
       "\\item 172.501956\n",
       "\\item 113.081956\n",
       "\\item 6.42115599999999\n",
       "\\item 91.508356\n",
       "\\item 157.101156\n",
       "\\item 2.452356\n",
       "\\item 45.778756\n",
       "\\item 103.347556\n",
       "\\item 48.080356\n",
       "\\item 0.133956\n",
       "\\item 2.149156\n",
       "\\item 34.035556\n",
       "\\item 1080.173956\n",
       "\\item 3.865156\n",
       "\\item 4.691556\n",
       "\\item 0.111556\n",
       "\\item 13.205956\n",
       "\\item 6.58435599999999\n",
       "\\item 63.457156\n",
       "\\item 0.695555999999999\n",
       "\\item 55.264356\n",
       "\\item 11.792356\n",
       "\\item 78.039556\n",
       "\\item 109.537156\n",
       "\\item 117.375556\n",
       "\\item 111.640356\n",
       "\\item 9.821956\n",
       "\\item 32.878756\n",
       "\\item 76.282756\n",
       "\\item 152.917956\n",
       "\\item 83.429956\n",
       "\\item 183.169156\n",
       "\\item 9.20515599999999\n",
       "\\item 18.783556\n",
       "\\item 110.965156\n",
       "\\end{enumerate*}\n"
      ],
      "text/markdown": [
       "1. 1.522756\n",
       "2. 9.40035599999999\n",
       "3. 3.11875600000001\n",
       "4. 328.841956\n",
       "5. 126.202756\n",
       "6. 37.625956\n",
       "7. 2.669956\n",
       "8. 147.233956\n",
       "9. 78.039556\n",
       "10. 12.013156\n",
       "11. 152.127556\n",
       "12. 46.703556\n",
       "13. 679.436356\n",
       "14. 36.409156\n",
       "15. 253.892356\n",
       "16. 0.070756000000001\n",
       "17. 21.473956\n",
       "18. 25.341156\n",
       "19. 0.111556\n",
       "20. 83.429956\n",
       "21. 108.868356\n",
       "22. 27.730756\n",
       "23. 19.660356\n",
       "24. 8.79715600000001\n",
       "25. 4.137156\n",
       "26. 36.409156\n",
       "27. 149.670756\n",
       "28. 199.769956\n",
       "29. 36.409156\n",
       "30. 1243.690756\n",
       "31. 1.136356\n",
       "32. 37.625956\n",
       "33. 236.113956\n",
       "34. 43959.831556\n",
       "35. 108.868356\n",
       "36. 130.736356\n",
       "37. 164.711556\n",
       "38. 100.681156\n",
       "39. 71.132356\n",
       "40. 821.739556\n",
       "41. 106.791556\n",
       "42. 14.699556\n",
       "43. 69.989956\n",
       "44. 52.330756\n",
       "45. 59.814756\n",
       "46. 321.628356\n",
       "47. 0.443556000000001\n",
       "48. 776.513956\n",
       "49. 12.489156\n",
       "50. 4.691556\n",
       "51. 53.787556\n",
       "52. 108.868356\n",
       "53. 333.646756\n",
       "54. 32.878756\n",
       "55. 2.353156\n",
       "56. 123.965956\n",
       "57. 36.409156\n",
       "58. 36.409156\n",
       "59. 23.367556\n",
       "60. 44.435556\n",
       "61. 67.798756\n",
       "62. 17.926756\n",
       "63. 0.872356000000002\n",
       "64. 5.447556\n",
       "65. 79.816356\n",
       "66. 172.501956\n",
       "67. 113.081956\n",
       "68. 6.42115599999999\n",
       "69. 91.508356\n",
       "70. 157.101156\n",
       "71. 2.452356\n",
       "72. 45.778756\n",
       "73. 103.347556\n",
       "74. 48.080356\n",
       "75. 0.133956\n",
       "76. 2.149156\n",
       "77. 34.035556\n",
       "78. 1080.173956\n",
       "79. 3.865156\n",
       "80. 4.691556\n",
       "81. 0.111556\n",
       "82. 13.205956\n",
       "83. 6.58435599999999\n",
       "84. 63.457156\n",
       "85. 0.695555999999999\n",
       "86. 55.264356\n",
       "87. 11.792356\n",
       "88. 78.039556\n",
       "89. 109.537156\n",
       "90. 117.375556\n",
       "91. 111.640356\n",
       "92. 9.821956\n",
       "93. 32.878756\n",
       "94. 76.282756\n",
       "95. 152.917956\n",
       "96. 83.429956\n",
       "97. 183.169156\n",
       "98. 9.20515599999999\n",
       "99. 18.783556\n",
       "100. 110.965156\n",
       "\n",
       "\n"
      ],
      "text/plain": [
       "  [1]     1.522756     9.400356     3.118756   328.841956   126.202756\n",
       "  [6]    37.625956     2.669956   147.233956    78.039556    12.013156\n",
       " [11]   152.127556    46.703556   679.436356    36.409156   253.892356\n",
       " [16]     0.070756    21.473956    25.341156     0.111556    83.429956\n",
       " [21]   108.868356    27.730756    19.660356     8.797156     4.137156\n",
       " [26]    36.409156   149.670756   199.769956    36.409156  1243.690756\n",
       " [31]     1.136356    37.625956   236.113956 43959.831556   108.868356\n",
       " [36]   130.736356   164.711556   100.681156    71.132356   821.739556\n",
       " [41]   106.791556    14.699556    69.989956    52.330756    59.814756\n",
       " [46]   321.628356     0.443556   776.513956    12.489156     4.691556\n",
       " [51]    53.787556   108.868356   333.646756    32.878756     2.353156\n",
       " [56]   123.965956    36.409156    36.409156    23.367556    44.435556\n",
       " [61]    67.798756    17.926756     0.872356     5.447556    79.816356\n",
       " [66]   172.501956   113.081956     6.421156    91.508356   157.101156\n",
       " [71]     2.452356    45.778756   103.347556    48.080356     0.133956\n",
       " [76]     2.149156    34.035556  1080.173956     3.865156     4.691556\n",
       " [81]     0.111556    13.205956     6.584356    63.457156     0.695556\n",
       " [86]    55.264356    11.792356    78.039556   109.537156   117.375556\n",
       " [91]   111.640356     9.821956    32.878756    76.282756   152.917956\n",
       " [96]    83.429956   183.169156     9.205156    18.783556   110.965156"
      ]
     },
     "metadata": {},
     "output_type": "display_data"
    }
   ],
   "source": [
    "squared_diff = mean_roe_diff^2; squared_diff"
   ]
  },
  {
   "cell_type": "code",
   "execution_count": 8,
   "metadata": {},
   "outputs": [
    {
     "data": {
      "text/html": [
       "55011.2444"
      ],
      "text/latex": [
       "55011.2444"
      ],
      "text/markdown": [
       "55011.2444"
      ],
      "text/plain": [
       "[1] 55011.24"
      ]
     },
     "metadata": {},
     "output_type": "display_data"
    }
   ],
   "source": [
    "squared_diff_sum = sum(squared_diff); squared_diff_sum"
   ]
  },
  {
   "cell_type": "code",
   "execution_count": 12,
   "metadata": {},
   "outputs": [
    {
     "data": {
      "text/html": [
       "23.4544759907358"
      ],
      "text/latex": [
       "23.4544759907358"
      ],
      "text/markdown": [
       "23.4544759907358"
      ],
      "text/plain": [
       "[1] 23.45448"
      ]
     },
     "metadata": {},
     "output_type": "display_data"
    }
   ],
   "source": [
    "stdev = sqrt(squared_diff_sum / length(Financial$roe)); stdev"
   ]
  },
  {
   "cell_type": "markdown",
   "metadata": {},
   "source": [
    "Let's compare the manual way of computing standard deviation with the in built function `sd` "
   ]
  },
  {
   "cell_type": "code",
   "execution_count": 25,
   "metadata": {},
   "outputs": [
    {
     "data": {
      "text/html": [
       "23.5726353077787"
      ],
      "text/latex": [
       "23.5726353077787"
      ],
      "text/markdown": [
       "23.5726353077787"
      ],
      "text/plain": [
       "[1] 23.57264"
      ]
     },
     "metadata": {},
     "output_type": "display_data"
    }
   ],
   "source": [
    "ib_stdev <- sd(Financial$roe); ib_stdev"
   ]
  },
  {
   "cell_type": "markdown",
   "metadata": {},
   "source": [
    "The difference between the manual way and in built way is"
   ]
  },
  {
   "cell_type": "code",
   "execution_count": 26,
   "metadata": {},
   "outputs": [
    {
     "data": {
      "text/html": [
       "0.118159317042952"
      ],
      "text/latex": [
       "0.118159317042952"
      ],
      "text/markdown": [
       "0.118159317042952"
      ],
      "text/plain": [
       "[1] 0.1181593"
      ]
     },
     "metadata": {},
     "output_type": "display_data"
    }
   ],
   "source": [
    "ib_stdev - st_dev"
   ]
  },
  {
   "cell_type": "markdown",
   "metadata": {},
   "source": [
    "Let's view the skewness of rev, assets, roe, dps, and ppe. First we need to define the formula for skewness"
   ]
  },
  {
   "cell_type": "code",
   "execution_count": 35,
   "metadata": {},
   "outputs": [
    {
     "data": {
      "text/html": [
       "6.0945881058412"
      ],
      "text/latex": [
       "6.0945881058412"
      ],
      "text/markdown": [
       "6.0945881058412"
      ],
      "text/plain": [
       "[1] 6.094588"
      ]
     },
     "metadata": {},
     "output_type": "display_data"
    }
   ],
   "source": [
    "skewness <- function(x) {\n",
    "    return(x %>%\n",
    "           mean %>%\n",
    "           minus(x, .) %>%\n",
    "           divide_by(sd(x)) %>%\n",
    "           pow(3) %>%\n",
    "           mean\n",
    "          )\n",
    "}\n",
    "\n",
    "skewness(Financial$assets)"
   ]
  },
  {
   "cell_type": "code",
   "execution_count": 71,
   "metadata": {},
   "outputs": [
    {
     "name": "stdout",
     "output_type": "stream",
     "text": [
      "[1] \"Skewness of rev is 4.38455\"\n",
      "[1] \"Skewness of assets is 6.09459\"\n",
      "[1] \"Skewness of roe is 7.11518\"\n",
      "[1] \"Skewness of ppe is 7.77205\"\n",
      "[1] \"Skewness of dps is 1.05438\"\n"
     ]
    }
   ],
   "source": [
    "col_names <- c(\"rev\", \"assets\", \"roe\", \"ppe\", \"dps\")\n",
    "\n",
    "for (i in seq_along(col_names)) {\n",
    "    col_data <- Financial[col_names][[i]]\n",
    "    out <- sprintf(\"Skewness of %s is %g\", col_names[i], skewness(col_data))\n",
    "    print(out)\n",
    "}"
   ]
  },
  {
   "cell_type": "code",
   "execution_count": 74,
   "metadata": {},
   "outputs": [
    {
     "data": {
      "image/png": "[encoded data removed]",
      "text/plain": [
       "Plot with title “Histogram of Financial$assets”"
      ]
     },
     "metadata": {},
     "output_type": "display_data"
    }
   ],
   "source": [
    "hist(Financial$assets, n=100)"
   ]
  },
  {
   "cell_type": "code",
   "execution_count": 75,
   "metadata": {},
   "outputs": [
    {
     "data": {
      "image/png": "[encoded data removed]",
      "text/plain": [
       "Plot with title “Histogram of Financial$dps”"
      ]
     },
     "metadata": {},
     "output_type": "display_data"
    }
   ],
   "source": [
    "hist(Financial$dps, n=100)"
   ]
  },
  {
   "cell_type": "code",
   "execution_count": 77,
   "metadata": {},
   "outputs": [
    {
     "data": {
      "image/png": "[encoded data removed]",
      "text/plain": [
       "plot without title"
      ]
     },
     "metadata": {},
     "output_type": "display_data"
    }
   ],
   "source": [
    "boxplot(Financial[c(\"yield\", \"dps\")])"
   ]
  },
  {
   "cell_type": "code",
   "execution_count": 84,
   "metadata": {},
   "outputs": [
    {
     "data": {
      "text/html": [
       "'stdev of yield: 1.7376'"
      ],
      "text/latex": [
       "'stdev of yield: 1.7376'"
      ],
      "text/markdown": [
       "'stdev of yield: 1.7376'"
      ],
      "text/plain": [
       "[1] \"stdev of yield: 1.7376\""
      ]
     },
     "metadata": {},
     "output_type": "display_data"
    },
    {
     "data": {
      "text/html": [
       "'stdev of dps: 0.659244'"
      ],
      "text/latex": [
       "'stdev of dps: 0.659244'"
      ],
      "text/markdown": [
       "'stdev of dps: 0.659244'"
      ],
      "text/plain": [
       "[1] \"stdev of dps: 0.659244\""
      ]
     },
     "metadata": {},
     "output_type": "display_data"
    }
   ],
   "source": [
    "sprintf(\"stdev of yield: %g\", sd(Financial$yield))\n",
    "sprintf(\"stdev of dps: %g\", sd(Financial$dps))"
   ]
  },
  {
   "cell_type": "code",
   "execution_count": 86,
   "metadata": {},
   "outputs": [
    {
     "ename": "ERROR",
     "evalue": "Error in corrplot(cor(Financial[, 3:9])): could not find function \"corrplot\"\n",
     "output_type": "error",
     "traceback": [
      "Error in corrplot(cor(Financial[, 3:9])): could not find function \"corrplot\"\nTraceback:\n"
     ]
    }
   ],
   "source": [
    "corrplot(cor(Financial[,3:9]))"
   ]
  }
 ],
 "metadata": {
  "kernelspec": {
   "display_name": "R",
   "language": "R",
   "name": "ir"
  },
  "language_info": {
   "codemirror_mode": "r",
   "file_extension": ".r",
   "mimetype": "text/x-r-source",
   "name": "R",
   "pygments_lexer": "r",
   "version": "3.5.1"
  }
 },
 "nbformat": 4,
 "nbformat_minor": 2
}
